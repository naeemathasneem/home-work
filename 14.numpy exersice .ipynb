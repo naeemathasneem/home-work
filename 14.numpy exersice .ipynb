{
 "cells": [
  {
   "cell_type": "markdown",
   "id": "ce8c92c0",
   "metadata": {},
   "source": [
    "1.Create a NumPy array a with values 1 through 9. Reshape the array to a 3x3 matrix.\n"
   ]
  },
  {
   "cell_type": "code",
   "execution_count": 2,
   "id": "1dce0558",
   "metadata": {},
   "outputs": [
    {
     "name": "stdout",
     "output_type": "stream",
     "text": [
      "[[1 2 3]\n",
      " [4 5 6]\n",
      " [7 8 9]]\n"
     ]
    }
   ],
   "source": [
    "import numpy as np\n",
    "a = np.arange(1,10)\n",
    "print(a.reshape(3,3))\n"
   ]
  },
  {
   "cell_type": "markdown",
   "id": "db4062e5",
   "metadata": {},
   "source": [
    " 2.Create a NumPy array b with values 5 through 13. Reshape the array to a 3x3 matrix. "
   ]
  },
  {
   "cell_type": "code",
   "execution_count": 3,
   "id": "757013c4",
   "metadata": {},
   "outputs": [
    {
     "name": "stdout",
     "output_type": "stream",
     "text": [
      "[[ 5  6  7]\n",
      " [ 8  9 10]\n",
      " [11 12 13]]\n"
     ]
    }
   ],
   "source": [
    "import numpy as np\n",
    "b= np.arange(5,14)\n",
    "print(b.reshape(3,3))"
   ]
  },
  {
   "cell_type": "markdown",
   "id": "b00fa006",
   "metadata": {},
   "source": [
    "3.Multiply the matrix a by the matrix b using the @ operator. "
   ]
  },
  {
   "cell_type": "code",
   "execution_count": 4,
   "id": "990dd362",
   "metadata": {},
   "outputs": [
    {
     "name": "stdout",
     "output_type": "stream",
     "text": [
      "[[ 54  60  66]\n",
      " [126 141 156]\n",
      " [198 222 246]]\n"
     ]
    }
   ],
   "source": [
    "a = np.array([[1,2,3],\n",
    "              [4,5,6],\n",
    "              [7,8,9]])\n",
    "\n",
    "b= np.array([[5,6,7],\n",
    "             [ 8,9,10],\n",
    "             [11,12,13]])\n",
    "\n",
    "result = a @ b\n",
    "print(result)"
   ]
  },
  {
   "cell_type": "markdown",
   "id": "bbe7976c",
   "metadata": {},
   "source": [
    "4.Compute the dot product of the first row of a with the first column of b."
   ]
  },
  {
   "cell_type": "code",
   "execution_count": 5,
   "id": "83acc924",
   "metadata": {},
   "outputs": [
    {
     "name": "stdout",
     "output_type": "stream",
     "text": [
      "54\n"
     ]
    }
   ],
   "source": [
    "a = np.array([[1,2,3],\n",
    "              [4,5,6],\n",
    "              [7,8,9]])\n",
    "\n",
    "b= np.array([[5,6,7],\n",
    "             [ 8,9,10],\n",
    "             [11,12,13]])\n",
    "first_row_a =a[0,:]\n",
    "first_colomn_b = b[:,0]\n",
    "dot_product = np.dot(first_row_a,first_colomn_b )\n",
    "print(dot_product)"
   ]
  },
  {
   "cell_type": "markdown",
   "id": "076e9440",
   "metadata": {},
   "source": [
    " 5.Compute the sum of all the elements in the matrix a. "
   ]
  },
  {
   "cell_type": "code",
   "execution_count": 9,
   "id": "a545a3d7",
   "metadata": {},
   "outputs": [
    {
     "name": "stdout",
     "output_type": "stream",
     "text": [
      "45\n"
     ]
    }
   ],
   "source": [
    "a = np.array([[1,2,3],\n",
    "              [4,5,6],\n",
    "              [7,8,9]])\n",
    "result = np.sum(a)\n",
    "print(result)"
   ]
  },
  {
   "cell_type": "markdown",
   "id": "411e53d5",
   "metadata": {},
   "source": [
    "6.Compute the product of all the elements in the matrix b. "
   ]
  },
  {
   "cell_type": "code",
   "execution_count": 11,
   "id": "ddc4e741",
   "metadata": {},
   "outputs": [
    {
     "name": "stdout",
     "output_type": "stream",
     "text": [
      "259459200\n"
     ]
    }
   ],
   "source": [
    "\n",
    "b= np.array([[5,6,7],\n",
    "             [ 8,9,10],\n",
    "             [11,12,13]])\n",
    "\n",
    "result =np.prod(b)\n",
    "print(result)"
   ]
  },
  {
   "cell_type": "markdown",
   "id": "c7faa543",
   "metadata": {},
   "source": [
    "7.Create a 1D NumPy array c with values [1, 2, 3, 4, 5]. Use the np.insert() function to insert the value 0 at index 2."
   ]
  },
  {
   "cell_type": "code",
   "execution_count": 17,
   "id": "c18c9dec",
   "metadata": {},
   "outputs": [
    {
     "name": "stdout",
     "output_type": "stream",
     "text": [
      "[1 2 0 3 4 5]\n"
     ]
    }
   ],
   "source": [
    "c = np.array( [1, 2, 3, 4, 5])\n",
    "c = np.insert(c,2,0)\n",
    "print(c)"
   ]
  },
  {
   "cell_type": "markdown",
   "id": "9846117a",
   "metadata": {},
   "source": [
    " 8.Create a 1D NumPy array d with values [1, 2, 3, 4, 5]. Use the np.delete() function to delete the value at index 3."
   ]
  },
  {
   "cell_type": "code",
   "execution_count": 19,
   "id": "3a44a2f3",
   "metadata": {},
   "outputs": [
    {
     "name": "stdout",
     "output_type": "stream",
     "text": [
      "[1 2 0 4 5]\n"
     ]
    }
   ],
   "source": [
    "d = np.array( [1, 2, 3, 4, 5])\n",
    "d = np.delete(c,3)\n",
    "print(d)"
   ]
  },
  {
   "cell_type": "markdown",
   "id": "2ef76697",
   "metadata": {},
   "source": [
    " 9.Create a 2D NumPy array e with dimensions 3x4 and values 1 through 12. Use boolean indexing to select all elements greater than 5. "
   ]
  },
  {
   "cell_type": "code",
   "execution_count": 24,
   "id": "66f41921",
   "metadata": {},
   "outputs": [
    {
     "name": "stdout",
     "output_type": "stream",
     "text": [
      "[[False False False False]\n",
      " [ True  True  True  True]\n",
      " [ True  True  True  True]]\n"
     ]
    }
   ],
   "source": [
    "e = np.arange(1,13).reshape(3,4)\n",
    "\n",
    "five_up = (e > 5) | (e == 5)\n",
    "print(five_up)\n"
   ]
  },
  {
   "cell_type": "markdown",
   "id": "90a1fdff",
   "metadata": {},
   "source": [
    "10.Create a 2D NumPy array f with dimensions 4x5 and values 1 through 20. Use fancy indexing to select the elements at positions (0,0), (1,2), and (2,4). "
   ]
  },
  {
   "cell_type": "code",
   "execution_count": 26,
   "id": "a4d03f34",
   "metadata": {},
   "outputs": [
    {
     "name": "stdout",
     "output_type": "stream",
     "text": [
      "Array f:\n",
      "[[ 1  2  3  4  5]\n",
      " [ 6  7  8  9 10]\n",
      " [11 12 13 14 15]\n",
      " [16 17 18 19 20]]\n",
      "Selected elements: [ 1  8 15]\n"
     ]
    }
   ],
   "source": [
    "f= np.arange(1,21).reshape(4,5)\n",
    "\n",
    "elements = f[[0,1,2],[0,2,4]]\n",
    "\n",
    "print(f\"Array f:\\n{f}\")\n",
    "print(f\"Selected elements: {elements}\")"
   ]
  },
  {
   "cell_type": "markdown",
   "id": "f759620e",
   "metadata": {},
   "source": [
    "11.Create a 2D NumPy array a with dimensions 5x5 and values 0.5 in the diagonal and 0 elsewhere."
   ]
  },
  {
   "cell_type": "code",
   "execution_count": 10,
   "id": "1ec24d55",
   "metadata": {},
   "outputs": [
    {
     "name": "stdout",
     "output_type": "stream",
     "text": [
      "[[0.5 0.  0.  0.  0. ]\n",
      " [0.  0.5 0.  0.  0. ]\n",
      " [0.  0.  0.5 0.  0. ]\n",
      " [0.  0.  0.  0.5 0. ]\n",
      " [0.  0.  0.  0.  0.5]]\n"
     ]
    }
   ],
   "source": [
    "a= np.eye(5)*0.5\n",
    "print(a)"
   ]
  },
  {
   "cell_type": "markdown",
   "id": "c7bf6953",
   "metadata": {},
   "source": [
    "12.Create a 3D NumPy array b with dimensions 3x3x3 and random integer values between 0 and 10.\n"
   ]
  },
  {
   "cell_type": "code",
   "execution_count": 5,
   "id": "06976dac",
   "metadata": {},
   "outputs": [
    {
     "name": "stdout",
     "output_type": "stream",
     "text": [
      "[[[ 9  0  9]\n",
      "  [ 0  8  6]\n",
      "  [ 5  5  5]]\n",
      "\n",
      " [[ 1  8  6]\n",
      "  [10  9  7]\n",
      "  [ 9  9  7]]\n",
      "\n",
      " [[ 8  9  8]\n",
      "  [ 1  3 10]\n",
      "  [ 7 10  6]]]\n"
     ]
    }
   ],
   "source": [
    "b = np.random.randint(0,11,size = (3,3,3))\n",
    "print(b)"
   ]
  },
  {
   "cell_type": "markdown",
   "id": "aae85b77",
   "metadata": {},
   "source": [
    "13.Compute the mean of each row of the matrix b.\n"
   ]
  },
  {
   "cell_type": "code",
   "execution_count": 8,
   "id": "c83970d6",
   "metadata": {},
   "outputs": [
    {
     "name": "stdout",
     "output_type": "stream",
     "text": [
      "[[[ 9  0  9]\n",
      "  [ 0  8  6]\n",
      "  [ 5  5  5]]\n",
      "\n",
      " [[ 1  8  6]\n",
      "  [10  9  7]\n",
      "  [ 9  9  7]]\n",
      "\n",
      " [[ 8  9  8]\n",
      "  [ 1  3 10]\n",
      "  [ 7 10  6]]]\n",
      " mean of each row of the matrix b\n",
      "[[4.66666667 4.33333333 6.66666667]\n",
      " [6.66666667 8.66666667 6.66666667]\n",
      " [5.33333333 7.33333333 8.        ]]\n"
     ]
    }
   ],
   "source": [
    "import numpy as np\n",
    "print(b)\n",
    "print(\" mean of each row of the matrix b\")\n",
    "row_mean =np.mean(b,axis = 1)\n",
    "print(row_mean)"
   ]
  },
  {
   "cell_type": "markdown",
   "id": "af40992a",
   "metadata": {},
   "source": [
    "14.Compute the standard deviation of each column of the matrix a.\n"
   ]
  },
  {
   "cell_type": "code",
   "execution_count": 11,
   "id": "0205da5e",
   "metadata": {},
   "outputs": [
    {
     "name": "stdout",
     "output_type": "stream",
     "text": [
      "[[0.5 0.  0.  0.  0. ]\n",
      " [0.  0.5 0.  0.  0. ]\n",
      " [0.  0.  0.5 0.  0. ]\n",
      " [0.  0.  0.  0.5 0. ]\n",
      " [0.  0.  0.  0.  0.5]]\n",
      " standard deviation of each column of the matrix a.\n",
      "[0.2 0.2 0.2 0.2 0.2]\n"
     ]
    }
   ],
   "source": [
    "print(a)\n",
    "\n",
    "column_std = np.std(a,axis=0)\n",
    "print(\" standard deviation of each column of the matrix a.\")\n",
    "print(column_std)"
   ]
  },
  {
   "cell_type": "markdown",
   "id": "1c3bf942",
   "metadata": {},
   "source": [
    "15.Compute the matrix multiplication of a with its transpose.\n"
   ]
  },
  {
   "cell_type": "code",
   "execution_count": 13,
   "id": "dcdd0611",
   "metadata": {},
   "outputs": [
    {
     "name": "stdout",
     "output_type": "stream",
     "text": [
      "matrix multiplication of a with its transpose:\n",
      "[[0.25 0.   0.   0.   0.  ]\n",
      " [0.   0.25 0.   0.   0.  ]\n",
      " [0.   0.   0.25 0.   0.  ]\n",
      " [0.   0.   0.   0.25 0.  ]\n",
      " [0.   0.   0.   0.   0.25]]\n"
     ]
    }
   ],
   "source": [
    "import numpy as np\n",
    "\n",
    "trans_a = a.T\n",
    "result =np.dot(a,trans_a)\n",
    "print(\"matrix multiplication of a with its transpose:\")\n",
    "print(result)"
   ]
  },
  {
   "cell_type": "markdown",
   "id": "0ec3cef4",
   "metadata": {},
   "source": [
    "16.Create a 2D NumPy array c with dimensions 6x6 and values 1 in the diagonal and 0 elsewhere. Use the np.roll() function to shift the values in each row to the right by one position.\n"
   ]
  },
  {
   "cell_type": "code",
   "execution_count": 19,
   "id": "9a045f7d",
   "metadata": {},
   "outputs": [
    {
     "name": "stdout",
     "output_type": "stream",
     "text": [
      "[[1. 0. 0. 0. 0. 0.]\n",
      " [0. 1. 0. 0. 0. 0.]\n",
      " [0. 0. 1. 0. 0. 0.]\n",
      " [0. 0. 0. 1. 0. 0.]\n",
      " [0. 0. 0. 0. 1. 0.]\n",
      " [0. 0. 0. 0. 0. 1.]]\n",
      "========================\n",
      "the shifted 2D array is :\n",
      "[[0. 1. 0. 0. 0. 0.]\n",
      " [0. 0. 1. 0. 0. 0.]\n",
      " [0. 0. 0. 1. 0. 0.]\n",
      " [0. 0. 0. 0. 1. 0.]\n",
      " [0. 0. 0. 0. 0. 1.]\n",
      " [1. 0. 0. 0. 0. 0.]]\n"
     ]
    }
   ],
   "source": [
    "c= np.eye(6)*1\n",
    "print(c)\n",
    "print(\"========================\")\n",
    "print(\"the shifted 2D array is :\")\n",
    "result = np.roll(a,shift=1,axis=1)\n",
    "print(result)"
   ]
  },
  {
   "cell_type": "markdown",
   "id": "01498d99",
   "metadata": {},
   "source": [
    "17.Create a 2D NumPy array d with dimensions 4x4 and random values between 0 and 1. Normalize the values in each row to have a sum of 1.\n"
   ]
  },
  {
   "cell_type": "code",
   "execution_count": 25,
   "id": "91fed34c",
   "metadata": {},
   "outputs": [
    {
     "name": "stdout",
     "output_type": "stream",
     "text": [
      "[[0.68361571 0.62654069 0.92049889 0.2131012 ]\n",
      " [0.45957904 0.22919826 0.45361636 0.25866441]\n",
      " [0.08908947 0.70364074 0.29363751 0.94256698]\n",
      " [0.92739533 0.55323851 0.5769299  0.40226337]]\n",
      "===================\n",
      "normalized d is:\n",
      "[[0.2797397  0.25638425 0.37667374 0.08720231]\n",
      " [0.32802283 0.16358941 0.32376699 0.18462077]\n",
      " [0.04390948 0.34680305 0.14472497 0.4645625 ]\n",
      " [0.37701647 0.22490951 0.23454083 0.16353319]]\n"
     ]
    }
   ],
   "source": [
    "d = np.random.rand(4,4)\n",
    "print(d)\n",
    "print(\"===================\")\n",
    "normalized_d = d /d.sum(axis = 1,keepdims=True)\n",
    "print(\"normalized d is:\")\n",
    "print(normalized_d)"
   ]
  },
  {
   "cell_type": "markdown",
   "id": "562907c2",
   "metadata": {},
   "source": [
    "18.Create a 2D NumPy array e with dimensions 3x3 and values 1 through 9. Use the np.flipud() function to flip the matrix vertically.\n"
   ]
  },
  {
   "cell_type": "code",
   "execution_count": 35,
   "id": "a798cd43",
   "metadata": {},
   "outputs": [
    {
     "name": "stdout",
     "output_type": "stream",
     "text": [
      "[[1 2 3]\n",
      " [4 5 6]\n",
      " [7 8 9]]\n",
      "=============\n",
      "[[7 8 9]\n",
      " [4 5 6]\n",
      " [1 2 3]]\n"
     ]
    }
   ],
   "source": [
    "e = np.arange(1,10).reshape(3,3)\n",
    "print(e)\n",
    "fliped_e = np.flipud(e)\n",
    "print(\"=============\")\n",
    "print(fliped_e)"
   ]
  },
  {
   "cell_type": "markdown",
   "id": "aff4c609",
   "metadata": {},
   "source": [
    "19.Create a 2D NumPy array f with dimensions 4x4 and random integer values between 0 and 10. Sort the values in each row in ascending order.\n"
   ]
  },
  {
   "cell_type": "code",
   "execution_count": 44,
   "id": "3f04d280",
   "metadata": {},
   "outputs": [
    {
     "name": "stdout",
     "output_type": "stream",
     "text": [
      "[[ 0  0  7  6]\n",
      " [10  3 10  3]\n",
      " [10  8  1  5]\n",
      " [ 0  9 10  4]]\n",
      "===========================\n",
      "the sorted array is:\n",
      "[[ 0  0  6  7]\n",
      " [ 3  3 10 10]\n",
      " [ 1  5  8 10]\n",
      " [ 0  4  9 10]]\n"
     ]
    }
   ],
   "source": [
    "f = np.random.randint(0,11,size=(4,4))\n",
    "print(f)\n",
    "print(\"===========================\")\n",
    "print(\"the sorted array is:\")\n",
    "ascent_f = np.sort(f,axis=1)\n",
    "print(ascent_f)"
   ]
  },
  {
   "cell_type": "markdown",
   "id": "b5630b08",
   "metadata": {},
   "source": [
    "20.Create a 2D NumPy array g with dimensions 5x5 and values 0 in the diagonal and 1 elsewhere. Use the np.linalg.inv() function to compute the inverse of the matrix.\n"
   ]
  },
  {
   "cell_type": "code",
   "execution_count": 51,
   "id": "6b6411ed",
   "metadata": {},
   "outputs": [
    {
     "name": "stdout",
     "output_type": "stream",
     "text": [
      "[[0. 1. 1. 1. 1.]\n",
      " [1. 0. 1. 1. 1.]\n",
      " [1. 1. 0. 1. 1.]\n",
      " [1. 1. 1. 0. 1.]\n",
      " [1. 1. 1. 1. 0.]]\n",
      "=====================\n",
      "[[-0.75  0.25  0.25  0.25  0.25]\n",
      " [ 0.25 -0.75  0.25  0.25  0.25]\n",
      " [ 0.25  0.25 -0.75  0.25  0.25]\n",
      " [ 0.25  0.25  0.25 -0.75  0.25]\n",
      " [ 0.25  0.25  0.25  0.25 -0.75]]\n"
     ]
    }
   ],
   "source": [
    "g = np.eye(5)*1\n",
    "g= 1-g\n",
    "print(g)\n",
    "\n",
    "print(\"=====================\")\n",
    "inverse_a = np.linalg.inv(g)\n",
    "print(inverse_a)\n"
   ]
  },
  {
   "cell_type": "code",
   "execution_count": null,
   "id": "cc65f059",
   "metadata": {},
   "outputs": [],
   "source": []
  }
 ],
 "metadata": {
  "kernelspec": {
   "display_name": "Python 3 (ipykernel)",
   "language": "python",
   "name": "python3"
  },
  "language_info": {
   "codemirror_mode": {
    "name": "ipython",
    "version": 3
   },
   "file_extension": ".py",
   "mimetype": "text/x-python",
   "name": "python",
   "nbconvert_exporter": "python",
   "pygments_lexer": "ipython3",
   "version": "3.11.5"
  }
 },
 "nbformat": 4,
 "nbformat_minor": 5
}

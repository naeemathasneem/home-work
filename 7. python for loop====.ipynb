{
 "cells": [
  {
   "cell_type": "markdown",
   "id": "95e1491c",
   "metadata": {},
   "source": [
    "1.write a python program to find all pairs of integers in a given array whose sum is equal to a given number."
   ]
  },
  {
   "cell_type": "code",
   "execution_count": 5,
   "id": "7e818dd7",
   "metadata": {},
   "outputs": [
    {
     "name": "stdout",
     "output_type": "stream",
     "text": [
      "enter a number from the given list:6\n",
      "4 2\n",
      "5 1\n",
      "5 1\n"
     ]
    }
   ],
   "source": [
    "numbers = [3,4,5,7,6,5,1,2,9,8]\n",
    "sum = int(input(\"enter a number from the given list:\"))\n",
    "for x in range(0,len(numbers)):\n",
    "    for y in range(x+1,len(numbers)):\n",
    "        if numbers[x]+numbers[y]==sum:\n",
    "            print(numbers[x],numbers[y])"
   ]
  },
  {
   "cell_type": "markdown",
   "id": "9893a0ee",
   "metadata": {},
   "source": [
    "2.write a python program to find the median of a given unsorted list of integers."
   ]
  },
  {
   "cell_type": "code",
   "execution_count": 7,
   "id": "090616cd",
   "metadata": {},
   "outputs": [
    {
     "name": "stdout",
     "output_type": "stream",
     "text": [
      "the sorted list [1, 2, 3, 4, 5, 6, 8, 8, 9, 11, 13, 14]\n",
      "the median of given numbers is  7\n"
     ]
    }
   ],
   "source": [
    "numbers = [3,4,5,6,8,11,13,14,1,2,9,8]\n",
    "numbers.sort()\n",
    "print(\"the sorted list\",numbers)\n",
    "l= len(numbers)\n",
    "middle = l//2\n",
    "\n",
    "for n in range(0,l):\n",
    "    if l % 2 ==0:\n",
    "        middle1 = (l+1)//2 \n",
    "        middle2 = (l-1)//2\n",
    "        median = (numbers[middle1]+numbers[middle2])//2\n",
    "        break\n",
    "    else:\n",
    "        n=(n+1)//2\n",
    "        median = numbers[n]\n",
    "print(\"the median of given numbers is \",median)\n"
   ]
  },
  {
   "cell_type": "markdown",
   "id": "8636b8ec",
   "metadata": {},
   "source": [
    "3.write a python program to find the longest increasing sequence in a given array of integers."
   ]
  },
  {
   "cell_type": "code",
   "execution_count": 6,
   "id": "430bb90d",
   "metadata": {},
   "outputs": [
    {
     "ename": "IndexError",
     "evalue": "list index out of range",
     "output_type": "error",
     "traceback": [
      "\u001b[1;31m---------------------------------------------------------------------------\u001b[0m",
      "\u001b[1;31mIndexError\u001b[0m                                Traceback (most recent call last)",
      "Cell \u001b[1;32mIn[6], line 7\u001b[0m\n\u001b[0;32m      5\u001b[0m \u001b[38;5;28;01mwhile\u001b[39;00m i \u001b[38;5;129;01min\u001b[39;00m \u001b[38;5;28mrange\u001b[39m(\u001b[38;5;241m0\u001b[39m,l):\n\u001b[0;32m      6\u001b[0m     i\u001b[38;5;241m=\u001b[39mi\u001b[38;5;241m+\u001b[39m\u001b[38;5;241m1\u001b[39m\n\u001b[1;32m----> 7\u001b[0m     \u001b[38;5;28;01mif\u001b[39;00m mylist[i]\u001b[38;5;241m>\u001b[39mmylist[i]:\n\u001b[0;32m      8\u001b[0m         \u001b[38;5;28;01mcontinue\u001b[39;00m\n\u001b[0;32m      9\u001b[0m     seq\u001b[38;5;241m.\u001b[39mappend(mylist[i])\n",
      "\u001b[1;31mIndexError\u001b[0m: list index out of range"
     ]
    }
   ],
   "source": [
    "mylist=[10,9,2,5,3,7,101,18]\n",
    "l = len(mylist)\n",
    "seq =[]\n",
    "i=0\n",
    "while i in range(0,l):\n",
    "    i=i+1\n",
    "    if mylist[i]>mylist[i+1]:\n",
    "        continue\n",
    "    seq.append(mylist[i])\n",
    "    \n",
    "print(seq)"
   ]
  },
  {
   "cell_type": "markdown",
   "id": "f03a062a",
   "metadata": {},
   "source": [
    "4.write a python program to find the kth smallest element in a given unsorted array."
   ]
  },
  {
   "cell_type": "code",
   "execution_count": 2,
   "id": "932eaa4f",
   "metadata": {},
   "outputs": [
    {
     "name": "stdout",
     "output_type": "stream",
     "text": [
      "smallest kth element is  2\n",
      "the value of k is  2\n"
     ]
    }
   ],
   "source": [
    "mylist=[10,9,2,5,3,7,101,18]\n",
    "for x in mylist:\n",
    "    if x == min(mylist):\n",
    "        break\n",
    "l = mylist.index(x)\n",
    "print(\"smallest kth element is \",x)\n",
    "print(\"the value of k is \",l)\n",
    "    "
   ]
  },
  {
   "cell_type": "markdown",
   "id": "75f75b8c",
   "metadata": {},
   "source": [
    "5.write a python program to sort a given list of integers using the bubble sort algorithm."
   ]
  },
  {
   "cell_type": "code",
   "execution_count": 6,
   "id": "c8d33947",
   "metadata": {},
   "outputs": [
    {
     "name": "stdout",
     "output_type": "stream",
     "text": [
      "sorted array is :\n",
      "2 3 5 7 9 10 18 101 "
     ]
    }
   ],
   "source": [
    "mylist=[10,9,2,5,3,7,101,18]\n",
    "def bubblesort(mylist):\n",
    "    n= len(mylist)\n",
    "    swapped = False\n",
    "    for i in range(n-1):\n",
    "        for j in range(0,n-i-1):\n",
    "            if mylist[j]>mylist[j+1]:\n",
    "                swapped = True\n",
    "                mylist[j],mylist[j+1] = mylist[j+1],mylist[j]\n",
    "        if not swapped:\n",
    "            return\n",
    "bubblesort(mylist)\n",
    "\n",
    "print(\"sorted array is :\")\n",
    "for i in range(len(mylist)):\n",
    "    print(\"%d\" % mylist[i],end = \" \")"
   ]
  },
  {
   "cell_type": "markdown",
   "id": "996e5d48",
   "metadata": {},
   "source": [
    "6.write a python program to implement a binary search algorithm to search for a given element in a sorted array."
   ]
  },
  {
   "cell_type": "code",
   "execution_count": 9,
   "id": "e1a4bb2f",
   "metadata": {},
   "outputs": [
    {
     "name": "stdout",
     "output_type": "stream",
     "text": [
      "Element is present at index 5\n"
     ]
    }
   ],
   "source": [
    "def binary_search(mylist, low, high, x):\n",
    " \n",
    "    # Check base case\n",
    "    if high >= low:\n",
    " \n",
    "        mid = (high + low) // 2\n",
    " \n",
    "        # If element is present at the middle itself\n",
    "        if mylist[mid] == x:\n",
    "            return mid\n",
    " \n",
    "        # If element is smaller than mid, then it can only\n",
    "        # be present in left subarray\n",
    "        elif mylist[mid] > x:\n",
    "            return binary_search(mylist, low, mid - 1, x)\n",
    " \n",
    "        # Else the element can only be present in right subarray\n",
    "        else:\n",
    "            return binary_search(mylist, mid + 1, high, x)\n",
    " \n",
    "    else:\n",
    "        # Element is not present in the array\n",
    "        return -1\n",
    " \n",
    "\n",
    "mylist=[10,9,2,5,3,7,101,18]\n",
    "mylist.sort()\n",
    "x = 10\n",
    " \n",
    "# Function call\n",
    "result = binary_search(mylist, 0, len(mylist)-1, x)\n",
    " \n",
    "if result != -1:\n",
    "    print(\"Element is present at index\", str(result))\n",
    "else:\n",
    "    print(\"Element is not present in array\")\n"
   ]
  },
  {
   "cell_type": "markdown",
   "id": "863d7cad",
   "metadata": {},
   "source": [
    "7..write a python program to find the largest product of any three elements in a given array of integers."
   ]
  },
  {
   "cell_type": "code",
   "execution_count": 15,
   "id": "18b7cb20",
   "metadata": {},
   "outputs": [
    {
     "name": "stdout",
     "output_type": "stream",
     "text": [
      "the largest product of three elements : 3600\n"
     ]
    }
   ],
   "source": [
    "mylist=[10,9,2,5,3,7,20,18]\n",
    "\n",
    "max_val = mylist[1]\n",
    "\n",
    "for i in range(len(mylist)):\n",
    "    for j in range(i+1, len(mylist)):\n",
    "         for k in range(j+1, len(mylist)):\n",
    "                # Update the maximum value if a larger product is found\n",
    "            max_val = max(mylist[i] * mylist[j] * mylist[k], max_val)\n",
    "                 \n",
    "                \n",
    "print(\"the largest product of three elements :\", max_val)"
   ]
  },
  {
   "cell_type": "markdown",
   "id": "96cb4e28",
   "metadata": {},
   "source": [
    "8.write a python program to find the largest sum of any contiguous subarray in a given array of integers."
   ]
  },
  {
   "cell_type": "code",
   "execution_count": 19,
   "id": "42be41fb",
   "metadata": {},
   "outputs": [
    {
     "name": "stdout",
     "output_type": "stream",
     "text": [
      "array is : [10, 9, 2, 5, 3, 7, 20, 18]\n",
      "the largest sum of contigues subarray is : 74\n"
     ]
    }
   ],
   "source": [
    "mylist=[10,9,2,5,3,7,20,18]\n",
    "l = len(mylist)\n",
    "large_sum =0\n",
    "n=0\n",
    "for i in range(l):\n",
    "    large_sum = large_sum+mylist[i]\n",
    "    if (large_sum <0):\n",
    "        large_sum = 0\n",
    "    elif(large_sum<n):\n",
    "        large_sum = n\n",
    "print(\"array is :\",mylist)\n",
    "print(\"the largest sum of contigues subarray is :\",large_sum)"
   ]
  },
  {
   "cell_type": "markdown",
   "id": "6aa7b1df",
   "metadata": {},
   "source": [
    "9.write a python program to find the common elements between two given arrays of integers."
   ]
  },
  {
   "cell_type": "code",
   "execution_count": 1,
   "id": "ec5d940c",
   "metadata": {},
   "outputs": [
    {
     "name": "stdout",
     "output_type": "stream",
     "text": [
      "[4, 4]\n",
      "[5, 5]\n",
      "[7, 7]\n",
      "[6, 6]\n",
      "[1, 1]\n",
      "[2, 2]\n",
      "[8, 8]\n"
     ]
    }
   ],
   "source": [
    "numbers1 = [3,4,5,7,6,1,2,9,8]\n",
    "numbers2 = [4,2,8,7,6,5,1]\n",
    "for x in numbers1:\n",
    "    for y in numbers2:\n",
    "        z=[]\n",
    "        if x==y:\n",
    "            z.append(x)\n",
    "            z.append(y)\n",
    "            print(z)"
   ]
  },
  {
   "cell_type": "markdown",
   "id": "29f4d2b4",
   "metadata": {},
   "source": [
    "10. write a python program to find the longest palindrome substring in a given string."
   ]
  },
  {
   "cell_type": "code",
   "execution_count": 5,
   "id": "d9db6459",
   "metadata": {},
   "outputs": [
    {
     "name": "stdout",
     "output_type": "stream",
     "text": [
      "madam\n"
     ]
    }
   ],
   "source": [
    "def longpal(str):\n",
    "    def check(l,r):\n",
    "        while l>=0 and r<len(str) and str[l]==str[r]:\n",
    "            l-=1\n",
    "            r+=1\n",
    "        return str[l+1:r]\n",
    "    \n",
    "    res=\"\"\n",
    "    for i in range(len(str)):\n",
    "        temp=check(i,i)\n",
    "        if len(temp)>len(res):\n",
    "            res=temp\n",
    "        temp=check(i,i+1)\n",
    "    return res\n",
    "str=\"abmadamadcd\"\n",
    "print(longpal(str))\n",
    "    \n"
   ]
  },
  {
   "cell_type": "code",
   "execution_count": null,
   "id": "302cd3a6",
   "metadata": {},
   "outputs": [],
   "source": []
  },
  {
   "cell_type": "code",
   "execution_count": null,
   "id": "acb1359d",
   "metadata": {},
   "outputs": [],
   "source": []
  }
 ],
 "metadata": {
  "kernelspec": {
   "display_name": "Python 3 (ipykernel)",
   "language": "python",
   "name": "python3"
  },
  "language_info": {
   "codemirror_mode": {
    "name": "ipython",
    "version": 3
   },
   "file_extension": ".py",
   "mimetype": "text/x-python",
   "name": "python",
   "nbconvert_exporter": "python",
   "pygments_lexer": "ipython3",
   "version": "3.11.5"
  }
 },
 "nbformat": 4,
 "nbformat_minor": 5
}

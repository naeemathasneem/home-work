{
 "cells": [
  {
   "cell_type": "markdown",
   "id": "95e1491c",
   "metadata": {},
   "source": [
    "1.write a python program to find all pairs of integers in a given array whose sum is equal to a given number."
   ]
  },
  {
   "cell_type": "code",
   "execution_count": 5,
   "id": "7e818dd7",
   "metadata": {},
   "outputs": [
    {
     "name": "stdout",
     "output_type": "stream",
     "text": [
      "enter a number from the given list:6\n",
      "4 2\n",
      "5 1\n",
      "5 1\n"
     ]
    }
   ],
   "source": [
    "numbers = [3,4,5,7,6,5,1,2,9,8]\n",
    "sum = int(input(\"enter a number from the given list:\"))\n",
    "for x in range(0,len(numbers)):\n",
    "    for y in range(x+1,len(numbers)):\n",
    "        if numbers[x]+numbers[y]==sum:\n",
    "            print(numbers[x],numbers[y])"
   ]
  },
  {
   "cell_type": "markdown",
   "id": "9893a0ee",
   "metadata": {},
   "source": [
    "2.write a python program to find the median of a given unsorted list of integers."
   ]
  },
  {
   "cell_type": "code",
   "execution_count": null,
   "id": "090616cd",
   "metadata": {},
   "outputs": [],
   "source": [
    "numbers = [3,4,5,7,6,5,1,2,9,8]\n",
    "numbers1 =sort.numbers\n",
    "elemets = len(numbers1)\n"
   ]
  },
  {
   "cell_type": "markdown",
   "id": "8636b8ec",
   "metadata": {},
   "source": [
    "3.write a python program to find the longest increasing sequence in a given array of integers."
   ]
  },
  {
   "cell_type": "code",
   "execution_count": null,
   "id": "430bb90d",
   "metadata": {},
   "outputs": [],
   "source": []
  },
  {
   "cell_type": "markdown",
   "id": "f03a062a",
   "metadata": {},
   "source": [
    "4.write a python program to find the kth smallest element in a given unsorted array."
   ]
  },
  {
   "cell_type": "code",
   "execution_count": null,
   "id": "932eaa4f",
   "metadata": {},
   "outputs": [],
   "source": []
  },
  {
   "cell_type": "markdown",
   "id": "75f75b8c",
   "metadata": {},
   "source": [
    "5.write a python program to sort a given list of integers using the bubble sort algorithm."
   ]
  },
  {
   "cell_type": "code",
   "execution_count": null,
   "id": "c8d33947",
   "metadata": {},
   "outputs": [],
   "source": []
  },
  {
   "cell_type": "markdown",
   "id": "996e5d48",
   "metadata": {},
   "source": [
    "6.write a python program to implement a binary search algorithm to search for a given element in a sorted array."
   ]
  },
  {
   "cell_type": "code",
   "execution_count": null,
   "id": "e1a4bb2f",
   "metadata": {},
   "outputs": [],
   "source": []
  },
  {
   "cell_type": "markdown",
   "id": "863d7cad",
   "metadata": {},
   "source": [
    "7..write a python program to find the largest product of any three elements in a given array of integers."
   ]
  },
  {
   "cell_type": "code",
   "execution_count": null,
   "id": "18b7cb20",
   "metadata": {},
   "outputs": [],
   "source": []
  },
  {
   "cell_type": "markdown",
   "id": "96cb4e28",
   "metadata": {},
   "source": [
    "8.write a python program to find the largest sum of any contiguous subarray in a given array of integers."
   ]
  },
  {
   "cell_type": "code",
   "execution_count": null,
   "id": "42be41fb",
   "metadata": {},
   "outputs": [],
   "source": []
  },
  {
   "cell_type": "markdown",
   "id": "6aa7b1df",
   "metadata": {},
   "source": [
    "9.write a python program to find the common elements between two given arrays of integers."
   ]
  },
  {
   "cell_type": "code",
   "execution_count": 6,
   "id": "ec5d940c",
   "metadata": {},
   "outputs": [
    {
     "name": "stdout",
     "output_type": "stream",
     "text": [
      "[4, 4]\n",
      "[7, 7]\n",
      "[6, 6]\n",
      "[1, 1]\n",
      "[2, 2]\n",
      "[8, 8]\n"
     ]
    }
   ],
   "source": [
    "numbers1 = [3,4,5,7,6,5,1,2,9,8]\n",
    "numbers2 = [4,2,8,7,6,1]\n",
    "for x in numbers1:\n",
    "    for y in numbers2:\n",
    "        z=[]\n",
    "        if x==y:\n",
    "            z.append(x)\n",
    "            z.append(y)\n",
    "            print(z)"
   ]
  },
  {
   "cell_type": "markdown",
   "id": "29f4d2b4",
   "metadata": {},
   "source": [
    "10. write a python program to find the longest palindrome substring in a given string."
   ]
  },
  {
   "cell_type": "code",
   "execution_count": 6,
   "id": "d9db6459",
   "metadata": {},
   "outputs": [
    {
     "name": "stdout",
     "output_type": "stream",
     "text": [
      "enter a string:level\n",
      "level is the longest palindrom substring\n"
     ]
    }
   ],
   "source": [
    "x = input(\"enter a string:\")\n",
    "y = x[::-1] \n",
    "if x==y:\n",
    "    print(x ,\"is the longest palindrom substring\")\n",
    "elif :\n",
    "    z=x.pop()\n",
    "    for i in range(1,len(x)):\n",
    "        i-1 == i+1\n",
    "        i-2 == i+2\n",
    "        \n",
    "    \n"
   ]
  },
  {
   "cell_type": "code",
   "execution_count": null,
   "id": "302cd3a6",
   "metadata": {},
   "outputs": [],
   "source": []
  }
 ],
 "metadata": {
  "kernelspec": {
   "display_name": "Python 3 (ipykernel)",
   "language": "python",
   "name": "python3"
  },
  "language_info": {
   "codemirror_mode": {
    "name": "ipython",
    "version": 3
   },
   "file_extension": ".py",
   "mimetype": "text/x-python",
   "name": "python",
   "nbconvert_exporter": "python",
   "pygments_lexer": "ipython3",
   "version": "3.11.5"
  }
 },
 "nbformat": 4,
 "nbformat_minor": 5
}

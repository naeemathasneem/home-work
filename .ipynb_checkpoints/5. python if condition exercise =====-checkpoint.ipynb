{
 "cells": [
  {
   "cell_type": "markdown",
   "id": "1642be8d",
   "metadata": {},
   "source": [
    "# python conditions exercise"
   ]
  },
  {
   "cell_type": "markdown",
   "id": "6e536a4f",
   "metadata": {},
   "source": [
    "1. write a progarm that takes an integer as input and prints, whether it's positive, negetive, or zero"
   ]
  },
  {
   "cell_type": "code",
   "execution_count": 3,
   "id": "bd32792c",
   "metadata": {},
   "outputs": [
    {
     "name": "stdout",
     "output_type": "stream",
     "text": [
      "integer:0\n",
      "given integer is zero\n"
     ]
    }
   ],
   "source": [
    "a = int(input(\"integer:\"))\n",
    "if (a>0):\n",
    "    print(\"given integer is positive\")\n",
    "elif(a<0):\n",
    "    print(\"given integer is negetive\")\n",
    "else:\n",
    "    print(\"given integer is zero\")"
   ]
  },
  {
   "cell_type": "markdown",
   "id": "5069aff1",
   "metadata": {},
   "source": [
    "2. create a program that takes a student's score as input and prints their corresponding grade based on the following scale:\n",
    "       "
   ]
  },
  {
   "cell_type": "markdown",
   "id": "36014615",
   "metadata": {},
   "source": [
    " 90 or above : A"
   ]
  },
  {
   "cell_type": "markdown",
   "id": "c1913a19",
   "metadata": {},
   "source": [
    "80-89 : B"
   ]
  },
  {
   "cell_type": "markdown",
   "id": "7c3bd02c",
   "metadata": {},
   "source": [
    "70-79 : C"
   ]
  },
  {
   "cell_type": "markdown",
   "id": "72984429",
   "metadata": {},
   "source": [
    "60-69 : D"
   ]
  },
  {
   "cell_type": "markdown",
   "id": "a197b5af",
   "metadata": {},
   "source": [
    " below 60: F"
   ]
  },
  {
   "cell_type": "code",
   "execution_count": null,
   "id": "2b0d08f4",
   "metadata": {},
   "outputs": [],
   "source": []
  },
  {
   "cell_type": "markdown",
   "id": "18df9323",
   "metadata": {},
   "source": [
    "8. create a program that takes a person's age as input and prints whether they are a child(0-12),teenager(13-19),adult(20-59),or senior(60 and above)."
   ]
  },
  {
   "cell_type": "code",
   "execution_count": null,
   "id": "23208653",
   "metadata": {},
   "outputs": [],
   "source": []
  },
  {
   "cell_type": "markdown",
   "id": "15a72d7b",
   "metadata": {},
   "source": [
    "9.write a program that takes three integers as input and prints the largest number among them."
   ]
  },
  {
   "cell_type": "code",
   "execution_count": null,
   "id": "bf3f73fe",
   "metadata": {},
   "outputs": [],
   "source": []
  },
  {
   "cell_type": "markdown",
   "id": "2830842a",
   "metadata": {},
   "source": [
    "10. create a program that takes three sides of a triangle as input and determines if it's a valid triangle (sum of any two sides is greater than the third). print \"valid\" or \"invalid\" accordingly."
   ]
  },
  {
   "cell_type": "code",
   "execution_count": null,
   "id": "a87ed0e2",
   "metadata": {},
   "outputs": [],
   "source": []
  },
  {
   "cell_type": "markdown",
   "id": "afd7c5b3",
   "metadata": {},
   "source": [
    "11.write a program that takes the time in 24- hour format (eg.14:30) as input and converts it to 12-hour format (eg. 2:30 PM) and prints the result."
   ]
  },
  {
   "cell_type": "code",
   "execution_count": null,
   "id": "9127894a",
   "metadata": {},
   "outputs": [],
   "source": []
  },
  {
   "cell_type": "markdown",
   "id": "7a81ca79",
   "metadata": {},
   "source": [
    "12.write a program that takes a charecter as input and determines if it's a vowel, consonent ,or neither. print the appropriate message."
   ]
  },
  {
   "cell_type": "code",
   "execution_count": null,
   "id": "c6cc19dc",
   "metadata": {},
   "outputs": [],
   "source": []
  },
  {
   "cell_type": "markdown",
   "id": "595b113e",
   "metadata": {},
   "source": [
    "13. write a python program to find all pairs of integers in a given array ,whose sum is equal to a given number."
   ]
  },
  {
   "cell_type": "code",
   "execution_count": null,
   "id": "a18ad370",
   "metadata": {},
   "outputs": [],
   "source": []
  },
  {
   "cell_type": "markdown",
   "id": "ccf4567b",
   "metadata": {},
   "source": [
    "14.write a python program to find the largest product of any three elements in a given array of integers."
   ]
  },
  {
   "cell_type": "code",
   "execution_count": null,
   "id": "610151a6",
   "metadata": {},
   "outputs": [],
   "source": []
  },
  {
   "cell_type": "markdown",
   "id": "c48e77e8",
   "metadata": {},
   "source": []
  },
  {
   "cell_type": "code",
   "execution_count": null,
   "id": "8553ae80",
   "metadata": {},
   "outputs": [],
   "source": []
  }
 ],
 "metadata": {
  "kernelspec": {
   "display_name": "Python 3 (ipykernel)",
   "language": "python",
   "name": "python3"
  },
  "language_info": {
   "codemirror_mode": {
    "name": "ipython",
    "version": 3
   },
   "file_extension": ".py",
   "mimetype": "text/x-python",
   "name": "python",
   "nbconvert_exporter": "python",
   "pygments_lexer": "ipython3",
   "version": "3.11.5"
  }
 },
 "nbformat": 4,
 "nbformat_minor": 5
}

{
 "cells": [
  {
   "cell_type": "markdown",
   "id": "b819727e",
   "metadata": {},
   "source": [
    "# problems"
   ]
  },
  {
   "cell_type": "markdown",
   "id": "5ab88d35",
   "metadata": {},
   "source": [
    "1.write a program that \"hello,how are you ?\" on the console."
   ]
  },
  {
   "cell_type": "code",
   "execution_count": 1,
   "id": "bc3b34b6",
   "metadata": {},
   "outputs": [
    {
     "name": "stdout",
     "output_type": "stream",
     "text": [
      "hello, how are you ?\n"
     ]
    }
   ],
   "source": [
    "print(\"hello, how are you ?\")"
   ]
  },
  {
   "cell_type": "markdown",
   "id": "34dbadc5",
   "metadata": {},
   "source": [
    "2.write a program that take the user's name and then prints a greeting message with their name\n"
   ]
  },
  {
   "cell_type": "code",
   "execution_count": 3,
   "id": "11adff4b",
   "metadata": {},
   "outputs": [
    {
     "name": "stdout",
     "output_type": "stream",
     "text": [
      "enter username :duaa\n",
      "good morning duaa\n"
     ]
    }
   ],
   "source": [
    "username =input(\"enter username :\")\n",
    "print(\"good morning\",username)"
   ]
  },
  {
   "cell_type": "markdown",
   "id": "83cb4cd3",
   "metadata": {},
   "source": [
    "3.write a program that takes two numbers as input and prints their sum"
   ]
  },
  {
   "cell_type": "code",
   "execution_count": 5,
   "id": "e6cdcc7c",
   "metadata": {},
   "outputs": [
    {
     "name": "stdout",
     "output_type": "stream",
     "text": [
      "80\n"
     ]
    }
   ],
   "source": [
    "list1 = [24,56]\n",
    "mylist = sum(list1)\n",
    "print(mylist)"
   ]
  },
  {
   "cell_type": "markdown",
   "id": "77fafa1f",
   "metadata": {},
   "source": [
    "4.write a program that takes astring as input and print its length"
   ]
  },
  {
   "cell_type": "code",
   "execution_count": 6,
   "id": "069adad3",
   "metadata": {},
   "outputs": [
    {
     "name": "stdout",
     "output_type": "stream",
     "text": [
      "15\n"
     ]
    }
   ],
   "source": [
    "mystring = \"hi duaa fathima\"\n",
    "length = len(mystring)\n",
    "print(length)"
   ]
  },
  {
   "cell_type": "markdown",
   "id": "064b9519",
   "metadata": {},
   "source": [
    "5.write a program that takes a sentence and then prints the number of words in that sentence."
   ]
  },
  {
   "cell_type": "code",
   "execution_count": 1,
   "id": "62f33957",
   "metadata": {},
   "outputs": [
    {
     "name": "stdout",
     "output_type": "stream",
     "text": [
      "6\n"
     ]
    }
   ],
   "source": [
    "mystring = \"hi duaa ,where are you going ?\"\n",
    "string = mystring.split(\" \")\n",
    "number = len(\"string\")\n",
    "print(number)"
   ]
  },
  {
   "cell_type": "markdown",
   "id": "94f409f7",
   "metadata": {},
   "source": [
    "6. write a program that takes a string as input and counts the number of uppercase letters in the string"
   ]
  },
  {
   "cell_type": "raw",
   "id": "3b826c54",
   "metadata": {},
   "source": [
    " def count_uppercase"
   ]
  },
  {
   "cell_type": "markdown",
   "id": "ac5865b7",
   "metadata": {},
   "source": [
    "7.write a program that takes a sentence and then converts all the charactersto uppercase"
   ]
  },
  {
   "cell_type": "code",
   "execution_count": 2,
   "id": "51182df3",
   "metadata": {},
   "outputs": [
    {
     "name": "stdout",
     "output_type": "stream",
     "text": [
      "IAM A DATA SCIENCE STUDENT\n"
     ]
    }
   ],
   "source": [
    "sent = \"iam a data science student\"\n",
    "print(sent.upper())"
   ]
  },
  {
   "cell_type": "markdown",
   "id": "7d91d5f6",
   "metadata": {},
   "source": [
    "8.write aprogram that takes a string as input and replaces all occurencesof the letter 'a' with the letter 'e'"
   ]
  },
  {
   "cell_type": "code",
   "execution_count": 4,
   "id": "20b55943",
   "metadata": {},
   "outputs": [
    {
     "name": "stdout",
     "output_type": "stream",
     "text": [
      "iem e dete science student\n"
     ]
    }
   ],
   "source": [
    "sent = \"iam a data science student\"\n",
    "new_sent = sent.replace(\"a\",\"e\")\n",
    "print(new_sent)"
   ]
  },
  {
   "cell_type": "markdown",
   "id": "fdc982a5",
   "metadata": {},
   "source": [
    "9. create a program that checks if a given string is a palindrome"
   ]
  },
  {
   "cell_type": "code",
   "execution_count": null,
   "id": "4f116fe9",
   "metadata": {},
   "outputs": [],
   "source": []
  },
  {
   "cell_type": "markdown",
   "id": "564bb8ef",
   "metadata": {},
   "source": [
    "10. create a program that checks if a substring is present in a given string"
   ]
  },
  {
   "cell_type": "code",
   "execution_count": null,
   "id": "0f855788",
   "metadata": {},
   "outputs": [],
   "source": []
  },
  {
   "cell_type": "markdown",
   "id": "ddbf5581",
   "metadata": {},
   "source": [
    "11. write a program that reverses the order of words in a given sentence."
   ]
  },
  {
   "cell_type": "code",
   "execution_count": 7,
   "id": "1019ad34",
   "metadata": {},
   "outputs": [
    {
     "name": "stdout",
     "output_type": "stream",
     "text": [
      "['', 'student', 'science', 'data', 'a', 'iam']\n"
     ]
    }
   ],
   "source": [
    "sent = \"iam a data science student \"\n",
    "my_sent = sent.split(\" \")\n",
    "reversed_sent = my_sent[::-1]\n",
    "print(reversed_sent)"
   ]
  },
  {
   "cell_type": "markdown",
   "id": "9362ed8a",
   "metadata": {},
   "source": [
    "12. write a program that finds the longest word in a given sentence"
   ]
  },
  {
   "cell_type": "code",
   "execution_count": null,
   "id": "5feda5b0",
   "metadata": {},
   "outputs": [],
   "source": []
  }
 ],
 "metadata": {
  "kernelspec": {
   "display_name": "Python 3 (ipykernel)",
   "language": "python",
   "name": "python3"
  },
  "language_info": {
   "codemirror_mode": {
    "name": "ipython",
    "version": 3
   },
   "file_extension": ".py",
   "mimetype": "text/x-python",
   "name": "python",
   "nbconvert_exporter": "python",
   "pygments_lexer": "ipython3",
   "version": "3.11.5"
  }
 },
 "nbformat": 4,
 "nbformat_minor": 5
}

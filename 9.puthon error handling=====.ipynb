{
 "cells": [
  {
   "cell_type": "markdown",
   "id": "c3f8b190",
   "metadata": {},
   "source": [
    "1. write a program that prompts the user to enter a number and displays its square root. if the user enters an invalid value, print an error message and prompt them to enter another value.\n"
   ]
  },
  {
   "cell_type": "code",
   "execution_count": 2,
   "id": "a2eea0c3",
   "metadata": {},
   "outputs": [
    {
     "name": "stdout",
     "output_type": "stream",
     "text": [
      "enter a number:k\n",
      "Invalid input. Please enter a valid number.\n",
      "enter a number:-45\n",
      "Please enter a non-negative number.\n",
      "enter a number:49\n",
      "the square root of 49.0 is 7.0\n"
     ]
    }
   ],
   "source": [
    "import math\n",
    "\n",
    "def number():\n",
    "    while True:\n",
    "        try:\n",
    "            num=float(input(\"enter a number:\"))\n",
    "            if num>=0:\n",
    "                return num\n",
    "            else:\n",
    "                print(\"Please enter a non-negative number.\")\n",
    "        except  ValueError:\n",
    "            print (\"Invalid input. Please enter a valid number.\")\n",
    "            \n",
    "def main():\n",
    "    num=number()\n",
    "    sqrrt=math.sqrt(num)\n",
    "    print(f\"the square root of {num} is {sqrrt}\")\n",
    "    \n",
    "main() "
   ]
  },
  {
   "cell_type": "markdown",
   "id": "ad58de5a",
   "metadata": {},
   "source": [
    "2. write a program that prompts the user to enter a list of numers seperated by commas , and calculates their sum . if the user enters an invalid value, print an error message and prompt them to enter another value."
   ]
  },
  {
   "cell_type": "code",
   "execution_count": 1,
   "id": "1796b7f3",
   "metadata": {},
   "outputs": [
    {
     "name": "stdout",
     "output_type": "stream",
     "text": [
      "enter a list of numbers:1,2,kl\n",
      "invalid input,please enter a list of numbers seperated by commas\n",
      "enter a list of numbers:1,2,3,4,5\n",
      "the list is  [1, 2, 3, 4, 5]\n",
      "the sum of given list is  15\n"
     ]
    }
   ],
   "source": [
    "def mylist():\n",
    "    while True:\n",
    "        try:\n",
    "            list1 = input(\"enter a list of numbers:\")\n",
    "            list2 = [int(num) for num in list1.split(\",\")]\n",
    "            return list2\n",
    "        except ValueError:\n",
    "            print(\"invalid input,please enter a list of numbers seperated by commas\")\n",
    "\n",
    "        \n",
    "def summation():\n",
    "    list2 = mylist()\n",
    "    print(\"the list is \",list2)\n",
    "    sum_ = sum(list2)\n",
    "    print(\"the sum of given list is \",sum_)\n",
    "\n",
    "summation()\n",
    "\n"
   ]
  },
  {
   "cell_type": "markdown",
   "id": "12ca4c3f",
   "metadata": {},
   "source": [
    "3. write a program that prompts the user to enter a filename and displays its contents. if the file does not exist or cannot be opened, print an error message and prompt the user to enter another filename."
   ]
  },
  {
   "cell_type": "code",
   "execution_count": null,
   "id": "7e707520",
   "metadata": {},
   "outputs": [
    {
     "name": "stdout",
     "output_type": "stream",
     "text": [
      "Enter a filename: python\n",
      "Error,file python not found.\n",
      "Enter a filename: py1\n",
      "Error,file py1 not found.\n",
      "Enter a filename: jan 29.ipynb\n",
      "Error,file jan 29.ipynb not found.\n"
     ]
    }
   ],
   "source": [
    "def check_file(filename):\n",
    "    while True:\n",
    "        try:\n",
    "            f =open(filename,\"r\")\n",
    "            items = f.read()\n",
    "            for content in f:\n",
    "                print(f\"contents of {filename}: {content}\")\n",
    "        except FileNotFoundError:\n",
    "            print(f\"Error,file {filename} not found.\")\n",
    "            return filename\n",
    "        except IOError:\n",
    "            print(f\"Error,Unable to open file {filename}.\")\n",
    "\n",
    "def main():\n",
    "    while True:\n",
    "        user_filename=input(\"Enter a filename: \")\n",
    "        check_file(user_filename)\n",
    "main()\n",
    "        \n",
    "        "
   ]
  },
  {
   "cell_type": "markdown",
   "id": "a42dd257",
   "metadata": {},
   "source": [
    "4.write a program that prompts the user to enter a number and  displays its factorial. If the user enters an invalid value, print an error message and prompt them to enter another value."
   ]
  },
  {
   "cell_type": "code",
   "execution_count": 12,
   "id": "3b8a95a7",
   "metadata": {},
   "outputs": [
    {
     "name": "stdout",
     "output_type": "stream",
     "text": [
      "enter a number:p\n",
      "Invalid input. Please enter a valid number.\n",
      "enter a number:-9\n",
      "Please enter a non-negative number.\n",
      "enter a number:5\n",
      "the factorial of 5 is 120\n"
     ]
    },
    {
     "data": {
      "text/plain": [
       "120"
      ]
     },
     "execution_count": 12,
     "metadata": {},
     "output_type": "execute_result"
    }
   ],
   "source": [
    "def number():\n",
    "    while True:\n",
    "        try:\n",
    "            num=int(input(\"enter a number:\"))\n",
    "            if num>=0:\n",
    "                return num\n",
    "            else:\n",
    "                print(\"Please enter a non-negative number.\")\n",
    "        except  ValueError:\n",
    "            print (\"Invalid input. Please enter a valid number.\")\n",
    "            \n",
    "def main():\n",
    "    num=number()\n",
    "    fact = 1\n",
    "    for i in range(1,num+1):\n",
    "        fact = fact*i\n",
    "    print(f\"the factorial of {num} is {fact}\")\n",
    "    return fact\n",
    "main() "
   ]
  },
  {
   "cell_type": "markdown",
   "id": "84067de9",
   "metadata": {},
   "source": [
    "5.write a program that prompts the user to enter a string and displays its length. if the user enters an empty string, print an error message and prompt them to enter another value"
   ]
  },
  {
   "cell_type": "code",
   "execution_count": 16,
   "id": "a0c70019",
   "metadata": {},
   "outputs": [
    {
     "name": "stdout",
     "output_type": "stream",
     "text": [
      "enter a string:\n",
      "invalid input,Please enter a string.\n",
      "enter a string:data\n",
      "the length of data is 4\n"
     ]
    }
   ],
   "source": [
    "def string():\n",
    "    while True:\n",
    "        try:\n",
    "            str=input(\"enter a string:\")\n",
    "            l=len(str)\n",
    "            if l>0:\n",
    "                return str\n",
    "            else:\n",
    "                print(\"invalid input,Please enter a string.\")\n",
    "        except  ValueError:\n",
    "            print (\"Invalid input. Please enter a string.\")\n",
    "            \n",
    "def main():\n",
    "    str = string()\n",
    "    length = len(str)\n",
    "    print(f\"the length of {str} is {length}\")\n",
    "    \n",
    "main() "
   ]
  },
  {
   "cell_type": "markdown",
   "id": "02aa2fad",
   "metadata": {},
   "source": [
    "6.flexible word game."
   ]
  },
  {
   "cell_type": "code",
   "execution_count": 1,
   "id": "a78e9f06",
   "metadata": {},
   "outputs": [
    {
     "ename": "SyntaxError",
     "evalue": "invalid syntax (2498192031.py, line 24)",
     "output_type": "error",
     "traceback": [
      "\u001b[1;36m  Cell \u001b[1;32mIn[1], line 24\u001b[1;36m\u001b[0m\n\u001b[1;33m    while max_attempts>:\u001b[0m\n\u001b[1;37m                       ^\u001b[0m\n\u001b[1;31mSyntaxError\u001b[0m\u001b[1;31m:\u001b[0m invalid syntax\n"
     ]
    }
   ],
   "source": [
    "import random \n",
    "\n",
    "def choose_random_word():\n",
    "    words=[\"apple\", \"banana\", \"cherry\", \"date\", \"berry\", \"fig\", \"grape\"]\n",
    "    return random.choice(words)\n",
    "\n",
    "def display_word(word,guessed_letters):\n",
    "    display=\"\"\n",
    "    for letter in word:\n",
    "        if letter in guessed_letters:\n",
    "            display += letter\n",
    "        else:\n",
    "            display +=\"_ \"\n",
    "    return display  \n",
    "\n",
    "def main():\n",
    "    word_to_guess=choose_random_word()\n",
    "    guessed_letters=set()\n",
    "    max_attempts=5\n",
    "    \n",
    "    print(\"Welcome to the word Guessing Game!\")\n",
    "    print(\"Try to guess the letters in the word.\")\n",
    "    \n",
    "    while max_attempts>:\n",
    "        print(\"word:\",display_word(word_to_guess,guessed_letters))\n",
    "        guess=input(\"Guess a letter: \").lower()\n",
    "        \n",
    "        if len(guess) !=1 or not guess.isalpha():\n",
    "            print(\"Please enter a single letter.\")\n",
    "            continue\n",
    "            \n",
    "        guessed_letters.add(guess)\n",
    "        \n",
    "        if guess in word_to_guess:\n",
    "            print (\"Correct guess!\")\n",
    "        else:\n",
    "            max_attempts -=1\n",
    "            print(f\"Incorrect guess! You have {max_attempts} attempts left.\")\n",
    "    \n",
    "    final_guess=input(\"Your final guess:\").lower()\n",
    "    if final_guess==word_to_guess:\n",
    "        print(\"Congratulations! You guessed the word correctly.\")\n",
    "    else:\n",
    "        print(f\"sorry , the word was ''{word_to_guess}'.\")\n",
    "\n",
    "main()        "
   ]
  },
  {
   "cell_type": "markdown",
   "id": "2a704d1a",
   "metadata": {},
   "source": []
  },
  {
   "cell_type": "markdown",
   "id": "e03648cd",
   "metadata": {},
   "source": [
    "7. implement a word game similar to the one you implement in the previous word game exercise, but with the following difference:"
   ]
  },
  {
   "cell_type": "markdown",
   "id": "c42a2958",
   "metadata": {},
   "source": [
    "8.flexible word game \n",
    "\n",
    "the player is asked to choose the word size. the word size can only be 4 to 8 (both inclusive). if the user entry is not an integer or not in the range 4..8,the program keeps asking for the word size.\n",
    "\n",
    "given below is a sample session. try to follow the exact output format in your implementation:\n",
    "\n",
    "=======================================================================================================\n",
    "\n",
    "Welcome to the FLEXIBLE WORD GAME\n",
    "\n",
    "Enter the word size (4 to 8):xyz\n",
    "\n",
    "That is not a number. try again\n",
    "\n",
    "Enter the word size (4 to 8):3\n",
    "\n",
    "Number not in the correct range. Try again\n",
    "\n",
    "Enter the word size (4 to 8):3\n",
    " \n",
    "Give all 5-letter words you know, one word at a time \n",
    "\n",
    "Enter the word 'end' to exit \n",
    "\n",
    "======================================================================================================\n",
    "\n",
    "what's the next word?  frame\n",
    "\n",
    "what's the next word?  great\n",
    "\n",
    "what's the next word?  treat\n",
    "\n",
    "what's the next word?  fat\n",
    "\n",
    "not a 5-letter word\n",
    "\n",
    "what's the next word? creamy\n",
    "\n",
    "not a 5-letter word\n",
    "\n",
    "what's the next word?  treat\n",
    "\n",
    "repeated word! treat is numer 3 in the accepted words list.\n",
    "\n",
    "treat is no longer an accepted word and is banned\n",
    "\n",
    "what's the next word?  crime\n",
    "\n",
    "what's the next word?  treat\n",
    "\n",
    "treat is banned!\n",
    "\n",
    "what's the next word?  end\n",
    "\n",
    "==================================================================================================\n",
    "\n",
    "your score: 3 \n",
    "\n",
    "accepted words(in order of entry): frame great crime\n",
    "\n",
    "accepted words(in sorted order): crime frame great\n",
    "\n",
    "banned words (in sorted order): treat\n",
    "\n",
    "thank you for playing the FLEXIBLE WORD GAME\n",
    "\n",
    "================================================================================================="
   ]
  },
  {
   "cell_type": "code",
   "execution_count": 6,
   "id": "90b24968",
   "metadata": {},
   "outputs": [
    {
     "name": "stdout",
     "output_type": "stream",
     "text": [
      "================================================================================\n",
      "Welcome to the FLEXIBLE WORD GAME\n",
      "================================================================================\n",
      "Enter the word size (4 to 8): 2\n",
      "Number not in the correct range. Try again.\n",
      "Enter the word size (4 to 8): y\n",
      "That is not a number. Try again.\n",
      "Enter the word size (4 to 8): 6\n",
      "Give all 6-letter words you know, one word at a time\n",
      "Enter the word 'end' to exit\n",
      "What's the next word? camera\n",
      "What's the next word? dinner\n",
      "What's the next word? direct\n",
      "What's the next word? offer\n",
      "Not a 6-letter word\n",
      "What's the next word? direct\n",
      "Repeated word! direct is number 3 in the accepted words list.\n",
      "direct is no longer an accepted word and is banned\n",
      "What's the next word? device\n",
      "What's the next word? end\n",
      "Your score: 3\n",
      "Accepted words (in order of entry): camera dinner device\n",
      "Accepted words (in sorted order): camera device dinner\n",
      "Banned words (in sorted order): direct\n",
      "Thank you for playing the FLEXIBLE WORD GAME\n"
     ]
    }
   ],
   "source": [
    "def play_flexible_word_game():\n",
    "    print(\"=\"*80)\n",
    "    print(\"Welcome to the FLEXIBLE WORD GAME\")\n",
    "    print(\"=\"*80)\n",
    "    while True:\n",
    "        try:\n",
    "            word_size = int(input(\"Enter the word size (4 to 8): \"))\n",
    "            if 4 <= word_size <= 8:\n",
    "                break       \n",
    "            else:\n",
    "                print(\"Number not in the correct range. Try again.\")\n",
    "        except ValueError:\n",
    "                print(\"That is not a number. Try again.\")\n",
    "    print(f\"Give all {word_size}-letter words you know, one word at a time\")\n",
    "    print(\"Enter the word 'end' to exit\")\n",
    "    accepted_words = []\n",
    "    banned_words = set()\n",
    "    while True:\n",
    "        word = input(\"What's the next word? \").lower()\n",
    "\n",
    "        if word == 'end':\n",
    "            break\n",
    "\n",
    "        if len(word) == word_size:\n",
    "            if word in accepted_words:\n",
    "                print(f\"Repeated word! {word} is number {accepted_words.index(word) + 1} in the accepted words list.\")\n",
    "                print(f\"{word} is no longer an accepted word and is banned\")\n",
    "                banned_words.add(word)\n",
    "                accepted_words.remove(word)\n",
    "            elif word in banned_words:\n",
    "                print(f\"{word} is banned!\")\n",
    "            else:\n",
    "                accepted_words.append(word)\n",
    "        else:\n",
    "            print(f\"Not a {word_size}-letter word\")\n",
    "\n",
    "    print(\"Your score:\", len(accepted_words))\n",
    "    print(\"Accepted words (in order of entry):\", ' '.join(accepted_words))\n",
    "    print(\"Accepted words (in sorted order):\", ' '.join(sorted(accepted_words)))\n",
    "    print(\"Banned words (in sorted order):\", ' '.join(sorted(banned_words)))\n",
    "    print(\"Thank you for playing the FLEXIBLE WORD GAME\")\n",
    "play_flexible_word_game()"
   ]
  },
  {
   "cell_type": "code",
   "execution_count": null,
   "id": "822f5b84",
   "metadata": {},
   "outputs": [],
   "source": []
  }
 ],
 "metadata": {
  "kernelspec": {
   "display_name": "Python 3 (ipykernel)",
   "language": "python",
   "name": "python3"
  },
  "language_info": {
   "codemirror_mode": {
    "name": "ipython",
    "version": 3
   },
   "file_extension": ".py",
   "mimetype": "text/x-python",
   "name": "python",
   "nbconvert_exporter": "python",
   "pygments_lexer": "ipython3",
   "version": "3.11.5"
  }
 },
 "nbformat": 4,
 "nbformat_minor": 5
}

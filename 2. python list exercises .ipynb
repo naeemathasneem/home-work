{
 "cells": [
  {
   "cell_type": "code",
   "execution_count": 1,
   "id": "dd2ab6f3",
   "metadata": {},
   "outputs": [
    {
     "name": "stdout",
     "output_type": "stream",
     "text": [
      "22\n"
     ]
    }
   ],
   "source": [
    "#find the sum of elements in a list\n",
    " \n",
    "numbers = [ 1,3,5,6,7]\n",
    "print(sum(numbers))"
   ]
  },
  {
   "cell_type": "code",
   "execution_count": 6,
   "id": "d8c15e89",
   "metadata": {},
   "outputs": [
    {
     "name": "stdout",
     "output_type": "stream",
     "text": [
      "meensaht ameean\n"
     ]
    }
   ],
   "source": [
    "# create a list of charecters. write a program to reverse the order of the elements . the list without using buit-in functions.using indexing method\n",
    "\n",
    "my_name = \"naeema thasneem\"\n",
    "print(my_name[::-1])\n"
   ]
  },
  {
   "cell_type": "code",
   "execution_count": 5,
   "id": "c8421d28",
   "metadata": {},
   "outputs": [
    {
     "name": "stdout",
     "output_type": "stream",
     "text": [
      "['mike', 'emma', 'kelly', '', 'brad']\n"
     ]
    }
   ],
   "source": [
    "# 3 remove empty string from the list of strings without using any loops\n",
    "#my_list = [\"mike\",\"\",\"emma\",\"kelly\",\"\",\"brad\"]\n",
    "\n",
    "my_list = [\"mike\",\"\",\"emma\",\"kelly\",\"\",\"brad\"]\n",
    "my_list.remove(\"\")\n",
    "print(my_list)"
   ]
  },
  {
   "cell_type": "code",
   "execution_count": 8,
   "id": "006d0122",
   "metadata": {},
   "outputs": [
    {
     "name": "stdout",
     "output_type": "stream",
     "text": [
      "6000\n",
      "[10, 20, [300, 400, [5000, 6000, 7000], 500], 30, 40]\n"
     ]
    }
   ],
   "source": [
    "# 4 write a program to add item 7000 after 6000 in the following python list\n",
    "#list =[10,20,[300,400,[5000,6000],500],30,40]\n",
    "\n",
    "x =[10,20,[300,400,[5000,6000],500],30,40]\n",
    "print(x[2][2][1])\n",
    "x[2][2].insert(2,7000)\n",
    "print(x)"
   ]
  },
  {
   "cell_type": "code",
   "execution_count": 7,
   "id": "44da0426",
   "metadata": {},
   "outputs": [
    {
     "name": "stdout",
     "output_type": "stream",
     "text": [
      "3\n",
      "list1= [5, 10, 15, 200, 20, 25, 50, 20]\n"
     ]
    }
   ],
   "source": [
    "# 5 you have given python list.write a program to find value 20 in the list, and if it is presenet ,replace it with 200. only update the first occurrence of an item.\n",
    "#list1 =[5,10,15,20,25,50,20]\n",
    "\n",
    "list1 =[5,10,15,20,25,50,20]\n",
    "index = list1.index(20)\n",
    "print(index)\n",
    "list1.insert(3,200)\n",
    "print(\"list1=\",list1)\n"
   ]
  },
  {
   "cell_type": "code",
   "execution_count": 1,
   "id": "d470734d",
   "metadata": {},
   "outputs": [
    {
     "name": "stdout",
     "output_type": "stream",
     "text": [
      "60\n"
     ]
    }
   ],
   "source": [
    "# 6 create a list of numbers . write a program to find the range(difference between the largest and smalest element)of the list.\n",
    "\n",
    "\n",
    "list1 = [15,27,42,71,67,34,11]\n",
    "my_list =max(list1) - min(list1)\n",
    "print(my_list)"
   ]
  },
  {
   "cell_type": "code",
   "execution_count": 16,
   "id": "559c9995",
   "metadata": {},
   "outputs": [
    {
     "name": "stdout",
     "output_type": "stream",
     "text": [
      "3\n"
     ]
    }
   ],
   "source": [
    "#7 create a list of random numbers. write a program to count how many times ecach element appears in the list.\n",
    "\n",
    "list1 = [2,3,6,3,2,7,3,8,5]\n",
    "count = list1.count(3)\n",
    "print(count)"
   ]
  },
  {
   "cell_type": "code",
   "execution_count": 1,
   "id": "87652cce",
   "metadata": {},
   "outputs": [
    {
     "name": "stdout",
     "output_type": "stream",
     "text": [
      "[1, 2, 3, 4, 5, 6, 7]\n"
     ]
    }
   ],
   "source": [
    "#8 create a list of numbers. write a program to insert a new element at a specific position in the list\n",
    "\n",
    "list1 = [1,2,3,5,6,7]\n",
    "list1.insert(3,4)\n",
    "print(list1)"
   ]
  },
  {
   "cell_type": "code",
   "execution_count": null,
   "id": "7503d348",
   "metadata": {},
   "outputs": [],
   "source": []
  }
 ],
 "metadata": {
  "kernelspec": {
   "display_name": "Python 3 (ipykernel)",
   "language": "python",
   "name": "python3"
  },
  "language_info": {
   "codemirror_mode": {
    "name": "ipython",
    "version": 3
   },
   "file_extension": ".py",
   "mimetype": "text/x-python",
   "name": "python",
   "nbconvert_exporter": "python",
   "pygments_lexer": "ipython3",
   "version": "3.11.5"
  }
 },
 "nbformat": 4,
 "nbformat_minor": 5
}

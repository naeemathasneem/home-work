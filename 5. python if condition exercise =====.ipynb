{
 "cells": [
  {
   "cell_type": "markdown",
   "id": "1642be8d",
   "metadata": {},
   "source": [
    "# python conditions exercise"
   ]
  },
  {
   "cell_type": "markdown",
   "id": "6e536a4f",
   "metadata": {},
   "source": [
    "1. write a progarm that takes an integer as input and prints, whether it's positive, negetive, or zero"
   ]
  },
  {
   "cell_type": "code",
   "execution_count": 3,
   "id": "bd32792c",
   "metadata": {},
   "outputs": [
    {
     "name": "stdout",
     "output_type": "stream",
     "text": [
      "integer:0\n",
      "given integer is zero\n"
     ]
    }
   ],
   "source": [
    "a = int(input(\"integer:\"))\n",
    "if (a>0):\n",
    "    print(\"given integer is positive\")\n",
    "elif(a<0):\n",
    "    print(\"given integer is negetive\")\n",
    "else:\n",
    "    print(\"given integer is zero\")"
   ]
  },
  {
   "cell_type": "markdown",
   "id": "5069aff1",
   "metadata": {},
   "source": [
    "2. create a program that takes a student's score as input and prints their corresponding grade based on the following scale:\n",
    "       "
   ]
  },
  {
   "cell_type": "markdown",
   "id": "36014615",
   "metadata": {},
   "source": [
    " 90 or above : A"
   ]
  },
  {
   "cell_type": "markdown",
   "id": "c1913a19",
   "metadata": {},
   "source": [
    "80-89 : B"
   ]
  },
  {
   "cell_type": "markdown",
   "id": "7c3bd02c",
   "metadata": {},
   "source": [
    "70-79 : C"
   ]
  },
  {
   "cell_type": "markdown",
   "id": "72984429",
   "metadata": {},
   "source": [
    "60-69 : D"
   ]
  },
  {
   "cell_type": "markdown",
   "id": "a197b5af",
   "metadata": {},
   "source": [
    " below 60: F"
   ]
  },
  {
   "cell_type": "code",
   "execution_count": 6,
   "id": "375fae2a",
   "metadata": {},
   "outputs": [
    {
     "name": "stdout",
     "output_type": "stream",
     "text": [
      "score :85\n",
      "your grade is B\n"
     ]
    }
   ],
   "source": [
    "score = int(input(\"score :\"))\n",
    "\n",
    "if (score>=90):\n",
    "    print(\"your grade is A\")\n",
    "elif(score>=80):\n",
    "    print(\"your grade is B\")\n",
    "elif(score>=70):\n",
    "    print(\"your grade is C\")\n",
    "elif(score>=60):\n",
    "    print(\"your grade is D\")\n",
    "else:\n",
    "    print(\"your grade is F,you are failed\")"
   ]
  },
  {
   "cell_type": "markdown",
   "id": "18df9323",
   "metadata": {},
   "source": [
    "8. create a program that takes a person's age as input and prints whether they are a child(0-12),teenager(13-19),adult(20-59),or senior(60 and above)."
   ]
  },
  {
   "cell_type": "code",
   "execution_count": 8,
   "id": "23208653",
   "metadata": {},
   "outputs": [
    {
     "name": "stdout",
     "output_type": "stream",
     "text": [
      "age:75\n",
      "you are a senior citizen\n"
     ]
    }
   ],
   "source": [
    "age = int(input(\"age:\"))\n",
    "\n",
    "if (age<=12):\n",
    "    print(\"you are a child \")\n",
    "elif(age<=19):\n",
    "    print(\"you are a teenager\")\n",
    "elif(age<=59):\n",
    "    print(\"you are an adult\")\n",
    "else:\n",
    "    print(\"you are a senior citizen\")"
   ]
  },
  {
   "cell_type": "markdown",
   "id": "15a72d7b",
   "metadata": {},
   "source": [
    "9.write a program that takes three integers as input and prints the largest number among them."
   ]
  },
  {
   "cell_type": "code",
   "execution_count": 11,
   "id": "bf3f73fe",
   "metadata": {},
   "outputs": [
    {
     "name": "stdout",
     "output_type": "stream",
     "text": [
      "71 is largest number among them\n"
     ]
    }
   ],
   "source": [
    "integers = (71,58,45)\n",
    "a,b,c = integers\n",
    "if (a>b,a>c):\n",
    "    print(a, \"is largest number among them\")\n",
    "elif(b>a,b>c):\n",
    "    print(b, \"is largest number among them\")\n",
    "else:\n",
    "    print(c,\"is largest number among them\")"
   ]
  },
  {
   "cell_type": "markdown",
   "id": "2830842a",
   "metadata": {},
   "source": [
    "10. create a program that takes three sides of a triangle as input and determines if it's a valid triangle (sum of any two sides is greater than the third). print \"valid\" or \"invalid\" accordingly."
   ]
  },
  {
   "cell_type": "code",
   "execution_count": 16,
   "id": "a87ed0e2",
   "metadata": {},
   "outputs": [
    {
     "name": "stdout",
     "output_type": "stream",
     "text": [
      "1st side12\n",
      "2nd side24\n",
      "3rd side12\n",
      "triangle is valid\n"
     ]
    }
   ],
   "source": [
    "a = int(input(\"1st side\"))\n",
    "b = int(input(\"2nd side\"))\n",
    "c = int(input(\"3rd side\"))\n",
    "\n",
    "if (a+b==c):\n",
    "    print(\"triangle is valid\")\n",
    "elif(b+c==a):\n",
    "    print(\"triangle is valid\")\n",
    "elif(a+c==b):\n",
    "    print(\"triangle is valid\")\n",
    "else:\n",
    "    print(\"triangle is invalid\")"
   ]
  },
  {
   "cell_type": "markdown",
   "id": "afd7c5b3",
   "metadata": {},
   "source": [
    "11.write a program that takes the time in 24- hour format (eg.14:30) as input and converts it to 12-hour format (eg. 2:30 PM) and prints the result."
   ]
  },
  {
   "cell_type": "code",
   "execution_count": 19,
   "id": "9127894a",
   "metadata": {},
   "outputs": [
    {
     "name": "stdout",
     "output_type": "stream",
     "text": [
      "time =14.30\n"
     ]
    },
    {
     "ename": "ValueError",
     "evalue": "invalid literal for int() with base 10: '14.30'",
     "output_type": "error",
     "traceback": [
      "\u001b[1;31m---------------------------------------------------------------------------\u001b[0m",
      "\u001b[1;31mValueError\u001b[0m                                Traceback (most recent call last)",
      "Cell \u001b[1;32mIn[19], line 1\u001b[0m\n\u001b[1;32m----> 1\u001b[0m time \u001b[38;5;241m=\u001b[39m \u001b[38;5;28mint\u001b[39m(\u001b[38;5;28minput\u001b[39m(\u001b[38;5;124m\"\u001b[39m\u001b[38;5;124mtime =\u001b[39m\u001b[38;5;124m\"\u001b[39m))\n\u001b[0;32m      3\u001b[0m \u001b[38;5;28;01mif\u001b[39;00m (time\u001b[38;5;241m<\u001b[39m\u001b[38;5;241m12.00\u001b[39m):\n\u001b[0;32m      4\u001b[0m     \u001b[38;5;28mprint\u001b[39m(\u001b[38;5;124m\"\u001b[39m\u001b[38;5;124mexact time =\u001b[39m\u001b[38;5;124m\"\u001b[39m,time, AM)\n",
      "\u001b[1;31mValueError\u001b[0m: invalid literal for int() with base 10: '14.30'"
     ]
    }
   ],
   "source": [
    "time = int(input(\"time =\"))\n",
    "\n",
    "if (time<12.00):\n",
    "    print(\"exact time =\",time, AM)\n",
    "else:\n",
    "    print(\"exact time =\",PM)"
   ]
  },
  {
   "cell_type": "markdown",
   "id": "7a81ca79",
   "metadata": {},
   "source": [
    "12.write a program that takes a charecter as input and determines if it's a vowel, consonent ,or neither. print the appropriate message."
   ]
  },
  {
   "cell_type": "code",
   "execution_count": 4,
   "id": "c6cc19dc",
   "metadata": {},
   "outputs": [
    {
     "name": "stdout",
     "output_type": "stream",
     "text": [
      "charecter =0\n",
      "charecter is neither vowel nor consonent\n"
     ]
    }
   ],
   "source": [
    "mychar = input(\"charecter =\")\n",
    "x = (\"a\",\"e\",\"i\",\"o\",\"u\")\n",
    "y = (\"b\",\"c\",\"d\",\"f\",\"g\",\"h\",\"j\",\"k\",\"l\",\"m\",\"n\",\"p\",\"q\",\"r\",\"s\",\"t\",\"v\",\"w\",\"x\",\"y\",\"z\")\n",
    "if mychar in x:\n",
    "    print(\"charecter is vowel\")\n",
    "elif mychar in y:\n",
    "    print(\"charecter is consonent\")\n",
    "else:\n",
    "    print(\"charecter is neither vowel nor consonent\")\n"
   ]
  },
  {
   "cell_type": "markdown",
   "id": "595b113e",
   "metadata": {},
   "source": [
    "13. write a python program to find all pairs of integers in a given array ,whose sum is equal to a given number."
   ]
  },
  {
   "cell_type": "code",
   "execution_count": 1,
   "id": "a18ad370",
   "metadata": {},
   "outputs": [
    {
     "ename": "TypeError",
     "evalue": "cannot unpack non-iterable int object",
     "output_type": "error",
     "traceback": [
      "\u001b[1;31m---------------------------------------------------------------------------\u001b[0m",
      "\u001b[1;31mTypeError\u001b[0m                                 Traceback (most recent call last)",
      "Cell \u001b[1;32mIn[1], line 4\u001b[0m\n\u001b[0;32m      2\u001b[0m a,\u001b[38;5;241m*\u001b[39mb,c \u001b[38;5;241m=\u001b[39m mylist\n\u001b[0;32m      3\u001b[0m sum_ \u001b[38;5;241m=\u001b[39m \u001b[38;5;241m7\u001b[39m\n\u001b[1;32m----> 4\u001b[0m \u001b[38;5;28;01mfor\u001b[39;00m a,c \u001b[38;5;129;01min\u001b[39;00m mylist:\n\u001b[0;32m      5\u001b[0m     \u001b[38;5;28;01mif\u001b[39;00m a\u001b[38;5;241m+\u001b[39mc\u001b[38;5;241m==\u001b[39m \u001b[38;5;241m7\u001b[39m:\n\u001b[0;32m      6\u001b[0m         \u001b[38;5;28mprint\u001b[39m(a,c)\n",
      "\u001b[1;31mTypeError\u001b[0m: cannot unpack non-iterable int object"
     ]
    }
   ],
   "source": [
    "mylist = [2,5,8,4,1,3,6,9,7]\n",
    "sum = int(input(\"sum \"))\n",
    "\n",
    "for a,c in mylist:\n",
    "    if a+c== 7:\n",
    "        print(a,c)"
   ]
  },
  {
   "cell_type": "markdown",
   "id": "ccf4567b",
   "metadata": {},
   "source": [
    "14.write a python program to find the largest product of any three elements in a given array of integers."
   ]
  },
  {
   "cell_type": "code",
   "execution_count": null,
   "id": "610151a6",
   "metadata": {},
   "outputs": [],
   "source": [
    "mylist = {2,5,8,4,1,3,6,9,7}"
   ]
  },
  {
   "cell_type": "markdown",
   "id": "c48e77e8",
   "metadata": {},
   "source": []
  },
  {
   "cell_type": "code",
   "execution_count": null,
   "id": "8553ae80",
   "metadata": {},
   "outputs": [],
   "source": []
  }
 ],
 "metadata": {
  "kernelspec": {
   "display_name": "Python 3 (ipykernel)",
   "language": "python",
   "name": "python3"
  },
  "language_info": {
   "codemirror_mode": {
    "name": "ipython",
    "version": 3
   },
   "file_extension": ".py",
   "mimetype": "text/x-python",
   "name": "python",
   "nbconvert_exporter": "python",
   "pygments_lexer": "ipython3",
   "version": "3.11.5"
  }
 },
 "nbformat": 4,
 "nbformat_minor": 5
}

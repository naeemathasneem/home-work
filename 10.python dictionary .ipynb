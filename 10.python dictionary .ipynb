{
 "cells": [
  {
   "cell_type": "markdown",
   "id": "a89155bf",
   "metadata": {},
   "source": [
    "1.Write a python script to sort (ascending and descending) a dictionary by value.\n"
   ]
  },
  {
   "cell_type": "code",
   "execution_count": 6,
   "id": "0316167e",
   "metadata": {},
   "outputs": [
    {
     "name": "stdout",
     "output_type": "stream",
     "text": [
      "fruits in ascending order of their price {'orange': 50, 'apple': 80, 'mango': 90, 'kiwi': 120}\n",
      "fruits in descending order of their price {'kiwi': 120, 'mango': 90, 'apple': 80, 'orange': 50}\n"
     ]
    }
   ],
   "source": [
    "fruits = {\n",
    "    \"apple\": 80,\n",
    "    \"orange\":50,\n",
    "    \"kiwi\":120,\n",
    "    \"mango\":90\n",
    "}\n",
    "ascending_order_of_value = dict(sorted(mydict.items(),key =lambda item:item[1]))\n",
    "print(\"fruits in ascending order of their price\",ascending_order_of_value )\n",
    "\n",
    "descending_order_of_value = dict(sorted(mydict.items(),key =lambda item:item[1],reverse =True))\n",
    "print(\"fruits in descending order of their price\",descending_order_of_value )"
   ]
  },
  {
   "cell_type": "markdown",
   "id": "0275e3a6",
   "metadata": {},
   "source": [
    "2.write a python script to check whether a given key already exists in a dictionary."
   ]
  },
  {
   "cell_type": "code",
   "execution_count": 8,
   "id": "59de5497",
   "metadata": {},
   "outputs": [
    {
     "name": "stdout",
     "output_type": "stream",
     "text": [
      "banana\n",
      "banana does not exist\n"
     ]
    }
   ],
   "source": [
    "fruits = {\n",
    "    \"apple\": 80,\n",
    "    \"orange\":50,\n",
    "    \"kiwi\":120,\n",
    "    \"mango\": \n",
    "}\n",
    "new_key = input(\"\")\n",
    "if new_key in fruits:\n",
    "    print(new_key,\"is already contained in fruits\")\n",
    "else:\n",
    "    print(new_key ,\"does not exist\")"
   ]
  },
  {
   "cell_type": "markdown",
   "id": "37ea8067",
   "metadata": {},
   "source": [
    "3.write a python script to generate and print a dictionary that contains a number (between 1 and n) in the form (x,x*x)\n",
    "\n",
    "sample dictionary (n=5)\n",
    "\n",
    "expected output :{1:1,2:4,3:9,4:16,5:25}"
   ]
  },
  {
   "cell_type": "code",
   "execution_count": 5,
   "id": "3ac79b19",
   "metadata": {},
   "outputs": [
    {
     "name": "stdout",
     "output_type": "stream",
     "text": [
      "enter a number5\n",
      "{1: 1, 2: 4, 3: 9, 4: 16, 5: 25}\n"
     ]
    }
   ],
   "source": [
    "n = int(input(\"enter a number\"))\n",
    "sq = {x:x**2 for x in range (1,n+1)}\n",
    "print(sq)\n"
   ]
  },
  {
   "cell_type": "markdown",
   "id": "b09c1525",
   "metadata": {},
   "source": [
    "4. write a python program to get the maximum and minimum values of a dictionary."
   ]
  },
  {
   "cell_type": "code",
   "execution_count": 18,
   "id": "8c045cea",
   "metadata": {},
   "outputs": [
    {
     "name": "stdout",
     "output_type": "stream",
     "text": [
      "the maximum value of given dictionary is 120\n",
      "the minimum value of given dictionary is 50\n"
     ]
    }
   ],
   "source": [
    "fruits = {\n",
    "    \"apple\": 80,\n",
    "    \"orange\":50,\n",
    "    \"kiwi\":120,\n",
    "    \"mango\":90\n",
    "}\n",
    "y =[]\n",
    "for x in fruits.values():\n",
    "    y.append(x)\n",
    "maxim = max(y)\n",
    "minim = min(y)\n",
    "print(f\"the maximum value of given dictionary is {maxim}\")\n",
    "print(f\"the minimum value of given dictionary is {minim}\")"
   ]
  },
  {
   "cell_type": "markdown",
   "id": "a66f9d99",
   "metadata": {},
   "source": [
    "5. write a python program to create a dictionary of names and their ages. ask the user to input the name and age of three people and store them in the dictionary."
   ]
  },
  {
   "cell_type": "code",
   "execution_count": 6,
   "id": "c64f542d",
   "metadata": {},
   "outputs": [
    {
     "name": "stdout",
     "output_type": "stream",
     "text": [
      "enter name of person :1. samad\n",
      "enter age of samad: 32\n",
      "enter name of person :2. naima\n",
      "enter age of naima: 24\n",
      "enter name of person :3. duaa\n",
      "enter age of duaa: 3\n",
      "dictionary of names and age: \n",
      "{'samad': 32, 'naima': 24, 'duaa': 3}\n"
     ]
    }
   ],
   "source": [
    "def main():\n",
    "    num_people=3\n",
    "    mydict={}\n",
    "    for i in range(num_people):\n",
    "        name=input(f\"enter name of person :{i+1}. \")\n",
    "        age=int(input(f\"enter age of {name}: \"))\n",
    "        mydict[name]=age    # name assign key thats why inside[] and age is value\n",
    "    print(\"dictionary of names and age: \")  \n",
    "    print(mydict)\n",
    "    \n",
    "main() \n"
   ]
  },
  {
   "cell_type": "markdown",
   "id": "a553137f",
   "metadata": {},
   "source": [
    "6.write a python program to group a list of words into a dictionary, where the key is the length of the word and the value is a list of words of thet length."
   ]
  },
  {
   "cell_type": "code",
   "execution_count": 24,
   "id": "62d7302c",
   "metadata": {},
   "outputs": [
    {
     "name": "stdout",
     "output_type": "stream",
     "text": [
      "{5: ['apple', 'grape'], 6: ['banana'], 3: ['cat', 'dog', 'fox'], 8: ['elephant']}\n"
     ]
    }
   ],
   "source": [
    "words = [\"apple\", \"banana\", \"cat\",\"grape\", \"dog\", \"elephant\", \"fox\"]\n",
    "\n",
    "grouped_words = {}\n",
    "\n",
    "for word in words:\n",
    "    length = len(word)\n",
    "    if length in grouped_words:\n",
    "        grouped_words[length].append(word)\n",
    "    else:\n",
    "        grouped_words[length] = [word]\n",
    "\n",
    "print(grouped_words)  \n",
    "    \n",
    "\n",
    "        \n",
    "        "
   ]
  },
  {
   "cell_type": "markdown",
   "id": "6f71edc7",
   "metadata": {},
   "source": [
    "7.write a python program to create a dictionary where the key is a tuple of two numbers, and the value is the sum of those numbers."
   ]
  },
  {
   "cell_type": "code",
   "execution_count": 5,
   "id": "d5897b0d",
   "metadata": {},
   "outputs": [
    {
     "name": "stdout",
     "output_type": "stream",
     "text": [
      "enter 1st number:4\n",
      "enter 2nd number:5\n",
      "enter 1st number:2\n",
      "enter 2nd number:4\n",
      "enter 1st number:5\n",
      "enter 2nd number:7\n",
      "enter 1st number:8\n",
      "enter 2nd number:9\n",
      "enter 1st number:6\n",
      "enter 2nd number:3\n",
      "{(4, 5): 9, (2, 4): 6, (5, 7): 12, (8, 9): 17, (6, 3): 9}\n"
     ]
    }
   ],
   "source": [
    "def sum_(tuples):\n",
    "    mydict ={}\n",
    "    for x in range(tuples):\n",
    "        num1 = int(input(\"enter 1st number:\"))\n",
    "        num2 = int(input(\"enter 2nd number:\"))\n",
    "        key = (num1,num2)\n",
    "        value = num1+num2\n",
    "        mydict[key] = value\n",
    "    return mydict\n",
    "\n",
    "num_tuples = 5\n",
    "new_dict = sum_(num_tuples)\n",
    "print(new_dict)    \n",
    "\n",
    "    \n"
   ]
  },
  {
   "cell_type": "markdown",
   "id": "a840a734",
   "metadata": {},
   "source": [
    "8.write a python program to find the intersection of two dictionaries."
   ]
  },
  {
   "cell_type": "code",
   "execution_count": 15,
   "id": "edcd0bf5",
   "metadata": {},
   "outputs": [
    {
     "name": "stdout",
     "output_type": "stream",
     "text": [
      "{'data': 26, 'science': 19, 'course': 70}\n"
     ]
    }
   ],
   "source": [
    "dict1 ={\"data\":20,\"science\":36,\"course\":100}\n",
    "dict2 ={\"data2\":26,\"science2\":19,\"intern\":70}\n",
    "\n",
    "mydict = dict(zip(dict1,dict2.values()))\n",
    "print(mydict)"
   ]
  },
  {
   "cell_type": "code",
   "execution_count": null,
   "id": "09dc72dd",
   "metadata": {},
   "outputs": [],
   "source": []
  }
 ],
 "metadata": {
  "kernelspec": {
   "display_name": "Python 3 (ipykernel)",
   "language": "python",
   "name": "python3"
  },
  "language_info": {
   "codemirror_mode": {
    "name": "ipython",
    "version": 3
   },
   "file_extension": ".py",
   "mimetype": "text/x-python",
   "name": "python",
   "nbconvert_exporter": "python",
   "pygments_lexer": "ipython3",
   "version": "3.11.5"
  }
 },
 "nbformat": 4,
 "nbformat_minor": 5
}

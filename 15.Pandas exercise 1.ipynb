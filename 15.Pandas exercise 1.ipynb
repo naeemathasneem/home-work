{
 "cells": [
  {
   "cell_type": "markdown",
   "id": "bb9a9371",
   "metadata": {},
   "source": [
    "1.Load the \"titanic\" dataset and display the first 5 rows.\n"
   ]
  },
  {
   "cell_type": "code",
   "execution_count": 8,
   "id": "bafa57df",
   "metadata": {},
   "outputs": [
    {
     "name": "stdout",
     "output_type": "stream",
     "text": [
      "   PassengerId  Survived  Pclass  \\\n",
      "0            1         0       3   \n",
      "1            2         1       1   \n",
      "2            3         1       3   \n",
      "3            4         1       1   \n",
      "4            5         0       3   \n",
      "\n",
      "                                                Name     Sex   Age  SibSp  \\\n",
      "0                            Braund, Mr. Owen Harris    male  22.0      1   \n",
      "1  Cumings, Mrs. John Bradley (Florence Briggs Th...  female  38.0      1   \n",
      "2                             Heikkinen, Miss. Laina  female  26.0      0   \n",
      "3       Futrelle, Mrs. Jacques Heath (Lily May Peel)  female  35.0      1   \n",
      "4                           Allen, Mr. William Henry    male  35.0      0   \n",
      "\n",
      "   Parch            Ticket     Fare Cabin Embarked  \n",
      "0      0         A/5 21171   7.2500   NaN        S  \n",
      "1      0          PC 17599  71.2833   C85        C  \n",
      "2      0  STON/O2. 3101282   7.9250   NaN        S  \n",
      "3      0            113803  53.1000  C123        S  \n",
      "4      0            373450   8.0500   NaN        S  \n"
     ]
    }
   ],
   "source": [
    "import pandas as pd\n",
    "\n",
    "# Load the dataset\n",
    "tit = pd.read_csv(\"Titanic-Dataset.csv\")\n",
    "\n",
    "# Display the first 5 rows of the dataset\n",
    "print(tit.head())\n"
   ]
  },
  {
   "cell_type": "markdown",
   "id": "37fbd59a",
   "metadata": {},
   "source": [
    "2.How many passengers were in first class (Pclass=1) in the titanic dataset?\n"
   ]
  },
  {
   "cell_type": "code",
   "execution_count": 19,
   "id": "440bb092",
   "metadata": {},
   "outputs": [
    {
     "name": "stdout",
     "output_type": "stream",
     "text": [
      "number of passengers in the first class :  216\n"
     ]
    }
   ],
   "source": [
    "import pandas as pd \n",
    "\n",
    "tit = pd.read_csv(\"Titanic-Dataset.csv\")\n",
    "\n",
    "first_class_passengers = tit[tit[\"Pclass\"]== 1].shape[0]\n",
    "print(\"number of passengers in the first class : \",first_class_passengers)\n",
    "\n"
   ]
  },
  {
   "cell_type": "markdown",
   "id": "80c45918",
   "metadata": {},
   "source": [
    "3.Create a new column in the titanic dataset called \"is_alone\" which should be True if a passenger has no siblings/spouses or parents/children on board and False otherwise.\n"
   ]
  },
  {
   "cell_type": "code",
   "execution_count": 20,
   "id": "f37294bd",
   "metadata": {},
   "outputs": [
    {
     "name": "stdout",
     "output_type": "stream",
     "text": [
      "   PassengerId  Survived  Pclass  \\\n",
      "0            1         0       3   \n",
      "1            2         1       1   \n",
      "2            3         1       3   \n",
      "3            4         1       1   \n",
      "4            5         0       3   \n",
      "\n",
      "                                                Name     Sex   Age  SibSp  \\\n",
      "0                            Braund, Mr. Owen Harris    male  22.0      1   \n",
      "1  Cumings, Mrs. John Bradley (Florence Briggs Th...  female  38.0      1   \n",
      "2                             Heikkinen, Miss. Laina  female  26.0      0   \n",
      "3       Futrelle, Mrs. Jacques Heath (Lily May Peel)  female  35.0      1   \n",
      "4                           Allen, Mr. William Henry    male  35.0      0   \n",
      "\n",
      "   Parch            Ticket     Fare Cabin Embarked  is_alone  \n",
      "0      0         A/5 21171   7.2500   NaN        S     False  \n",
      "1      0          PC 17599  71.2833   C85        C     False  \n",
      "2      0  STON/O2. 3101282   7.9250   NaN        S      True  \n",
      "3      0            113803  53.1000  C123        S     False  \n",
      "4      0            373450   8.0500   NaN        S      True  \n"
     ]
    }
   ],
   "source": [
    "import pandas as pd \n",
    "\n",
    "tit = pd.read_csv(\"Titanic-Dataset.csv\")\n",
    "\n",
    "tit[\"is_alone\"] = (tit[\"SibSp\"] == 0) & (tit[\"Parch\"] == 0)\n",
    "\n",
    "print(tit.head())\n",
    "\n"
   ]
  },
  {
   "cell_type": "markdown",
   "id": "153784c9",
   "metadata": {},
   "source": [
    "4.Group the titanic dataset by \"Pclass\" and calculate the mean \"Age\" for each class.\n"
   ]
  },
  {
   "cell_type": "code",
   "execution_count": 21,
   "id": "0eae9c60",
   "metadata": {},
   "outputs": [
    {
     "name": "stdout",
     "output_type": "stream",
     "text": [
      "Pclass\n",
      "1    38.233441\n",
      "2    29.877630\n",
      "3    25.140620\n",
      "Name: Age, dtype: float64\n"
     ]
    }
   ],
   "source": [
    "import pandas as pd \n",
    "\n",
    "tit = pd.read_csv(\"Titanic-Dataset.csv\")\n",
    "\n",
    "mean_age_by_pclass = tit.groupby('Pclass')['Age'].mean()\n",
    "print(mean_age_by_pclass)\n"
   ]
  },
  {
   "cell_type": "markdown",
   "id": "5231628b",
   "metadata": {},
   "source": [
    "5.Sort the titanic dataset by \"Fare\" in descending order and display the first 10 rows.\n"
   ]
  },
  {
   "cell_type": "code",
   "execution_count": 3,
   "id": "2d6373d6",
   "metadata": {},
   "outputs": [
    {
     "name": "stdout",
     "output_type": "stream",
     "text": [
      "     PassengerId  Survived  Pclass                                   Name  \\\n",
      "258          259         1       1                       Ward, Miss. Anna   \n",
      "737          738         1       1                 Lesurer, Mr. Gustave J   \n",
      "679          680         1       1     Cardeza, Mr. Thomas Drake Martinez   \n",
      "88            89         1       1             Fortune, Miss. Mabel Helen   \n",
      "27            28         0       1         Fortune, Mr. Charles Alexander   \n",
      "341          342         1       1         Fortune, Miss. Alice Elizabeth   \n",
      "438          439         0       1                      Fortune, Mr. Mark   \n",
      "311          312         1       1             Ryerson, Miss. Emily Borie   \n",
      "742          743         1       1  Ryerson, Miss. Susan Parker \"Suzette\"   \n",
      "118          119         0       1               Baxter, Mr. Quigg Edmond   \n",
      "\n",
      "        Sex   Age  SibSp  Parch    Ticket      Fare            Cabin Embarked  \n",
      "258  female  35.0      0      0  PC 17755  512.3292              NaN        C  \n",
      "737    male  35.0      0      0  PC 17755  512.3292             B101        C  \n",
      "679    male  36.0      0      1  PC 17755  512.3292      B51 B53 B55        C  \n",
      "88   female  23.0      3      2     19950  263.0000      C23 C25 C27        S  \n",
      "27     male  19.0      3      2     19950  263.0000      C23 C25 C27        S  \n",
      "341  female  24.0      3      2     19950  263.0000      C23 C25 C27        S  \n",
      "438    male  64.0      1      4     19950  263.0000      C23 C25 C27        S  \n",
      "311  female  18.0      2      2  PC 17608  262.3750  B57 B59 B63 B66        C  \n",
      "742  female  21.0      2      2  PC 17608  262.3750  B57 B59 B63 B66        C  \n",
      "118    male  24.0      0      1  PC 17558  247.5208          B58 B60        C  \n"
     ]
    }
   ],
   "source": [
    "import pandas as pd \n",
    "\n",
    "tit = pd.read_csv(\"Titanic-Dataset.csv\")\n",
    "\n",
    "tit_sorted = tit.sort_values(by='Fare', ascending = False)\n",
    "print(tit_sorted.head(10))\n"
   ]
  },
  {
   "cell_type": "markdown",
   "id": "4ee53fa1",
   "metadata": {},
   "source": [
    "6.Create a new column in the titanic dataset called \"fare_category\" which should have the value \"cheap\" if the fare is less than 10, \"moderate\" if the fare is between 10 and 50, and \"expensive\" if the fare is greater than 50.\n"
   ]
  },
  {
   "cell_type": "code",
   "execution_count": 9,
   "id": "2a56f68f",
   "metadata": {},
   "outputs": [
    {
     "name": "stdout",
     "output_type": "stream",
     "text": [
      "   PassengerId  Survived  Pclass  \\\n",
      "0            1         0       3   \n",
      "1            2         1       1   \n",
      "2            3         1       3   \n",
      "3            4         1       1   \n",
      "4            5         0       3   \n",
      "\n",
      "                                                Name     Sex   Age  SibSp  \\\n",
      "0                            Braund, Mr. Owen Harris    male  22.0      1   \n",
      "1  Cumings, Mrs. John Bradley (Florence Briggs Th...  female  38.0      1   \n",
      "2                             Heikkinen, Miss. Laina  female  26.0      0   \n",
      "3       Futrelle, Mrs. Jacques Heath (Lily May Peel)  female  35.0      1   \n",
      "4                           Allen, Mr. William Henry    male  35.0      0   \n",
      "\n",
      "   Parch            Ticket     Fare Cabin Embarked fare_category  \n",
      "0      0         A/5 21171   7.2500   NaN        S         cheap  \n",
      "1      0          PC 17599  71.2833   C85        C     expensive  \n",
      "2      0  STON/O2. 3101282   7.9250   NaN        S         cheap  \n",
      "3      0            113803  53.1000  C123        S     expensive  \n",
      "4      0            373450   8.0500   NaN        S         cheap  \n"
     ]
    }
   ],
   "source": [
    "import pandas as pd\n",
    "\n",
    "# Load your Titanic dataset\n",
    "titanic = pd.read_csv(\"Titanic-Dataset.csv\")\n",
    "\n",
    "# Create the 'fare_category' column\n",
    "titanic['fare_category'] = pd.cut(titanic_df['Fare'],\n",
    "                                      bins=[-1, 10, 50, float('inf')],\n",
    "                                      labels=['cheap', 'moderate', 'expensive'],\n",
    "                                      include_lowest=True)\n",
    "\n",
    "# Check the first few rows to confirm the new column is added\n",
    "print(titanic.head())"
   ]
  },
  {
   "cell_type": "markdown",
   "id": "2b27c064",
   "metadata": {},
   "source": [
    "7.Filter the titanic dataset to only include passengers who are male and survived.\n"
   ]
  },
  {
   "cell_type": "code",
   "execution_count": 12,
   "id": "cdacdfed",
   "metadata": {},
   "outputs": [
    {
     "name": "stdout",
     "output_type": "stream",
     "text": [
      "    PassengerId  Survived  Pclass                          Name   Sex   Age  \\\n",
      "17           18         1       2  Williams, Mr. Charles Eugene  male   NaN   \n",
      "21           22         1       2         Beesley, Mr. Lawrence  male  34.0   \n",
      "23           24         1       1  Sloper, Mr. William Thompson  male  28.0   \n",
      "36           37         1       3              Mamee, Mr. Hanna  male   NaN   \n",
      "55           56         1       1             Woolner, Mr. Hugh  male   NaN   \n",
      "\n",
      "    SibSp  Parch  Ticket     Fare Cabin Embarked  \n",
      "17      0      0  244373  13.0000   NaN        S  \n",
      "21      0      0  248698  13.0000   D56        S  \n",
      "23      0      0  113788  35.5000    A6        S  \n",
      "36      0      0    2677   7.2292   NaN        C  \n",
      "55      0      0   19947  35.5000   C52        S  \n"
     ]
    }
   ],
   "source": [
    "import pandas as pd \n",
    "titanic = pd.read_csv(\"Titanic-Dataset.csv\")\n",
    "male_survivors = titanic[(titanic[\"Sex\"]==\"male\")&(titanic[\"Survived\"] == 1)]\n",
    "\n",
    "print(male_survivors.head())\n"
   ]
  },
  {
   "cell_type": "markdown",
   "id": "234653a3",
   "metadata": {},
   "source": [
    "8.Drop the \"Cabin\" column from the titanic dataset"
   ]
  },
  {
   "cell_type": "code",
   "execution_count": 13,
   "id": "66c7c337",
   "metadata": {},
   "outputs": [
    {
     "name": "stdout",
     "output_type": "stream",
     "text": [
      "   PassengerId  Survived  Pclass  \\\n",
      "0            1         0       3   \n",
      "1            2         1       1   \n",
      "2            3         1       3   \n",
      "3            4         1       1   \n",
      "4            5         0       3   \n",
      "\n",
      "                                                Name     Sex   Age  SibSp  \\\n",
      "0                            Braund, Mr. Owen Harris    male  22.0      1   \n",
      "1  Cumings, Mrs. John Bradley (Florence Briggs Th...  female  38.0      1   \n",
      "2                             Heikkinen, Miss. Laina  female  26.0      0   \n",
      "3       Futrelle, Mrs. Jacques Heath (Lily May Peel)  female  35.0      1   \n",
      "4                           Allen, Mr. William Henry    male  35.0      0   \n",
      "\n",
      "   Parch            Ticket     Fare Embarked  \n",
      "0      0         A/5 21171   7.2500        S  \n",
      "1      0          PC 17599  71.2833        C  \n",
      "2      0  STON/O2. 3101282   7.9250        S  \n",
      "3      0            113803  53.1000        S  \n",
      "4      0            373450   8.0500        S  \n"
     ]
    }
   ],
   "source": [
    "import pandas as pd\n",
    "\n",
    "titanic = pd.read_csv(\"Titanic-Dataset.csv\")\n",
    "\n",
    "titanic.drop(\"Cabin\",axis =1,inplace =True)\n",
    "\n",
    "print(titanic.head())"
   ]
  },
  {
   "cell_type": "code",
   "execution_count": null,
   "id": "dd89bd1c",
   "metadata": {},
   "outputs": [],
   "source": []
  }
 ],
 "metadata": {
  "kernelspec": {
   "display_name": "Python 3 (ipykernel)",
   "language": "python",
   "name": "python3"
  },
  "language_info": {
   "codemirror_mode": {
    "name": "ipython",
    "version": 3
   },
   "file_extension": ".py",
   "mimetype": "text/x-python",
   "name": "python",
   "nbconvert_exporter": "python",
   "pygments_lexer": "ipython3",
   "version": "3.11.5"
  }
 },
 "nbformat": 4,
 "nbformat_minor": 5
}

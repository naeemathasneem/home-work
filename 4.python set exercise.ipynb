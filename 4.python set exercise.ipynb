{
 "cells": [
  {
   "cell_type": "markdown",
   "id": "2dd0e371",
   "metadata": {},
   "source": [
    "# python set"
   ]
  },
  {
   "cell_type": "markdown",
   "id": "e6b7d879",
   "metadata": {},
   "source": [
    "1. write a python program to check if two sets have any common elements."
   ]
  },
  {
   "cell_type": "code",
   "execution_count": 1,
   "id": "4db3f93f",
   "metadata": {},
   "outputs": [
    {
     "name": "stdout",
     "output_type": "stream",
     "text": [
      "there is a common elements in these two sets\n"
     ]
    }
   ],
   "source": [
    "set1 = {1,2,3}\n",
    "set2 = {3,4,5}\n",
    "if set1.intersection(set2):\n",
    "    print(\"there is a common elements in these two sets\")\n",
    "else:\n",
    "    print(\"there is no common elements in these two sets\")"
   ]
  },
  {
   "cell_type": "markdown",
   "id": "f5548d1b",
   "metadata": {},
   "source": [
    "2. write a python program to find the difference between two sets."
   ]
  },
  {
   "cell_type": "code",
   "execution_count": 8,
   "id": "5eb1907c",
   "metadata": {},
   "outputs": [
    {
     "name": "stdout",
     "output_type": "stream",
     "text": [
      "{1, 6}\n"
     ]
    }
   ],
   "source": [
    "set1 = {1,2,3,6}\n",
    "set2 = {3,4,5,2}\n",
    "difference = set1.difference(set2)\n",
    "print(difference)"
   ]
  },
  {
   "cell_type": "markdown",
   "id": "3990ba28",
   "metadata": {},
   "source": [
    "3. write a python program to find the symmetric difference between two sets."
   ]
  },
  {
   "cell_type": "code",
   "execution_count": 7,
   "id": "5086b2b5",
   "metadata": {},
   "outputs": [
    {
     "name": "stdout",
     "output_type": "stream",
     "text": [
      "{1, 4, 5, 6}\n"
     ]
    }
   ],
   "source": [
    "set1 = {1,2,3,6}\n",
    "set2 = {3,4,5,2}\n",
    "symmetric_difference = set1.symmetric_difference(set2)\n",
    "print(symmetric_difference)"
   ]
  },
  {
   "cell_type": "markdown",
   "id": "76b18bc7",
   "metadata": {},
   "source": [
    "4.write a python program to create a set from a given list and remove the duplicates."
   ]
  },
  {
   "cell_type": "code",
   "execution_count": 14,
   "id": "9c7559d0",
   "metadata": {},
   "outputs": [
    {
     "name": "stdout",
     "output_type": "stream",
     "text": [
      "8\n",
      "14\n",
      "25\n",
      "36\n",
      "14\n",
      "25\n",
      "47\n",
      "52\n",
      "25\n",
      "14\n",
      "{36, 14, 47, 52, 25}\n"
     ]
    }
   ],
   "source": [
    "n = int(input())\n",
    "myset =list()\n",
    "i =0\n",
    "while i<=n:\n",
    "    i+=1\n",
    "    elements = int(input())\n",
    "    myset.append(elements)\n",
    "myset = set(myset)\n",
    "print(myset)\n"
   ]
  },
  {
   "cell_type": "markdown",
   "id": "2823b47e",
   "metadata": {},
   "source": [
    "5.write a python program to create a new set with all the elements from two sets, but exclude the common ones."
   ]
  },
  {
   "cell_type": "code",
   "execution_count": null,
   "id": "56c80f23",
   "metadata": {},
   "outputs": [],
   "source": []
  },
  {
   "cell_type": "code",
   "execution_count": 17,
   "id": "de2f7cff",
   "metadata": {},
   "outputs": [
    {
     "name": "stdout",
     "output_type": "stream",
     "text": [
      "{1, 2, 3, 4, 5, 6}\n"
     ]
    }
   ],
   "source": [
    "set1 = {1,2,3,6}\n",
    "set2 = {3,4,5,2}\n",
    "newset = set1.union(set2)\n",
    "print(newset)"
   ]
  },
  {
   "cell_type": "markdown",
   "id": "56493a9f",
   "metadata": {},
   "source": [
    "6.write a python program to check if a set is a subset of another set."
   ]
  },
  {
   "cell_type": "code",
   "execution_count": 21,
   "id": "e4354c25",
   "metadata": {},
   "outputs": [
    {
     "name": "stdout",
     "output_type": "stream",
     "text": [
      "set1 is a subset of set2: True\n"
     ]
    }
   ],
   "source": [
    "set1 = {1,2,3,}\n",
    "set2 = {3,4,1,5,2}\n",
    "x =set1.issubset(set2)\n",
    "print(\"set1 is a subset of set2:\",x)\n"
   ]
  },
  {
   "cell_type": "markdown",
   "id": "9c337146",
   "metadata": {},
   "source": [
    "7.write a python program to find the maximum and minimum values in a set."
   ]
  },
  {
   "cell_type": "code",
   "execution_count": 2,
   "id": "d1df1e07",
   "metadata": {},
   "outputs": [
    {
     "name": "stdout",
     "output_type": "stream",
     "text": [
      "78\n",
      "12\n"
     ]
    }
   ],
   "source": [
    "myset = {15,42,14,63,78,56,12,21,35}\n",
    "maxim = max(myset)\n",
    "minim = min(myset)\n",
    "print(maxim)\n",
    "print(minim)"
   ]
  },
  {
   "cell_type": "markdown",
   "id": "43e144a2",
   "metadata": {},
   "source": [
    "8. write a python program to remove all the elements from a set."
   ]
  },
  {
   "cell_type": "code",
   "execution_count": 12,
   "id": "7dca4735",
   "metadata": {},
   "outputs": [
    {
     "name": "stdout",
     "output_type": "stream",
     "text": [
      "set()\n"
     ]
    }
   ],
   "source": [
    "myset = {15,42,14,63,78,56,12,21,35}\n",
    "myset.clear()\n",
    "print(myset)"
   ]
  },
  {
   "cell_type": "markdown",
   "id": "d3c5c8bb",
   "metadata": {},
   "source": [
    "9.write a python program to update a set with the union of itself and another set."
   ]
  },
  {
   "cell_type": "code",
   "execution_count": 8,
   "id": "1022b4b0",
   "metadata": {},
   "outputs": [
    {
     "name": "stdout",
     "output_type": "stream",
     "text": [
      "{98, 35, 41, 42, 12, 78, 14, 15, 21, 56, 24, 57, 63}\n"
     ]
    }
   ],
   "source": [
    "set1 = {15,42,14,63,78,56,12,21,35}\n",
    "set2 = {24,41,57,98}\n",
    "set1.update(set2)\n",
    "print(set1)"
   ]
  },
  {
   "cell_type": "markdown",
   "id": "bbcf9918",
   "metadata": {},
   "source": [
    "10. write a python program to find the sum of all the elements in a set."
   ]
  },
  {
   "cell_type": "code",
   "execution_count": 11,
   "id": "dd23b4ea",
   "metadata": {},
   "outputs": [
    {
     "name": "stdout",
     "output_type": "stream",
     "text": [
      "336\n"
     ]
    }
   ],
   "source": [
    "myset = {15,42,14,63,78,56,12,21,35}\n",
    "sum_ = sum(myset)\n",
    "print(sum_)"
   ]
  },
  {
   "cell_type": "code",
   "execution_count": null,
   "id": "0f28ace6",
   "metadata": {},
   "outputs": [],
   "source": []
  }
 ],
 "metadata": {
  "kernelspec": {
   "display_name": "Python 3 (ipykernel)",
   "language": "python",
   "name": "python3"
  },
  "language_info": {
   "codemirror_mode": {
    "name": "ipython",
    "version": 3
   },
   "file_extension": ".py",
   "mimetype": "text/x-python",
   "name": "python",
   "nbconvert_exporter": "python",
   "pygments_lexer": "ipython3",
   "version": "3.11.5"
  }
 },
 "nbformat": 4,
 "nbformat_minor": 5
}

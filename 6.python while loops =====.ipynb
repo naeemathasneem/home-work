{
 "cells": [
  {
   "cell_type": "code",
   "execution_count": null,
   "id": "73b299b0",
   "metadata": {},
   "outputs": [],
   "source": []
  },
  {
   "cell_type": "markdown",
   "id": "87703e26",
   "metadata": {},
   "source": [
    "1. write a program to display the first 7 multiples of 7."
   ]
  },
  {
   "cell_type": "code",
   "execution_count": null,
   "id": "49674500",
   "metadata": {},
   "outputs": [],
   "source": []
  },
  {
   "cell_type": "markdown",
   "id": "58f54810",
   "metadata": {},
   "source": [
    "2.find the sum of numbers in a list using while loop."
   ]
  },
  {
   "cell_type": "code",
   "execution_count": null,
   "id": "12706881",
   "metadata": {},
   "outputs": [],
   "source": []
  },
  {
   "cell_type": "markdown",
   "id": "3c5864ec",
   "metadata": {},
   "source": [
    "3.write a program to seperate positive and negative number from a list."
   ]
  },
  {
   "cell_type": "code",
   "execution_count": null,
   "id": "2bd1d367",
   "metadata": {},
   "outputs": [],
   "source": []
  },
  {
   "cell_type": "markdown",
   "id": "12e3b64a",
   "metadata": {},
   "source": [
    "4..write a program that appends the square of each number to a new list."
   ]
  },
  {
   "cell_type": "code",
   "execution_count": null,
   "id": "39e8d612",
   "metadata": {},
   "outputs": [],
   "source": []
  },
  {
   "cell_type": "markdown",
   "id": "e2986aaa",
   "metadata": {},
   "source": [
    "5..write a program in python to reverse a word."
   ]
  },
  {
   "cell_type": "code",
   "execution_count": null,
   "id": "873f7d53",
   "metadata": {},
   "outputs": [],
   "source": []
  },
  {
   "cell_type": "markdown",
   "id": "3b8541fc",
   "metadata": {},
   "source": [
    "6.write a program to filter even and odd numer from a list."
   ]
  },
  {
   "cell_type": "code",
   "execution_count": null,
   "id": "fe9b9aa0",
   "metadata": {},
   "outputs": [],
   "source": []
  },
  {
   "cell_type": "markdown",
   "id": "b43fc43f",
   "metadata": {},
   "source": [
    "7.create a simple number guessing game where thecomputer generates a random number between 1 and 10 and the user has to guess it. provide hints whether the guess is too high or too low. keep asking until the user guesses correctly."
   ]
  },
  {
   "cell_type": "code",
   "execution_count": null,
   "id": "27964f5a",
   "metadata": {},
   "outputs": [],
   "source": []
  },
  {
   "cell_type": "markdown",
   "id": "3b41c943",
   "metadata": {},
   "source": [
    "8."
   ]
  },
  {
   "cell_type": "code",
   "execution_count": null,
   "id": "ff14b376",
   "metadata": {},
   "outputs": [],
   "source": []
  },
  {
   "cell_type": "markdown",
   "id": "454c1e96",
   "metadata": {},
   "source": []
  },
  {
   "cell_type": "code",
   "execution_count": null,
   "id": "85e82fa6",
   "metadata": {},
   "outputs": [],
   "source": []
  },
  {
   "cell_type": "raw",
   "id": "347d0ea9",
   "metadata": {},
   "source": []
  },
  {
   "cell_type": "code",
   "execution_count": null,
   "id": "faca718d",
   "metadata": {},
   "outputs": [],
   "source": []
  },
  {
   "cell_type": "markdown",
   "id": "7d0b5c09",
   "metadata": {},
   "source": []
  },
  {
   "cell_type": "code",
   "execution_count": null,
   "id": "d79fd74e",
   "metadata": {},
   "outputs": [],
   "source": []
  },
  {
   "cell_type": "markdown",
   "id": "1f81636c",
   "metadata": {},
   "source": []
  },
  {
   "cell_type": "code",
   "execution_count": null,
   "id": "a18b7603",
   "metadata": {},
   "outputs": [],
   "source": []
  },
  {
   "cell_type": "markdown",
   "id": "9077291f",
   "metadata": {},
   "source": []
  },
  {
   "cell_type": "code",
   "execution_count": null,
   "id": "cfd44b72",
   "metadata": {},
   "outputs": [],
   "source": []
  },
  {
   "cell_type": "markdown",
   "id": "a6d04aa2",
   "metadata": {},
   "source": []
  },
  {
   "cell_type": "code",
   "execution_count": null,
   "id": "e5dcc517",
   "metadata": {},
   "outputs": [],
   "source": []
  },
  {
   "cell_type": "markdown",
   "id": "f68d7d8f",
   "metadata": {},
   "source": []
  },
  {
   "cell_type": "code",
   "execution_count": null,
   "id": "7e843b5a",
   "metadata": {},
   "outputs": [],
   "source": []
  },
  {
   "cell_type": "markdown",
   "id": "6c17b296",
   "metadata": {},
   "source": []
  },
  {
   "cell_type": "code",
   "execution_count": null,
   "id": "a646bb62",
   "metadata": {},
   "outputs": [],
   "source": []
  }
 ],
 "metadata": {
  "kernelspec": {
   "display_name": "Python 3 (ipykernel)",
   "language": "python",
   "name": "python3"
  },
  "language_info": {
   "codemirror_mode": {
    "name": "ipython",
    "version": 3
   },
   "file_extension": ".py",
   "mimetype": "text/x-python",
   "name": "python",
   "nbconvert_exporter": "python",
   "pygments_lexer": "ipython3",
   "version": "3.11.5"
  }
 },
 "nbformat": 4,
 "nbformat_minor": 5
}

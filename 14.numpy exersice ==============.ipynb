{
 "cells": [
  {
   "cell_type": "markdown",
   "id": "ce8c92c0",
   "metadata": {},
   "source": [
    "1.Create a NumPy array a with values 1 through 9. Reshape the array to a 3x3 matrix.\n"
   ]
  },
  {
   "cell_type": "code",
   "execution_count": 2,
   "id": "1dce0558",
   "metadata": {},
   "outputs": [
    {
     "name": "stdout",
     "output_type": "stream",
     "text": [
      "[[1 2 3]\n",
      " [4 5 6]\n",
      " [7 8 9]]\n"
     ]
    }
   ],
   "source": [
    "import numpy as np\n",
    "a = np.arange(1,10)\n",
    "print(a.reshape(3,3))\n"
   ]
  },
  {
   "cell_type": "markdown",
   "id": "db4062e5",
   "metadata": {},
   "source": [
    " 2.Create a NumPy array b with values 5 through 13. Reshape the array to a 3x3 matrix. "
   ]
  },
  {
   "cell_type": "code",
   "execution_count": 3,
   "id": "757013c4",
   "metadata": {},
   "outputs": [
    {
     "name": "stdout",
     "output_type": "stream",
     "text": [
      "[[ 5  6  7]\n",
      " [ 8  9 10]\n",
      " [11 12 13]]\n"
     ]
    }
   ],
   "source": [
    "import numpy as np\n",
    "b= np.arange(5,14)\n",
    "print(b.reshape(3,3))"
   ]
  },
  {
   "cell_type": "markdown",
   "id": "b00fa006",
   "metadata": {},
   "source": [
    "3.Multiply the matrix a by the matrix b using the @ operator. "
   ]
  },
  {
   "cell_type": "code",
   "execution_count": 4,
   "id": "990dd362",
   "metadata": {},
   "outputs": [
    {
     "name": "stdout",
     "output_type": "stream",
     "text": [
      "[[ 54  60  66]\n",
      " [126 141 156]\n",
      " [198 222 246]]\n"
     ]
    }
   ],
   "source": [
    "a = np.array([[1,2,3],\n",
    "              [4,5,6],\n",
    "              [7,8,9]])\n",
    "\n",
    "b= np.array([[5,6,7],\n",
    "             [ 8,9,10],\n",
    "             [11,12,13]])\n",
    "\n",
    "result = a @ b\n",
    "print(result)"
   ]
  },
  {
   "cell_type": "markdown",
   "id": "bbe7976c",
   "metadata": {},
   "source": [
    "4.Compute the dot product of the first row of a with the first column of b."
   ]
  },
  {
   "cell_type": "code",
   "execution_count": 5,
   "id": "83acc924",
   "metadata": {},
   "outputs": [
    {
     "name": "stdout",
     "output_type": "stream",
     "text": [
      "54\n"
     ]
    }
   ],
   "source": [
    "a = np.array([[1,2,3],\n",
    "              [4,5,6],\n",
    "              [7,8,9]])\n",
    "\n",
    "b= np.array([[5,6,7],\n",
    "             [ 8,9,10],\n",
    "             [11,12,13]])\n",
    "first_row_a =a[0,:]\n",
    "first_colomn_b = b[:,0]\n",
    "dot_product = np.dot(first_row_a,first_colomn_b )\n",
    "print(dot_product)"
   ]
  },
  {
   "cell_type": "markdown",
   "id": "076e9440",
   "metadata": {},
   "source": [
    " 5.Compute the sum of all the elements in the matrix a. "
   ]
  },
  {
   "cell_type": "code",
   "execution_count": 9,
   "id": "a545a3d7",
   "metadata": {},
   "outputs": [
    {
     "name": "stdout",
     "output_type": "stream",
     "text": [
      "45\n"
     ]
    }
   ],
   "source": [
    "a = np.array([[1,2,3],\n",
    "              [4,5,6],\n",
    "              [7,8,9]])\n",
    "result = np.sum(a)\n",
    "print(result)"
   ]
  },
  {
   "cell_type": "markdown",
   "id": "411e53d5",
   "metadata": {},
   "source": [
    "6.Compute the product of all the elements in the matrix b. "
   ]
  },
  {
   "cell_type": "code",
   "execution_count": 11,
   "id": "ddc4e741",
   "metadata": {},
   "outputs": [
    {
     "name": "stdout",
     "output_type": "stream",
     "text": [
      "259459200\n"
     ]
    }
   ],
   "source": [
    "\n",
    "b= np.array([[5,6,7],\n",
    "             [ 8,9,10],\n",
    "             [11,12,13]])\n",
    "\n",
    "result =np.prod(b)\n",
    "print(result)"
   ]
  },
  {
   "cell_type": "markdown",
   "id": "c7faa543",
   "metadata": {},
   "source": [
    "7.Create a 1D NumPy array c with values [1, 2, 3, 4, 5]. Use the np.insert() function to insert the value 0 at index 2."
   ]
  },
  {
   "cell_type": "code",
   "execution_count": 17,
   "id": "c18c9dec",
   "metadata": {},
   "outputs": [
    {
     "name": "stdout",
     "output_type": "stream",
     "text": [
      "[1 2 0 3 4 5]\n"
     ]
    }
   ],
   "source": [
    "c = np.array( [1, 2, 3, 4, 5])\n",
    "c = np.insert(c,2,0)\n",
    "print(c)"
   ]
  },
  {
   "cell_type": "markdown",
   "id": "9846117a",
   "metadata": {},
   "source": [
    " 8.Create a 1D NumPy array d with values [1, 2, 3, 4, 5]. Use the np.delete() function to delete the value at index 3."
   ]
  },
  {
   "cell_type": "code",
   "execution_count": 19,
   "id": "3a44a2f3",
   "metadata": {},
   "outputs": [
    {
     "name": "stdout",
     "output_type": "stream",
     "text": [
      "[1 2 0 4 5]\n"
     ]
    }
   ],
   "source": [
    "d = np.array( [1, 2, 3, 4, 5])\n",
    "d = np.delete(c,3)\n",
    "print(d)"
   ]
  },
  {
   "cell_type": "markdown",
   "id": "2ef76697",
   "metadata": {},
   "source": [
    " 9.Create a 2D NumPy array e with dimensions 3x4 and values 1 through 12. Use boolean indexing to select all elements greater than 5. "
   ]
  },
  {
   "cell_type": "code",
   "execution_count": 24,
   "id": "66f41921",
   "metadata": {},
   "outputs": [
    {
     "name": "stdout",
     "output_type": "stream",
     "text": [
      "[[False False False False]\n",
      " [ True  True  True  True]\n",
      " [ True  True  True  True]]\n"
     ]
    }
   ],
   "source": [
    "e = np.arange(1,13).reshape(3,4)\n",
    "\n",
    "five_up = (e > 5) | (e == 5)\n",
    "print(five_up)\n"
   ]
  },
  {
   "cell_type": "markdown",
   "id": "90a1fdff",
   "metadata": {},
   "source": [
    "10.Create a 2D NumPy array f with dimensions 4x5 and values 1 through 20. Use fancy indexing to select the elements at positions (0,0), (1,2), and (2,4). "
   ]
  },
  {
   "cell_type": "code",
   "execution_count": 26,
   "id": "a4d03f34",
   "metadata": {},
   "outputs": [
    {
     "name": "stdout",
     "output_type": "stream",
     "text": [
      "Array f:\n",
      "[[ 1  2  3  4  5]\n",
      " [ 6  7  8  9 10]\n",
      " [11 12 13 14 15]\n",
      " [16 17 18 19 20]]\n",
      "Selected elements: [ 1  8 15]\n"
     ]
    }
   ],
   "source": [
    "f= np.arange(1,21).reshape(4,5)\n",
    "\n",
    "elements = f[[0,1,2],[0,2,4]]\n",
    "\n",
    "print(f\"Array f:\\n{f}\")\n",
    "print(f\"Selected elements: {elements}\")"
   ]
  },
  {
   "cell_type": "markdown",
   "id": "f759620e",
   "metadata": {},
   "source": [
    "11.Create a 2D NumPy array a with dimensions 5x5 and values 0.5 in the diagonal and 0 elsewhere."
   ]
  },
  {
   "cell_type": "code",
   "execution_count": 12,
   "id": "1ec24d55",
   "metadata": {},
   "outputs": [
    {
     "name": "stdout",
     "output_type": "stream",
     "text": [
      "[[0.5 0.  0.  0.  0. ]\n",
      " [0.  0.5 0.  0.  0. ]\n",
      " [0.  0.  0.5 0.  0. ]\n",
      " [0.  0.  0.  0.5 0. ]\n",
      " [0.  0.  0.  0.  0.5]]\n"
     ]
    }
   ],
   "source": [
    "a= np.eye(5)*0.5\n",
    "print(a)"
   ]
  },
  {
   "cell_type": "markdown",
   "id": "c7bf6953",
   "metadata": {},
   "source": [
    "12.Create a 3D NumPy array b with dimensions 3x3x3 and random integer values between 0 and 10.\n"
   ]
  },
  {
   "cell_type": "code",
   "execution_count": 13,
   "id": "06976dac",
   "metadata": {},
   "outputs": [
    {
     "name": "stdout",
     "output_type": "stream",
     "text": [
      "[[[ 0  6  5]\n",
      "  [ 6 10  8]\n",
      "  [ 1  5  2]]\n",
      "\n",
      " [[ 1  0 10]\n",
      "  [ 2  5  0]\n",
      "  [ 2  6  0]]\n",
      "\n",
      " [[ 5  1  6]\n",
      "  [ 8  7  1]\n",
      "  [ 5  1  3]]]\n"
     ]
    }
   ],
   "source": [
    "b = np.random.randint(0,11,size = (3,3,3))\n",
    "print(b)"
   ]
  },
  {
   "cell_type": "markdown",
   "id": "aae85b77",
   "metadata": {},
   "source": [
    "13.Compute the mean of each row of the matrix b.\n"
   ]
  },
  {
   "cell_type": "code",
   "execution_count": null,
   "id": "c83970d6",
   "metadata": {},
   "outputs": [],
   "source": [
    "b = np.array([[[ 0  6  5]\n",
    "              [ 6 10  8]\n",
    "              [ 1  5  2]]\n",
    "\n",
    "             [[ 1  0 10]\n",
    "              [ 2  5  0]\n",
    "              [ 2  6  0]]\n",
    "\n",
    "             [[ 5  1  6]\n",
    "              [ 8  7  1]\n",
    "              [ 5  1  3]]])\n",
    "\n",
    "row_mean ="
   ]
  },
  {
   "cell_type": "markdown",
   "id": "af40992a",
   "metadata": {},
   "source": [
    "14.Compute the standard deviation of each column of the matrix a.\n"
   ]
  },
  {
   "cell_type": "code",
   "execution_count": null,
   "id": "0205da5e",
   "metadata": {},
   "outputs": [],
   "source": []
  },
  {
   "cell_type": "markdown",
   "id": "1c3bf942",
   "metadata": {},
   "source": [
    "15.Compute the matrix multiplication of a with its transpose.\n"
   ]
  },
  {
   "cell_type": "code",
   "execution_count": null,
   "id": "dcdd0611",
   "metadata": {},
   "outputs": [],
   "source": []
  },
  {
   "cell_type": "markdown",
   "id": "0ec3cef4",
   "metadata": {},
   "source": [
    "16.Create a 2D NumPy array c with dimensions 6x6 and values 1 in the diagonal and 0 elsewhere. Use the np.roll() function to shift the values in each row to the right by one position.\n"
   ]
  },
  {
   "cell_type": "code",
   "execution_count": null,
   "id": "9a045f7d",
   "metadata": {},
   "outputs": [],
   "source": []
  },
  {
   "cell_type": "markdown",
   "id": "01498d99",
   "metadata": {},
   "source": [
    "17.Create a 2D NumPy array d with dimensions 4x4 and random values between 0 and 1. Normalize the values in each row to have a sum of 1.\n"
   ]
  },
  {
   "cell_type": "code",
   "execution_count": null,
   "id": "91fed34c",
   "metadata": {},
   "outputs": [],
   "source": []
  },
  {
   "cell_type": "markdown",
   "id": "562907c2",
   "metadata": {},
   "source": [
    "18.Create a 2D NumPy array e with dimensions 3x3 and values 1 through 9. Use the np.flipud() function to flip the matrix vertically.\n"
   ]
  },
  {
   "cell_type": "code",
   "execution_count": null,
   "id": "a798cd43",
   "metadata": {},
   "outputs": [],
   "source": []
  },
  {
   "cell_type": "markdown",
   "id": "aff4c609",
   "metadata": {},
   "source": [
    "19.Create a 2D NumPy array f with dimensions 4x4 and random integer values between 0 and 10. Sort the values in each row in ascending order.\n"
   ]
  },
  {
   "cell_type": "code",
   "execution_count": null,
   "id": "3f04d280",
   "metadata": {},
   "outputs": [],
   "source": []
  },
  {
   "cell_type": "markdown",
   "id": "b5630b08",
   "metadata": {},
   "source": [
    "20.Create a 2D NumPy array g with dimensions 5x5 and values 0 in the diagonal and 1 elsewhere. Use the np.linalg.inv() function to compute the inverse of the matrix.\n"
   ]
  },
  {
   "cell_type": "code",
   "execution_count": null,
   "id": "6b6411ed",
   "metadata": {},
   "outputs": [],
   "source": []
  }
 ],
 "metadata": {
  "kernelspec": {
   "display_name": "Python 3 (ipykernel)",
   "language": "python",
   "name": "python3"
  },
  "language_info": {
   "codemirror_mode": {
    "name": "ipython",
    "version": 3
   },
   "file_extension": ".py",
   "mimetype": "text/x-python",
   "name": "python",
   "nbconvert_exporter": "python",
   "pygments_lexer": "ipython3",
   "version": "3.11.5"
  }
 },
 "nbformat": 4,
 "nbformat_minor": 5
}

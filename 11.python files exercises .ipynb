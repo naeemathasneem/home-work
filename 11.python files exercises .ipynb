{
 "cells": [
  {
   "cell_type": "markdown",
   "id": "28199071",
   "metadata": {},
   "source": [
    "1.write a program that reads a text file and counts the number of lines in the file."
   ]
  },
  {
   "cell_type": "code",
   "execution_count": 2,
   "id": "7349af1b",
   "metadata": {},
   "outputs": [
    {
     "name": "stdout",
     "output_type": "stream",
     "text": [
      "total number of lines is: 8\n"
     ]
    }
   ],
   "source": [
    "import os\n",
    "file_path = r\"C:\\\\Users\\\\naimu\\\\Softroniics\\\\Python\\\\sample.txt\"\n",
    "with open(file_path,\"r\") as myfile:\n",
    "    lines = len(myfile.readlines())\n",
    "    print(f\"total number of lines is: {lines}\")"
   ]
  },
  {
   "cell_type": "markdown",
   "id": "010b5e8c",
   "metadata": {},
   "source": [
    "2.write a program that reads a text file and prints the first n lines of the file, where n is a user-specified integer."
   ]
  },
  {
   "cell_type": "code",
   "execution_count": 12,
   "id": "3fca7d12",
   "metadata": {},
   "outputs": [
    {
     "name": "stdout",
     "output_type": "stream",
     "text": [
      "Enter the number of lines to be print: 2\n",
      "print the first 2 lines:-\n",
      "this is the first line\n",
      "hello\n"
     ]
    }
   ],
   "source": [
    "\n",
    "file_path = \"C:\\\\Users\\\\naimu\\\\Softroniics\\\\Python\\\\sample.txt\"\n",
    "file = open(file_path, \"r\")\n",
    "\n",
    "n = int(input(\"Enter the number of lines to be print: \"))\n",
    "print(f\"print the first {n} lines:-\")\n",
    "for i in range(n):\n",
    "    line = file.readline()\n",
    "    print(line, end=\"\")\n",
    "\n",
    "file.close() "
   ]
  },
  {
   "cell_type": "markdown",
   "id": "241e9771",
   "metadata": {},
   "source": [
    "3.write a program that reads a text file and prints the last n lines of the file, where n is a user- specified integer."
   ]
  },
  {
   "cell_type": "code",
   "execution_count": 1,
   "id": "442028ac",
   "metadata": {},
   "outputs": [
    {
     "name": "stdout",
     "output_type": "stream",
     "text": [
      "Enter the number of lines to be print: 4\n",
      "print the last 4 lines\n",
      "i am naeema\n",
      "\n",
      "i'm from vallapuzha\n",
      "i'm a data science student"
     ]
    }
   ],
   "source": [
    "file_path = \"C:\\\\Users\\\\naimu\\\\Softroniics\\\\Python\\\\sample.txt\"\n",
    "file = open(file_path, \"r\")\n",
    "\n",
    "\n",
    "n = int(input(\"Enter the number of lines to be print: \"))\n",
    "print(f\"print the last {n} lines\")\n",
    "line = file.readlines()\n",
    "for i in range(-n,0):\n",
    "    print(line[i], end=\"\")\n",
    "\n",
    "file.close()\n"
   ]
  },
  {
   "cell_type": "markdown",
   "id": "517b8d39",
   "metadata": {},
   "source": [
    "4.write a program that reads a text file and removes all blank lines from the file."
   ]
  },
  {
   "cell_type": "code",
   "execution_count": 10,
   "id": "f2d6b216",
   "metadata": {},
   "outputs": [
    {
     "name": "stdout",
     "output_type": "stream",
     "text": [
      "Hi, this is the first line !\n",
      "\n",
      "i'm naeema thasneem..\n",
      "\n",
      "i'm from vallapuzha..!\n",
      "=================\n",
      "Hi, this is the first line !\n",
      "i'm naeema thasneem..\n",
      "i'm from vallapuzha..!\n"
     ]
    }
   ],
   "source": [
    "input_file = \"file01.txt\"\n",
    "out_file = \"file02.txt\"\n",
    "\n",
    "f =open(input_file ,\"w\")\n",
    "f.write(\"Hi, this is the first line !\\n\")\n",
    "f.write(\"\\n\")\n",
    "f.write(\"i'm naeema thasneem..\\n\")\n",
    "f.write(\"\\n\")\n",
    "f.write(\"i'm from vallapuzha..!\")\n",
    " \n",
    "f.close()\n",
    "\n",
    "with open(input_file,\"r\") as fr:\n",
    "    lines = fr.readlines()\n",
    "    for i in lines:\n",
    "        print(i.strip())\n",
    "print(\"=================\")\n",
    "\n",
    "with open(out_file,\"w\") as fw, open(input_file,\"r\") as fr:\n",
    "    for line in fr.readlines():\n",
    "        if line.strip():\n",
    "            fw.write(line)\n",
    "            \n",
    "with open(out_file,\"r\") as r:\n",
    "    new_lines = r.readlines()\n",
    "    for x in new_lines:\n",
    "        print(x.strip())\n",
    "\n"
   ]
  },
  {
   "cell_type": "markdown",
   "id": "5057ca1a",
   "metadata": {},
   "source": [
    "5.write a program that reads a text file and removes all lines that contain a specified string."
   ]
  },
  {
   "cell_type": "code",
   "execution_count": 3,
   "id": "685a7420",
   "metadata": {},
   "outputs": [
    {
     "name": "stdout",
     "output_type": "stream",
     "text": [
      "Enter the string to remove from the file: am\n",
      "===============================\n",
      "hi friends\n",
      "\n",
      "good morning\n",
      "\n",
      "i am naeema thasneem\n",
      "\n",
      "i am from vallapuzha\n",
      "\n",
      "i complete my graduation from CU\n",
      "===================\n",
      "hi friends\n",
      "good morning\n",
      "i complete my graduation from CU\n"
     ]
    }
   ],
   "source": [
    "def remove_lines(file_name,new_file,remove_string):\n",
    "    with open(file_name,\"r\") as fr:\n",
    "        lines = fr.readlines()\n",
    "        for line in lines:\n",
    "            print(line)\n",
    "        print(\"===================\")\n",
    "        \n",
    "    with open(new_file,\"w\") as fw:\n",
    "        for line in lines:\n",
    "            if remove_string not in line:\n",
    "                fw.write(line)\n",
    "    \n",
    "    with open(new_file,\"r\") as r:\n",
    "        new_lines = r.readlines()\n",
    "        for x in new_lines:\n",
    "            y = x.strip()\n",
    "            print(y)\n",
    "        \n",
    "        \n",
    "\n",
    "file_name_path = \"my_file\"\n",
    "new_file_path = \"my_new_file\"\n",
    "\n",
    "fn= open(file_name_path,\"w\")\n",
    "fn.write(\"hi friends\\n\")\n",
    "fn.write(\"good morning\\n\")\n",
    "fn.write(\"i am naeema thasneem\\n\")\n",
    "fn.write(\"i am from vallapuzha\\n\")\n",
    "fn.write(\"i complete my graduation from CU\")\n",
    "\n",
    "fn.close()\n",
    "\n",
    " \n",
    "remove_string = input(\"Enter the string to remove from the file: \")\n",
    "print(\"===============================\")\n",
    "\n",
    "\n",
    "remove_lines(file_name_path, new_file_path, remove_string)\n",
    "    "
   ]
  },
  {
   "cell_type": "markdown",
   "id": "f4fcf690",
   "metadata": {},
   "source": [
    "6.write a program that reads a text file and removes all punctuation from the text."
   ]
  },
  {
   "cell_type": "code",
   "execution_count": 11,
   "id": "fe5c97bb",
   "metadata": {},
   "outputs": [
    {
     "name": "stdout",
     "output_type": "stream",
     "text": [
      "Hi this is the first line \n",
      "\n",
      "im naeema thasneem\n",
      "\n",
      "im from vallapuzha\n"
     ]
    }
   ],
   "source": [
    "import string\n",
    "\n",
    "remove=dict.fromkeys(map(ord,string.punctuation))\n",
    "with open(\"file01.txt\",\"r\") as fr:\n",
    "    lines=fr.read().translate(remove)\n",
    "\n",
    "print(lines)"
   ]
  },
  {
   "cell_type": "markdown",
   "id": "7be7b61e",
   "metadata": {},
   "source": [
    "7.write a program that reads a text file and capitalizes the first letter of each word."
   ]
  },
  {
   "cell_type": "code",
   "execution_count": 5,
   "id": "c965a24c",
   "metadata": {},
   "outputs": [
    {
     "name": "stdout",
     "output_type": "stream",
     "text": [
      "This Is The First Line\n",
      "\n",
      "\n",
      "\n",
      "I'M Naeema Thasneem\n",
      "\n",
      "\n",
      "\n",
      "I'M From Vallapuzha\n"
     ]
    }
   ],
   "source": [
    "with open (\"file01.txt\",\"r\") as fr:\n",
    "    for line in fr:\n",
    "        output=line.title()\n",
    "        print(output)"
   ]
  },
  {
   "cell_type": "markdown",
   "id": "7823d45c",
   "metadata": {},
   "source": [
    "8.write a program that reads a text file and converts all the text to uppercase."
   ]
  },
  {
   "cell_type": "code",
   "execution_count": 12,
   "id": "9246dd3d",
   "metadata": {},
   "outputs": [
    {
     "name": "stdout",
     "output_type": "stream",
     "text": [
      "HI, THIS IS THE FIRST LINE !\n",
      "\n",
      "\n",
      "\n",
      "I'M NAEEMA THASNEEM..\n",
      "\n",
      "\n",
      "\n",
      "I'M FROM VALLAPUZHA..!\n"
     ]
    }
   ],
   "source": [
    "with open (\"file01.txt\",\"r\") as fr:\n",
    "    for line in fr:\n",
    "        output=line.upper()\n",
    "        print(output)"
   ]
  },
  {
   "cell_type": "markdown",
   "id": "a68ff9e9",
   "metadata": {},
   "source": [
    "9.write a program that reads a text file and converts all the text to lowercase."
   ]
  },
  {
   "cell_type": "code",
   "execution_count": 13,
   "id": "0122d278",
   "metadata": {},
   "outputs": [
    {
     "name": "stdout",
     "output_type": "stream",
     "text": [
      "hi, this is the first line !\n",
      "\n",
      "\n",
      "\n",
      "i'm naeema thasneem..\n",
      "\n",
      "\n",
      "\n",
      "i'm from vallapuzha..!\n"
     ]
    }
   ],
   "source": [
    "with open (\"file01.txt\",\"r\") as fr:\n",
    "    for line in fr:\n",
    "        output=line.lower()\n",
    "        print(output)"
   ]
  },
  {
   "cell_type": "markdown",
   "id": "1ff59856",
   "metadata": {},
   "source": [
    "10.Write a program that reads a text file and replaces all occurrences of one word with another word."
   ]
  },
  {
   "cell_type": "code",
   "execution_count": 15,
   "id": "b2938bd2",
   "metadata": {},
   "outputs": [
    {
     "name": "stdout",
     "output_type": "stream",
     "text": [
      "Hi, this is the first line !\n",
      "\n",
      "we are naeema thasneem..\n",
      "\n",
      "we are from vallapuzha..!\n"
     ]
    }
   ],
   "source": [
    "old_word=\"i'm\"\n",
    "replace_word = \"we are\"\n",
    "\n",
    "\n",
    "with open(\"file01.txt\",\"r\") as fh:\n",
    "    content=fh.read()\n",
    "    modified_=content.replace(old_word,replace_word)\n",
    "    \n",
    "with open (\"file01.txt\",'w') as fh:\n",
    "    fh.write(modified_)\n",
    "\n",
    "with open (\"file01.txt\",\"r\") as g:\n",
    "    print(g.read())"
   ]
  },
  {
   "cell_type": "markdown",
   "id": "625d2e2c",
   "metadata": {},
   "source": [
    "11.Write a program that reads a text file, removes all the vowels (a, e, i, o, u) from the text, and writes the result to a new file.\n",
    "\n"
   ]
  },
  {
   "cell_type": "code",
   "execution_count": 1,
   "id": "45a676e7",
   "metadata": {},
   "outputs": [
    {
     "name": "stdout",
     "output_type": "stream",
     "text": [
      "Name,age,profession\n",
      "\n",
      "duaa,29,collector\n",
      "\n",
      "naeema,25,Engineer\n",
      "\n",
      "samad,28,Doctor\n",
      "\n",
      "==================\n",
      "N\n"
     ]
    }
   ],
   "source": [
    "def remove_vowels(my_file,my_new_file,vowels):\n",
    "    with open(my_file,\"r\") as fr:\n",
    "        lines = fr.readlines()\n",
    "        for line in lines:\n",
    "            print(line)\n",
    "        print(\"==================\")\n",
    "        \n",
    "    with open(my_new_file,\"w\") as fw:\n",
    "        for line in lines:\n",
    "            for vow in vowels:\n",
    "                if vow in line:\n",
    "                    fw.write(line)\n",
    "    \n",
    "    with open(my_file,\"r\") as r:\n",
    "        new_lines = r.read()\n",
    "        for x in new_lines:\n",
    "            y = x.strip(vow)\n",
    "            print(y)\n",
    "            break\n",
    "            \n",
    "vowels = \"AEIOUaeiou\"\n",
    "my_file = \"file01.txt\"\n",
    "my_new_file = \"file02.txt\"\n",
    "\n",
    "\n",
    "remove_vowels(my_file,my_new_file,vowels)"
   ]
  },
  {
   "cell_type": "markdown",
   "id": "60e9f8e0",
   "metadata": {},
   "source": [
    "12.Write a program that reads a text file and counts the number of times each word appears in the text. The program should then write the results to a new file, sorted by the number of times each word appears in descending order.\n"
   ]
  },
  {
   "cell_type": "code",
   "execution_count": 21,
   "id": "84383ee8",
   "metadata": {},
   "outputs": [
    {
     "name": "stdout",
     "output_type": "stream",
     "text": [
      "we: 2\n",
      "are: 2\n",
      "hi: 1\n",
      "this: 1\n",
      "is: 1\n",
      "the: 1\n",
      "first: 1\n",
      "line: 1\n",
      "!: 1\n",
      "naeema: 1\n",
      "thasneem: 1\n",
      "from: 1\n",
      "vallapuzha!: 1\n",
      "\n"
     ]
    }
   ],
   "source": [
    "with open(\"file01.txt\", \"r\") as file:\n",
    "    text = file.read()\n",
    "    text = text.lower().replace('.', '').replace(',', '')\n",
    "    words = text.split()\n",
    "\n",
    "    word_freq = {}       # Create a dictionary to store word frequencies\n",
    "    for word in words:\n",
    "        word_freq[word] = word_freq.get(word, 0) + 1  #If the word is not found in the dictionary, it returns the default value 0.\n",
    "\n",
    "    sorted_word_freq = sorted(word_freq.items(), key=lambda x: x[1], reverse=True)  # Sort the dictionary by value (word frequency)\n",
    "\n",
    "with open(\"file02.txt\", \"w\") as file1:\n",
    "    for word, freq in sorted_word_freq:\n",
    "        file1.write(f\"{word}: {freq}\\n\")\n",
    "\n",
    "with open (\"file02.txt\", \"r\") as d:\n",
    "    print(d.read())"
   ]
  },
  {
   "cell_type": "markdown",
   "id": "eeca6f7c",
   "metadata": {},
   "source": [
    "13.Write a program that reads a binary file and prints out the hexadecimal representation of the file's contents.\n"
   ]
  },
  {
   "cell_type": "code",
   "execution_count": 30,
   "id": "330598c9",
   "metadata": {},
   "outputs": [
    {
     "name": "stdout",
     "output_type": "stream",
     "text": [
      "Hexadecimal representation of  {'file02.txt'}\n",
      "\"we: 2\": \"77653A2032\"\n",
      "\"are: 2\": \"6172653A2032\"\n",
      "\"hi: 1\": \"68693A2031\"\n",
      "\"this: 1\": \"746869733A2031\"\n",
      "\"is: 1\": \"69733A2031\"\n",
      "\"the: 1\": \"7468653A2031\"\n",
      "\"first: 1\": \"66697273743A2031\"\n",
      "\"line: 1\": \"6C696E653A2031\"\n",
      "\"!: 1\": \"213A2031\"\n",
      "\"naeema: 1\": \"6E6165656D613A2031\"\n",
      "\"thasneem: 1\": \"746861736E65656D3A2031\"\n",
      "\"from: 1\": \"66726F6D3A2031\"\n",
      "\"vallapuzha!: 1\": \"76616C6C6170757A6861213A2031\"\n"
     ]
    }
   ],
   "source": [
    "with open(\"file02.txt\", \"rb\") as binary_file:  #mode ('rb'), it is read as a sequence of bytes (binary data).\n",
    "    binary_data = binary_file.read()\n",
    "\n",
    "    # Convert binary data to hexadecimal # .decode is used to convert binary(encoded) into string(decoded) .\n",
    "    hex_representation = '\\n'.join(f'\"{line.decode()}\": \"{\"\".join(f\"{byte:02X}\" for byte in line)}\"'for line in binary_data.splitlines())\n",
    "\n",
    "    print(\"Hexadecimal representation of \",{\"file02.txt\"})\n",
    "    print(hex_representation)"
   ]
  },
  {
   "cell_type": "raw",
   "id": "e07969cf",
   "metadata": {},
   "source": [
    "14.Write a program that reads a CSV file (comma-separated values) and converts it into an HTML table.\n"
   ]
  },
  {
   "cell_type": "code",
   "execution_count": 31,
   "id": "ed6df680",
   "metadata": {},
   "outputs": [
    {
     "name": "stdout",
     "output_type": "stream",
     "text": [
      "txt convert csv file is : \n",
      "      Name  age profession\n",
      "0    duaa   29  collector\n",
      "1  naeema   25   Engineer\n",
      "2   samad   28     Doctor\n",
      "============================================================\n",
      "<table border=\"1\" class=\"dataframe\">\n",
      "  <thead>\n",
      "    <tr style=\"text-align: right;\">\n",
      "      <th></th>\n",
      "      <th>Name</th>\n",
      "      <th>age</th>\n",
      "      <th>profession</th>\n",
      "    </tr>\n",
      "  </thead>\n",
      "  <tbody>\n",
      "    <tr>\n",
      "      <th>0</th>\n",
      "      <td>duaa</td>\n",
      "      <td>29</td>\n",
      "      <td>collector</td>\n",
      "    </tr>\n",
      "    <tr>\n",
      "      <th>1</th>\n",
      "      <td>naeema</td>\n",
      "      <td>25</td>\n",
      "      <td>Engineer</td>\n",
      "    </tr>\n",
      "    <tr>\n",
      "      <th>2</th>\n",
      "      <td>samad</td>\n",
      "      <td>28</td>\n",
      "      <td>Doctor</td>\n",
      "    </tr>\n",
      "  </tbody>\n",
      "</table>\n"
     ]
    }
   ],
   "source": [
    "file_name=\"file01.txt\"    # opended a new file as txt file.\n",
    "f=open(file_name,\"w\")\n",
    "f.write(\"Name,age,profession\\n\")\n",
    "f.write(\"duaa,29,collector\\n\")\n",
    "f.write(\"naeema,25,Engineer\\n\")\n",
    "f.write(\"samad,28,Doctor\\n\")\n",
    "f.close()\n",
    "\n",
    "import pandas as pd\n",
    "\n",
    "df=pd.read_csv(\"file01.txt\") # convert txt to csv.\n",
    "df.to_csv(\"file01.csv\")\n",
    "print(\"txt convert csv file is : \\n\",df.head())    \n",
    "print(\"=\"*60)\n",
    "\n",
    "df.to_html(\"file01.html\") # convert csv to html.\n",
    "html_file=df.to_html()\n",
    "print(html_file)"
   ]
  },
  {
   "cell_type": "markdown",
   "id": "7af292c4",
   "metadata": {},
   "source": [
    "15.Write a program that reads a JSON file and displays the data in a formatted way, sorted by a given field.\n"
   ]
  },
  {
   "cell_type": "code",
   "execution_count": 1,
   "id": "7c09c421",
   "metadata": {},
   "outputs": [
    {
     "name": "stdout",
     "output_type": "stream",
     "text": [
      "An error occurred: [Errno 2] No such file or directory: 'your_file.json'\n"
     ]
    }
   ],
   "source": [
    "import json\n",
    "\n",
    "def read_and_sort_json(file_path, sort_field):\n",
    "    try:\n",
    "        # Open the JSON file and load the data\n",
    "        with open(file_path, 'r') as json_file:\n",
    "            data = json.load(json_file)\n",
    "\n",
    "        # Sort the data by the specified field\n",
    "        sorted_data = sorted(data, key=lambda x: x[sort_field])\n",
    "\n",
    "        # Print the sorted data in a formatted way\n",
    "        print(json.dumps(sorted_data, indent=4))\n",
    "    except Exception as e:\n",
    "        print(f\"An error occurred: {e}\")\n",
    "\n",
    "# Replace 'your_file.json' with the path to your JSON file\n",
    "# Replace 'name' with the field you want to sort by\n",
    "read_and_sort_json('your_file.json', 'name')"
   ]
  },
  {
   "cell_type": "markdown",
   "id": "ac2e50a4",
   "metadata": {},
   "source": [
    "16.Write a program that reads a directory of image files (such as .jpg or .png) and resizes them to a given width and height. The program should then save the resized images to a new directory.\n"
   ]
  },
  {
   "cell_type": "code",
   "execution_count": 2,
   "id": "cfa8dbc4",
   "metadata": {},
   "outputs": [
    {
     "name": "stdout",
     "output_type": "stream",
     "text": [
      "Requirement already satisfied: pillow in c:\\users\\naimu\\anaconda3\\lib\\site-packages (9.4.0)\n"
     ]
    }
   ],
   "source": [
    "!pip install pillow"
   ]
  },
  {
   "cell_type": "code",
   "execution_count": 4,
   "id": "bbebd2ee",
   "metadata": {},
   "outputs": [
    {
     "ename": "FileNotFoundError",
     "evalue": "[WinError 3] The system cannot find the path specified: 'path/to/input/directory'",
     "output_type": "error",
     "traceback": [
      "\u001b[1;31m---------------------------------------------------------------------------\u001b[0m",
      "\u001b[1;31mFileNotFoundError\u001b[0m                         Traceback (most recent call last)",
      "Cell \u001b[1;32mIn[4], line 21\u001b[0m\n\u001b[0;32m     18\u001b[0m                 resized_img\u001b[38;5;241m.\u001b[39msave(os\u001b[38;5;241m.\u001b[39mpath\u001b[38;5;241m.\u001b[39mjoin(output_dir, filename))\n\u001b[0;32m     20\u001b[0m \u001b[38;5;66;03m# Example usage:\u001b[39;00m\n\u001b[1;32m---> 21\u001b[0m resize_images(\u001b[38;5;124m'\u001b[39m\u001b[38;5;124mpath/to/input/directory\u001b[39m\u001b[38;5;124m'\u001b[39m, \u001b[38;5;124m'\u001b[39m\u001b[38;5;124mpath/to/output/directory\u001b[39m\u001b[38;5;124m'\u001b[39m, \u001b[38;5;241m800\u001b[39m, \u001b[38;5;241m600\u001b[39m)\n",
      "Cell \u001b[1;32mIn[4], line 10\u001b[0m, in \u001b[0;36mresize_images\u001b[1;34m(input_dir, output_dir, width, height)\u001b[0m\n\u001b[0;32m      7\u001b[0m     os\u001b[38;5;241m.\u001b[39mmakedirs(output_dir)\n\u001b[0;32m      9\u001b[0m \u001b[38;5;66;03m# Loop through all files in the input directory\u001b[39;00m\n\u001b[1;32m---> 10\u001b[0m \u001b[38;5;28;01mfor\u001b[39;00m filename \u001b[38;5;129;01min\u001b[39;00m os\u001b[38;5;241m.\u001b[39mlistdir(input_dir):\n\u001b[0;32m     11\u001b[0m     \u001b[38;5;28;01mif\u001b[39;00m filename\u001b[38;5;241m.\u001b[39mendswith((\u001b[38;5;124m'\u001b[39m\u001b[38;5;124m.jpg\u001b[39m\u001b[38;5;124m'\u001b[39m, \u001b[38;5;124m'\u001b[39m\u001b[38;5;124m.png\u001b[39m\u001b[38;5;124m'\u001b[39m)):\n\u001b[0;32m     12\u001b[0m         \u001b[38;5;66;03m# Open the image file\u001b[39;00m\n\u001b[0;32m     13\u001b[0m         \u001b[38;5;28;01mwith\u001b[39;00m Image\u001b[38;5;241m.\u001b[39mopen(os\u001b[38;5;241m.\u001b[39mpath\u001b[38;5;241m.\u001b[39mjoin(input_dir, filename)) \u001b[38;5;28;01mas\u001b[39;00m img:\n\u001b[0;32m     14\u001b[0m             \u001b[38;5;66;03m# Resize the image\u001b[39;00m\n",
      "\u001b[1;31mFileNotFoundError\u001b[0m: [WinError 3] The system cannot find the path specified: 'path/to/input/directory'"
     ]
    }
   ],
   "source": [
    "from PIL import Image\n",
    "import os\n",
    "\n",
    "def resize_images(input_dir, output_dir, width, height):\n",
    "    # Create the output directory if it doesn't exist\n",
    "    if not os.path.exists(output_dir):\n",
    "        os.makedirs(output_dir)\n",
    "\n",
    "    # Loop through all files in the input directory\n",
    "    for filename in os.listdir(input_dir):\n",
    "        if filename.endswith(('.jpg', '.png')):\n",
    "            # Open the image file\n",
    "            with Image.open(os.path.join(input_dir, filename)) as img:\n",
    "                # Resize the image\n",
    "                resized_img = img.resize((width, height))\n",
    "\n",
    "                # Save the resized image to the output directory\n",
    "                resized_img.save(os.path.join(output_dir, filename))\n",
    "\n",
    "# Example usage:\n",
    "resize_images('path/to/input/directory', 'path/to/output/directory', 800, 600)\n"
   ]
  },
  {
   "cell_type": "markdown",
   "id": "9511000b",
   "metadata": {},
   "source": [
    "17.Write a program that reads a text file and replaces all occurrences of a given word with another word. The program should then write the modified text to a new file."
   ]
  },
  {
   "cell_type": "code",
   "execution_count": 17,
   "id": "3d737314",
   "metadata": {},
   "outputs": [
    {
     "name": "stdout",
     "output_type": "stream",
     "text": [
      "Hi, this is the first line !\n",
      "\n",
      "we are naeema thasneem..\n",
      "\n",
      "we are from vallapuzha..!\n"
     ]
    }
   ],
   "source": [
    "old_word=\"i'm\"\n",
    "replace_word = \"we are\"\n",
    "\n",
    "\n",
    "with open(\"file01.txt\",\"r\") as fh:\n",
    "    content=fh.read()\n",
    "    modified_=content.replace(old_word,replace_word)\n",
    "\n",
    "with open (\"file01.txt\",'w') as fh:\n",
    "    fh.write(modified_)\n",
    "\n",
    "with open (\"file01.txt\",\"r\") as g:\n",
    "    print(g.read())"
   ]
  },
  {
   "cell_type": "code",
   "execution_count": null,
   "id": "5e79db87",
   "metadata": {},
   "outputs": [],
   "source": []
  }
 ],
 "metadata": {
  "kernelspec": {
   "display_name": "Python 3 (ipykernel)",
   "language": "python",
   "name": "python3"
  },
  "language_info": {
   "codemirror_mode": {
    "name": "ipython",
    "version": 3
   },
   "file_extension": ".py",
   "mimetype": "text/x-python",
   "name": "python",
   "nbconvert_exporter": "python",
   "pygments_lexer": "ipython3",
   "version": "3.11.5"
  }
 },
 "nbformat": 4,
 "nbformat_minor": 5
}

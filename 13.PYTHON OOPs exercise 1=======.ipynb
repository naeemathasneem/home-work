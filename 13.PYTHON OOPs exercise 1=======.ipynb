{
 "cells": [
  {
   "cell_type": "markdown",
   "id": "0fb5ac42",
   "metadata": {},
   "source": [
    "1.Create a class called Rectangle with attributes width and height. The class should prevent the width and height attributes from being set to negative values. Add methods to calculate the area and perimeter of the rectangle.\n"
   ]
  },
  {
   "cell_type": "code",
   "execution_count": 9,
   "id": "768310b9",
   "metadata": {},
   "outputs": [
    {
     "name": "stdout",
     "output_type": "stream",
     "text": [
      "please enter positive measurement!\n"
     ]
    }
   ],
   "source": [
    "class Rectangle:\n",
    "    width = 0.0\n",
    "    height =0.0\n",
    "    \n",
    "    \n",
    "    #method to calculate area\n",
    "    def calculate_area(self):\n",
    "        print(\"area of room = \", self.width * self.height)\n",
    "        \n",
    "    #method to calculate perimeter\n",
    "    def calculate_perimeter(self):\n",
    "        print(\"perimeter of room = \", 2*(self.width + self.height))\n",
    "        \n",
    "#create object of rectangle class\n",
    "result = Rectangle()\n",
    "\n",
    "#assaign values to all the attributes\n",
    "result.width = -20\n",
    "result.height = 30\n",
    "\n",
    "#access method inside class\n",
    "if result.width<0 or result.height<0:\n",
    "    print(\"please enter positive measurement!\")\n",
    "else:\n",
    "    result.calculate_area()\n",
    "    result.calculate_perimeter()\n"
   ]
  },
  {
   "cell_type": "markdown",
   "id": "053250c7",
   "metadata": {},
   "source": [
    "2.Create a class called Employee with attributes name, age, position, and salary. Add methods to give the employee a raise, and to print out their information in a formatted way.\n"
   ]
  },
  {
   "cell_type": "code",
   "execution_count": 21,
   "id": "6e7764dc",
   "metadata": {},
   "outputs": [
    {
     "name": "stdout",
     "output_type": "stream",
     "text": [
      "name : duaa\n",
      "age : 30\n",
      "position : data scientist\n",
      "salary: 55000\n",
      "mr/mrs duaa,CONGRATULATIONS on your salary increase, your hard work and dedication have paid off and you deserve it.Your new salary is 75000 \n",
      "your updated details are given below\n",
      "name : duaa\n",
      "age : 30\n",
      "position : data scientist\n",
      "salary: 75000\n"
     ]
    }
   ],
   "source": [
    "class Employee:\n",
    "    name =\"\"\n",
    "    age =\"\"\n",
    "    position =\"\"\n",
    "    salary =\"\"\n",
    "    \n",
    "    \n",
    "    #method to print out their information \n",
    "    def Employee_details(self):\n",
    "        print(\"name :\",self.name)\n",
    "        print(\"age :\",self.age)\n",
    "        print(\"position :\",self.position)\n",
    "        print(\"salary:\",self.salary)\n",
    "        \n",
    "    def raised_employee(self):\n",
    "        print(f\"mr/mrs {self.name},CONGRATULATIONS on your salary increase, your hard work and dedication have paid off and you deserve it.Your new salary is 75000 \")\n",
    "        \n",
    "    def new_details(self):\n",
    "        print(\"your updated details are given below\")\n",
    "        print(\"name :\",self.name)\n",
    "        print(\"age :\",self.age)\n",
    "        print(\"position :\",self.position)\n",
    "        print(\"salary: 75000\")\n",
    "        \n",
    "#create object of employee class\n",
    "result = Employee()\n",
    "\n",
    "#assaign value to all attributes\n",
    "result.name =\"duaa\"\n",
    "result.age = 30\n",
    "result.position = \"data scientist\" \n",
    "result.salary = 55000\n",
    "        \n",
    "#access method inside the class\n",
    "result.Employee_details()\n",
    "result.raised_employee()\n",
    "result.new_details()"
   ]
  },
  {
   "cell_type": "markdown",
   "id": "21d7c47f",
   "metadata": {},
   "source": [
    "3.Create a class called Fraction with attributes numerator and denominator. Add methods to add, subtract, multiply, and divide two fractions. Also, add a method to simplify the fraction to its lowest terms.\n"
   ]
  },
  {
   "cell_type": "code",
   "execution_count": 23,
   "id": "993e6b1d",
   "metadata": {},
   "outputs": [
    {
     "name": "stdout",
     "output_type": "stream",
     "text": [
      "the sum is  60\n",
      "the difference is  30\n",
      "the product is  675\n",
      "the fraction is  3\n",
      "the simplified fraction is  0\n"
     ]
    }
   ],
   "source": [
    "class Fraction:\n",
    "    numerator = 0\n",
    "    denominator = 0\n",
    "    \n",
    "    # method to print out their sum\n",
    "    def add(self):\n",
    "        print(\"the sum is \", self.numerator + self.denominator)\n",
    "    def subtract(self):\n",
    "        print(\"the difference is \", self.numerator - self.denominator)\n",
    "    def multiply(self):\n",
    "        print(\"the product is \", self.numerator * self.denominator)\n",
    "    def divide(self):\n",
    "        print(\"the fraction is \", self.numerator // self.denominator)\n",
    "    def simple_fraction(self):\n",
    "        print(\"the simplified fraction is \", self.numerator % self.denominator)\n",
    "        \n",
    "#create object of Fraction class\n",
    "result = Fraction()\n",
    "\n",
    "#assaign values to all attributes\n",
    "result.numerator = 45\n",
    "result.denominator = 15\n",
    "\n",
    "#access method inside the class\n",
    "result.add()\n",
    "result.subtract()\n",
    "result.multiply()\n",
    "result.divide()\n",
    "result.simple_fraction()"
   ]
  },
  {
   "cell_type": "markdown",
   "id": "c9fd63ae",
   "metadata": {},
   "source": [
    "4.Create a class called Person with attributes name and age. Add a method to calculate the age difference between two people.\n"
   ]
  },
  {
   "cell_type": "code",
   "execution_count": 3,
   "id": "5bfb1cd1",
   "metadata": {},
   "outputs": [
    {
     "name": "stdout",
     "output_type": "stream",
     "text": [
      "the age difference is  22\n"
     ]
    }
   ],
   "source": [
    "class Person:\n",
    "    name_1= \"\"\n",
    "    age_1= 0\n",
    "    name_2 =\"\"\n",
    "    age_2 =0\n",
    "    \n",
    "    def age_difference(self):\n",
    "        ad = self.age_1 - self.age_2\n",
    "        if ad <0:\n",
    "            print(\"the age difference is \", -(ad))\n",
    "        else:\n",
    "            print(\"the age diffence is \", ad)\n",
    "            \n",
    "# create object for Person class\n",
    "result = Person()\n",
    "\n",
    "#assaign values to all atributes\n",
    "result.name_1 = \"duaa\"\n",
    "result.age_1 = 2\n",
    "result.name_2 =\"naima\" \n",
    "result.age_2 = 24\n",
    "\n",
    "#access method inside the class\n",
    "result.age_difference()\n"
   ]
  },
  {
   "cell_type": "markdown",
   "id": "402e51b8",
   "metadata": {},
   "source": [
    "5.Create a class called Playlist with a list of songs as an attribute. Add methods to add and remove songs from the playlist, and to shuffle the playlist.\n"
   ]
  },
  {
   "cell_type": "code",
   "execution_count": 8,
   "id": "6090d1e6",
   "metadata": {},
   "outputs": [
    {
     "ename": "TypeError",
     "evalue": "Playlist.add() missing 1 required positional argument: 'song'",
     "output_type": "error",
     "traceback": [
      "\u001b[1;31m---------------------------------------------------------------------------\u001b[0m",
      "\u001b[1;31mTypeError\u001b[0m                                 Traceback (most recent call last)",
      "Cell \u001b[1;32mIn[8], line 23\u001b[0m\n\u001b[0;32m     19\u001b[0m result \u001b[38;5;241m=\u001b[39m Playlist()\n\u001b[0;32m     21\u001b[0m result\u001b[38;5;241m.\u001b[39msongs \u001b[38;5;241m=\u001b[39m [\u001b[38;5;124m\"\u001b[39m\u001b[38;5;124mapp ki nezron ne samja\u001b[39m\u001b[38;5;124m\"\u001b[39m,\u001b[38;5;124m\"\u001b[39m\u001b[38;5;124mchand sifarish\u001b[39m\u001b[38;5;124m\"\u001b[39m,\u001b[38;5;124m\"\u001b[39m\u001b[38;5;124mfirst class\u001b[39m\u001b[38;5;124m\"\u001b[39m,\u001b[38;5;124m\"\u001b[39m\u001b[38;5;124mkaun tujhe yu\u001b[39m\u001b[38;5;124m\"\u001b[39m]\n\u001b[1;32m---> 23\u001b[0m result\u001b[38;5;241m.\u001b[39madd()\n\u001b[0;32m     24\u001b[0m result\u001b[38;5;241m.\u001b[39mremove()\n\u001b[0;32m     25\u001b[0m result\u001b[38;5;241m.\u001b[39msguffle()\n",
      "\u001b[1;31mTypeError\u001b[0m: Playlist.add() missing 1 required positional argument: 'song'"
     ]
    }
   ],
   "source": [
    "class Playlist:\n",
    "    songs = []\n",
    "    \n",
    "    def add(self,song):\n",
    "        for song in self.songs:\n",
    "            self.song.append(song)\n",
    "            print(\"your playlist of songs,which are you added :\",song)\n",
    "    def remove(self):\n",
    "        for song in songs:\n",
    "            removed_song = [self.song]\n",
    "            if removed_song not in songs:\n",
    "                print(\"the new playlist is:\", songs)\n",
    "    def shuffle(self):\n",
    "        l = len(songs)\n",
    "        for i in range(l):\n",
    "            shufffled_playlist = self.song[i] == self.song[i+1]\n",
    "            print (\"the shuffled playlist is :\",shuffled_playlist)\n",
    "            \n",
    "result = Playlist()\n",
    "\n",
    "result.songs = [\"app ki nezron ne samja\",\"chand sifarish\",\"first class\",\"kaun tujhe yu\"]\n",
    "\n",
    "result.add()\n",
    "result.remove()\n",
    "result.sguffle()\n",
    "\n",
    "\n"
   ]
  },
  {
   "cell_type": "markdown",
   "id": "b111c8dc",
   "metadata": {},
   "source": [
    "6.Create a class called BankAccount with attributes balance and account_number. Add methods to transfer money between accounts and to print out the transaction history of the account.\n"
   ]
  },
  {
   "cell_type": "code",
   "execution_count": null,
   "id": "13388b82",
   "metadata": {},
   "outputs": [],
   "source": []
  },
  {
   "cell_type": "markdown",
   "id": "e029a4a3",
   "metadata": {},
   "source": [
    "7.Create a class called Deck with a list of cards as an attribute. Add methods to shuffle the deck, draw a card from the deck, and add a card to the deck.\n"
   ]
  },
  {
   "cell_type": "code",
   "execution_count": null,
   "id": "1e9cf194",
   "metadata": {},
   "outputs": [],
   "source": []
  },
  {
   "cell_type": "markdown",
   "id": "f11913f9",
   "metadata": {},
   "source": [
    "8.Create a class called Animal with the properties name, species, and sound. Create a method called make_sound that prints the sound of the animal.\n"
   ]
  },
  {
   "cell_type": "code",
   "execution_count": null,
   "id": "1abc6461",
   "metadata": {},
   "outputs": [],
   "source": []
  },
  {
   "cell_type": "markdown",
   "id": "ef4b71bd",
   "metadata": {},
   "source": [
    "9.Create a subclass of Animal called Dog. The Dog class should have an additional property called breed. Override the make_sound method to print \"Woof!\".\n"
   ]
  },
  {
   "cell_type": "code",
   "execution_count": null,
   "id": "62059bcd",
   "metadata": {},
   "outputs": [],
   "source": []
  },
  {
   "cell_type": "markdown",
   "id": "1e011097",
   "metadata": {},
   "source": [
    "10.Create another subclass of Animal called Cat. The Cat class should have an additional property called color. Override the make_sound method to print \"Meow!\"."
   ]
  },
  {
   "cell_type": "code",
   "execution_count": null,
   "id": "1949aa27",
   "metadata": {},
   "outputs": [],
   "source": []
  },
  {
   "cell_type": "markdown",
   "id": "13cc083e",
   "metadata": {},
   "source": [
    "11.Create a class called Zoo with a property animals that is a list of Animal objects. Create a method called add_animal that adds an animal to the list. Create a method called list_animals that prints the name and species of each animal in the list.\n"
   ]
  },
  {
   "cell_type": "code",
   "execution_count": null,
   "id": "cab318e3",
   "metadata": {},
   "outputs": [],
   "source": []
  },
  {
   "cell_type": "markdown",
   "id": "a21adadc",
   "metadata": {},
   "source": [
    "12.Create an instance of Zoo. Add an instance of Dog and an instance of Cat to the Zoo. Call the list_animals method to print the information of all the animals in the zoo.\n"
   ]
  },
  {
   "cell_type": "code",
   "execution_count": null,
   "id": "fc09d18e",
   "metadata": {},
   "outputs": [],
   "source": []
  },
  {
   "cell_type": "markdown",
   "id": "73bb1a03",
   "metadata": {},
   "source": [
    "13.Create a subclass of Dog called GuideDog. The GuideDog class should have an additional property called trained_for. Override the make_sound method to print \"Bark!\".\n"
   ]
  },
  {
   "cell_type": "code",
   "execution_count": null,
   "id": "7985c33b",
   "metadata": {},
   "outputs": [],
   "source": []
  },
  {
   "cell_type": "markdown",
   "id": "f422f8af",
   "metadata": {},
   "source": []
  },
  {
   "cell_type": "markdown",
   "id": "f2eb7215",
   "metadata": {},
   "source": []
  }
 ],
 "metadata": {
  "kernelspec": {
   "display_name": "Python 3 (ipykernel)",
   "language": "python",
   "name": "python3"
  },
  "language_info": {
   "codemirror_mode": {
    "name": "ipython",
    "version": 3
   },
   "file_extension": ".py",
   "mimetype": "text/x-python",
   "name": "python",
   "nbconvert_exporter": "python",
   "pygments_lexer": "ipython3",
   "version": "3.11.5"
  }
 },
 "nbformat": 4,
 "nbformat_minor": 5
}

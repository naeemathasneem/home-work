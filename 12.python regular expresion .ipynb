{
 "cells": [
  {
   "cell_type": "markdown",
   "id": "d7c7474d",
   "metadata": {},
   "source": [
    "1.Write a regular expression that matches any email address (e.g. \"example@gmail.com\").\n"
   ]
  },
  {
   "cell_type": "code",
   "execution_count": 29,
   "id": "f37a70a0",
   "metadata": {},
   "outputs": [
    {
     "name": "stdout",
     "output_type": "stream",
     "text": [
      "naeema.0@gamil.com\n",
      "samad-duaa@gmail.com\n"
     ]
    }
   ],
   "source": [
    "import re\n",
    "str = \"naeema.0@gamil.com and samad-duaa@gmail.com\"\n",
    "emails = re.findall(r\"[\\w\\.-]+@[\\w\\.-]+\",str)\n",
    "for email in emails:\n",
    "    print(email)"
   ]
  },
  {
   "cell_type": "markdown",
   "id": "3bed733a",
   "metadata": {},
   "source": [
    "2.Write a regular expression that matches any date in the format \"YYYY-MM-DD\" (e.g. \"2023-04-13\").\n"
   ]
  },
  {
   "cell_type": "code",
   "execution_count": 5,
   "id": "f1a14d99",
   "metadata": {},
   "outputs": [
    {
     "name": "stdout",
     "output_type": "stream",
     "text": [
      "match\n",
      "['1999-09-10', '2021-08-08']\n"
     ]
    }
   ],
   "source": [
    "import re \n",
    "s= \"my and my daughter's date of births are 1999-09-10 and 2021-08-08\"\n",
    "x = re.search(\"[0-9][0-9][0-9][0-9]-[0-9][0-9]-[0-9][0-9]\",s)\n",
    "if x:\n",
    "    print(\"match\")\n",
    "    print(re.findall(\"[0-9][0-9][0-9][0-9]-[0-9][0-9]-[0-9][0-9]\",s))\n",
    "else:\n",
    "    print(\"not match\")"
   ]
  },
  {
   "cell_type": "markdown",
   "id": "2492ac57",
   "metadata": {},
   "source": [
    "3.Write a regular expression that matches any sequence of digits that contains at least one odd digit (e.g. \"12345\").\n"
   ]
  },
  {
   "cell_type": "code",
   "execution_count": 6,
   "id": "b5c58434",
   "metadata": {},
   "outputs": [
    {
     "name": "stdout",
     "output_type": "stream",
     "text": [
      "match\n",
      "['9', '5', '7', '3']\n"
     ]
    }
   ],
   "source": [
    "import re\n",
    "txt = \"9567326820 is my phone number\"\n",
    "x = re.search(\"[1,3,5,7,9]\",txt)\n",
    "y = re.findall(\"[1,3,5,7,9]\",txt)\n",
    "if x:\n",
    "    print(\"match\")\n",
    "    print(y)\n",
    "else:\n",
    "    print(\"not match\")"
   ]
  },
  {
   "cell_type": "markdown",
   "id": "560625f0",
   "metadata": {},
   "source": [
    "4.Write a regular expression that matches any string that contains only letters and spaces (e.g. \"Hello world\").\n"
   ]
  },
  {
   "cell_type": "code",
   "execution_count": 10,
   "id": "5339d34e",
   "metadata": {},
   "outputs": [
    {
     "name": "stdout",
     "output_type": "stream",
     "text": [
      "match\n",
      "[' is my phone number']\n"
     ]
    }
   ],
   "source": [
    "import re\n",
    "txt = \"9567326820 is my phone number\"\n",
    "x = re.search(r\"[\\D+\\s\\D+]+\",txt)\n",
    "y = re.findall(r\"[\\D+\\s\\D+]+\",txt)               \n",
    "if x:\n",
    "    print(\"match\")\n",
    "    print(y)\n",
    "else:\n",
    "    print(\"not match\")"
   ]
  },
  {
   "cell_type": "markdown",
   "id": "2254a9a1",
   "metadata": {},
   "source": [
    "5.Write a regular expression that matches any string that starts with a vowel and ends with a consonant (e.g. \"apple\", \"banana\", \"cherry\").\n"
   ]
  },
  {
   "cell_type": "code",
   "execution_count": 2,
   "id": "0987048a",
   "metadata": {},
   "outputs": [
    {
     "name": "stdout",
     "output_type": "stream",
     "text": [
      "not match\n"
     ]
    }
   ],
   "source": [
    "import re\n",
    "txt = \"beautiful action movie is so interesting\"\n",
    "\n",
    "x = re.search(r\"^[aeiouAEIOU].*[bcdfghjklmnpqrstvwxyzBCDFGHJKLMNPQRSTVWXYZ]$\",txt)\n",
    "if x:\n",
    "    print(\"match\")\n",
    "else:\n",
    "    print(\"not match\")"
   ]
  },
  {
   "cell_type": "markdown",
   "id": "f80fc9ba",
   "metadata": {},
   "source": [
    "6.Write a regular expression that matches any string that contains the word \"python\" (case-insensitive) surrounded by exactly two word characters on each side (e.g. \"This is a python string\").\n"
   ]
  },
  {
   "cell_type": "code",
   "execution_count": 4,
   "id": "c2e3ab09",
   "metadata": {},
   "outputs": [
    {
     "name": "stdout",
     "output_type": "stream",
     "text": [
      "not match\n"
     ]
    }
   ],
   "source": [
    "import re\n",
    "txt =  \"This is a python string\"\n",
    "x = \"\\s..\\spython\\s..\\s\" \n",
    "y = re.search(x,txt)\n",
    "if y:\n",
    "    print(\"match\")\n",
    "else:\n",
    "    print(\"not match\")"
   ]
  },
  {
   "cell_type": "markdown",
   "id": "bd638603",
   "metadata": {},
   "source": [
    "7.Write a regular expression that matches any string that contains a sequence of three or more consecutive lowercase letters (e.g. \"hello\", \"goodbye\").\n"
   ]
  },
  {
   "cell_type": "code",
   "execution_count": 9,
   "id": "cf7219ef",
   "metadata": {},
   "outputs": [
    {
     "name": "stdout",
     "output_type": "stream",
     "text": [
      "match\n",
      "['hello', 'goodbye']\n"
     ]
    }
   ],
   "source": [
    "import re\n",
    "txt = \"hello goodbye\"\n",
    "x = \"[a-z][a-z][a-z]+\" \n",
    "y = re.search(x,txt)\n",
    "z = re.findall(x,txt)\n",
    "if y:\n",
    "    print(\"match\")\n",
    "    print(z)\n",
    "else:\n",
    "    print(\"not match\")"
   ]
  },
  {
   "cell_type": "markdown",
   "id": "9ce12f44",
   "metadata": {},
   "source": [
    "8.Write a regular expression that matches any string that contains a valid IPv4 address (e.g. \"192.168.0.1\").\n"
   ]
  },
  {
   "cell_type": "code",
   "execution_count": 10,
   "id": "3db4982c",
   "metadata": {},
   "outputs": [
    {
     "name": "stdout",
     "output_type": "stream",
     "text": [
      "match\n",
      "['192.168.0.1']\n"
     ]
    }
   ],
   "source": [
    "import re\n",
    "txt =  \"192.168.0.1\"\n",
    "x = r\"\\b(?:\\d{1,3}\\.){3}\\d{1,3}\\b\" \n",
    "y = re.search(x,txt)\n",
    "z = re.findall(x,txt)\n",
    "if y:\n",
    "    print(\"match\")\n",
    "    print(z)\n",
    "else:\n",
    "    print(\"not match\")"
   ]
  },
  {
   "cell_type": "markdown",
   "id": "de6d70e4",
   "metadata": {},
   "source": [
    "9.Write a regular expression to match a valid IPv4 address in dotted decimal notation (e.g. \"192.168.1.1\"). Use re.match() to test your regular expression on the string \"192.168.1.1\". Print the matched string and its starting position.\n"
   ]
  },
  {
   "cell_type": "code",
   "execution_count": 12,
   "id": "f9a97ee0",
   "metadata": {},
   "outputs": [
    {
     "name": "stdout",
     "output_type": "stream",
     "text": [
      "match\n",
      "<re.Match object; span=(0, 11), match='192.168.1.1'>\n"
     ]
    }
   ],
   "source": [
    "import re\n",
    "txt =  \"192.168.1.1\"\n",
    "x = r\"\\b(?:\\d{1,3}\\.){3}\\d{1,3}\\b\" \n",
    "y = re.search(x,txt)\n",
    "z = re.match(x,txt)\n",
    "if y:\n",
    "    print(\"match\")\n",
    "    print(z)\n",
    "else:\n",
    "    print(\"not match\")"
   ]
  },
  {
   "cell_type": "markdown",
   "id": "69258efa",
   "metadata": {},
   "source": [
    "10.Write a regular expression to match a valid date in the format \"YYYY-MM-DD\" (e.g. \"2022-04-13\"). Use re.findall() to test your regular expression on the string \"Today's date is 2022-04-13\". Print the list of matched strings.\n"
   ]
  },
  {
   "cell_type": "code",
   "execution_count": 13,
   "id": "f98389fc",
   "metadata": {},
   "outputs": [
    {
     "name": "stdout",
     "output_type": "stream",
     "text": [
      "match\n",
      "['2022-04-13']\n"
     ]
    }
   ],
   "source": [
    "import re \n",
    "s= \"Today's date is 2022-04-13\"\n",
    "x = re.search(\"[0-9][0-9][0-9][0-9]-[0-9][0-9]-[0-9][0-9]\",s)\n",
    "if x:\n",
    "    print(\"match\")\n",
    "    print(re.findall(\"[0-9][0-9][0-9][0-9]-[0-9][0-9]-[0-9][0-9]\",s))\n",
    "else:\n",
    "    print(\"not match\")"
   ]
  },
  {
   "cell_type": "markdown",
   "id": "06ef9d26",
   "metadata": {},
   "source": [
    "11.Write a regular expression to match a valid email address (e.g. \"john_doe@example.com\"). Use re.findall() to test your regular expression on the string \"My email address is john_doe@example.com, and I can be reached there anytime.\". Print the list of matched strings.\n"
   ]
  },
  {
   "cell_type": "code",
   "execution_count": 16,
   "id": "8daabd76",
   "metadata": {},
   "outputs": [
    {
     "name": "stdout",
     "output_type": "stream",
     "text": [
      "match\n",
      "['john_doe@example.com']\n"
     ]
    }
   ],
   "source": [
    "import re\n",
    "str =  \"My email address is john_doe@example.com, and I can be reached there anytime.\"\n",
    "x = re.search(r\"[\\w\\.-]+@[\\w\\.-]+\",str)\n",
    "if x:\n",
    "    print(\"match\")\n",
    "    print(re.findall(r\"[\\w\\.-]+@[\\w\\.-]+\",str))\n",
    "else:\n",
    "    print(\"not match\")\n"
   ]
  },
  {
   "cell_type": "markdown",
   "id": "f6e5df15",
   "metadata": {},
   "source": [
    "12.Write a regular expression to match a valid URL in the format \"http://www.example.com\" or \"https://www.example.com\" (with or without the \"s\" in \"https\"). Use re.sub() to replace all occurrences of URLs in the string \"Visit http://www.example.com for more information, or visit https://www.example.com for secure access.\" with the string \"[URL REDACTED]\". Print the modified string.\n"
   ]
  },
  {
   "cell_type": "code",
   "execution_count": 3,
   "id": "958a76ca",
   "metadata": {},
   "outputs": [
    {
     "name": "stdout",
     "output_type": "stream",
     "text": [
      "Visit URL REDACTED for more information, or visit URL REDACTED for secure access.\n"
     ]
    }
   ],
   "source": [
    "import re\n",
    "\n",
    "text = \"Visit http://www.example.com for more information, or visit https://www.example.com for secure access.\"\n",
    "x = r'https?://www\\.example\\.com'\n",
    "\n",
    "modified_text = re.sub(x,\"URL REDACTED\", text)\n",
    "\n",
    "print(modified_text)\n"
   ]
  },
  {
   "cell_type": "markdown",
   "id": "b55a6eda",
   "metadata": {},
   "source": [
    "13.Write a regular expression to match a sequence of one or more digits, optionally followed by a decimal point and one or more digits (e.g. \"123\", \"3.14\"). Use re.finditer() to iterate over all numbers in the string \"The value of pi is approximately 3.14, and e is approximately 2.71828.\". Print the matched string and its starting and ending positions for each number.\n"
   ]
  },
  {
   "cell_type": "code",
   "execution_count": 3,
   "id": "73c0490d",
   "metadata": {},
   "outputs": [
    {
     "name": "stdout",
     "output_type": "stream",
     "text": [
      "Matched string: 3.14, Start: 33, End: 37\n",
      "Matched string: 2.71828, Start: 62, End: 69\n"
     ]
    }
   ],
   "source": [
    "import re\n",
    "\n",
    "text =  \"The value of pi is approximately 3.14, and e is approximately 2.71828.\"\n",
    "\n",
    "pattern = r\"\\d+(?:\\.\\d+)?\"\n",
    "\n",
    "for match in re.finditer(pattern, text):\n",
    "    # Extract the matched string\n",
    "    matched_string = match.group()\n",
    "    # Get the starting position of the matched string\n",
    "    start_position = match.start()\n",
    "    # Get the ending position of the matched string\n",
    "    end_position = match.end()\n",
    "    # Print the matched string and its positions\n",
    "    print(f\"Matched string: {matched_string}, Start: {start_position}, End: {end_position}\")"
   ]
  },
  {
   "cell_type": "markdown",
   "id": "c31f8c22",
   "metadata": {},
   "source": [
    "14.Write a regular expression to match a valid credit card number in the format \"XXXX-XXXX-XXXX-XXXX\", where X is a digit. Use re.findall() to test your regular expression on the string \"My credit card number is 1234-5678-9012-3456.\". Print the list of matched strings.\n"
   ]
  },
  {
   "cell_type": "code",
   "execution_count": 9,
   "id": "c176bbb9",
   "metadata": {},
   "outputs": [
    {
     "name": "stdout",
     "output_type": "stream",
     "text": [
      "the list of matched strings. ['1234-5678-9012-3456']\n"
     ]
    }
   ],
   "source": [
    "import re \n",
    "\n",
    "text =  \"My credit card number is 1234-5678-9012-3456.\"\n",
    "pattern = \"[0-9][0-9][0-9][0-9]-[0-9][0-9][0-9][0-9]-[0-9][0-9][0-9][0-9]-[0-9][0-9][0-9][0-9]\"\n",
    "\n",
    "matched_string = re.findall(pattern,text)\n",
    "print(\"the list of matched strings.\",matched_string)\n",
    "\n"
   ]
  },
  {
   "cell_type": "markdown",
   "id": "5daae491",
   "metadata": {},
   "source": [
    "15.Write a regular expression to match a valid phone number in the format \"(XXX) XXX-XXXX\", where X is a digit. Use re.sub() to replace all occurrences of phone numbers in the string \"Please call (555) 123-4567 for assistance.\" with the string \"[PHONE REDACTED]\". Print the modified string.\n"
   ]
  },
  {
   "cell_type": "code",
   "execution_count": 2,
   "id": "9efd7720",
   "metadata": {},
   "outputs": [
    {
     "name": "stdout",
     "output_type": "stream",
     "text": [
      "Please call PHONE REDACTED for assistance.\n"
     ]
    }
   ],
   "source": [
    "import re \n",
    "\n",
    "text =  \"Please call (555) 123-4567 for assistance.\" \n",
    "pattern = r\"\\(\\d{3}\\)\\s\\d{3}-\\d{4}\"\n",
    "string = re.sub(pattern,\"PHONE REDACTED\",text)\n",
    "print(string)\n",
    "\n"
   ]
  },
  {
   "cell_type": "markdown",
   "id": "d5c7e9ab",
   "metadata": {},
   "source": [
    "16.Write a regular expression to match a valid time in the format \"HH:MM:SS\", where HH is the hour (00-23), MM is the minute (00-59), and SS is the second (00-59). Use re.match() to test your regular expression on the string \"The current time is 16:35:42.\". Print the matched string and its starting position."
   ]
  },
  {
   "cell_type": "code",
   "execution_count": 23,
   "id": "5f7225c9",
   "metadata": {},
   "outputs": [
    {
     "name": "stdout",
     "output_type": "stream",
     "text": [
      "the matched time :16:35:42 ,the starting position : 20\n"
     ]
    }
   ],
   "source": [
    "import re\n",
    "text =  \"The current time is 16:35:42.\"\n",
    "pattern = r\"([01]\\d|2[0-3]):([0-5]\\d):([0-5]\\d)\"\n",
    "\n",
    "x = re.search(pattern,text)\n",
    "y = re.match(\".*(\"+ pattern +\").*\",text)\n",
    "\n",
    "if y:\n",
    "    matched_time = y.group(1)\n",
    "    \n",
    "    starting_position = y.start(1)\n",
    "print(f\"the matched time :{matched_time} ,the starting position : {starting_position}\")\n"
   ]
  },
  {
   "cell_type": "markdown",
   "id": "55b3208e",
   "metadata": {},
   "source": [
    "\n",
    "17.Write a regular expression to match a valid email address, but exclude addresses from a certain domain (e.g. exclude all addresses ending in \"@example.com\"). Use re.findall() to test your regular expression on the string \"My email is john_doe@example.com, but my colleague's email is jane_smith@mycompany.com.\". Print the list of matched strings.\n"
   ]
  },
  {
   "cell_type": "code",
   "execution_count": 6,
   "id": "d34b51e4",
   "metadata": {},
   "outputs": [
    {
     "name": "stdout",
     "output_type": "stream",
     "text": [
      "['jane_smith@mycompany.com.']\n"
     ]
    }
   ],
   "source": [
    "import re\n",
    "text = \"My email is john_doe@example.com, but my colleague's email is jane_smith@mycompany.com.\"\n",
    "\n",
    "pattern = r\"[\\w\\.-]+@(?!example\\.com)[\\w\\.-]+\" \n",
    "x =re.findall(pattern,text)\n",
    "print(x)"
   ]
  },
  {
   "cell_type": "markdown",
   "id": "a9034604",
   "metadata": {},
   "source": [
    "18.Write a regular expression to match a valid URL, but exclude URLs from a certain domain (e.g. exclude all URLs containing \"example.com\"). Use re.sub() to replace all occurrences of URLs in the string \"Visit http://www.example.com for more information, or visit http://www.mycompany.com for secure access.\" with the string \"[URL REDACTED]\". Print the modified string."
   ]
  },
  {
   "cell_type": "code",
   "execution_count": 16,
   "id": "26c7aacf",
   "metadata": {},
   "outputs": [
    {
     "name": "stdout",
     "output_type": "stream",
     "text": [
      "Visit http://www.example.com for more information, or visit [URL REDACTED] for secure access.\n"
     ]
    }
   ],
   "source": [
    "import re\n",
    "text =  \"Visit http://www.example.com for more information, or visit http://www.mycompany.com for secure access.\" \n",
    "\n",
    "pattern = r'https?://(?!.*example\\.com)\\S+' \n",
    "modified_string =re.sub(pattern, \"[URL REDACTED]\",text)\n",
    "print(modified_string)"
   ]
  },
  {
   "cell_type": "markdown",
   "id": "ff1fe095",
   "metadata": {},
   "source": []
  },
  {
   "cell_type": "code",
   "execution_count": null,
   "id": "f94a3004",
   "metadata": {},
   "outputs": [],
   "source": []
  }
 ],
 "metadata": {
  "kernelspec": {
   "display_name": "Python 3 (ipykernel)",
   "language": "python",
   "name": "python3"
  },
  "language_info": {
   "codemirror_mode": {
    "name": "ipython",
    "version": 3
   },
   "file_extension": ".py",
   "mimetype": "text/x-python",
   "name": "python",
   "nbconvert_exporter": "python",
   "pygments_lexer": "ipython3",
   "version": "3.11.5"
  }
 },
 "nbformat": 4,
 "nbformat_minor": 5
}

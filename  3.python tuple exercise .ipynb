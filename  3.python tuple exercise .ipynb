{
 "cells": [
  {
   "cell_type": "markdown",
   "id": "5d1ce465",
   "metadata": {},
   "source": [
    "1. write a python program to find the maximum and minimum values in a tuple of integers."
   ]
  },
  {
   "cell_type": "code",
   "execution_count": 1,
   "id": "21c7d137",
   "metadata": {},
   "outputs": [
    {
     "name": "stdout",
     "output_type": "stream",
     "text": [
      "84\n",
      "14\n"
     ]
    }
   ],
   "source": [
    "my_tuple = (15,54,84,61,14)\n",
    "print(max(my_tuple))\n",
    "print(min(my_tuple))"
   ]
  },
  {
   "cell_type": "markdown",
   "id": "9e5648fe",
   "metadata": {},
   "source": [
    "2.write a python program to concatinate two tuples element-wise"
   ]
  },
  {
   "cell_type": "code",
   "execution_count": 2,
   "id": "61f8ae1f",
   "metadata": {},
   "outputs": [
    {
     "name": "stdout",
     "output_type": "stream",
     "text": [
      "(12, 24, 35, 45, 31, 62)\n"
     ]
    }
   ],
   "source": [
    "tuple1 = (12,24,35)\n",
    "tuple2 = (45,31,62)\n",
    "print(tuple1+tuple2)"
   ]
  },
  {
   "cell_type": "markdown",
   "id": "9d1cce7a",
   "metadata": {},
   "source": [
    "3.write a python program to count the number of occurences of an element in a tuple"
   ]
  },
  {
   "cell_type": "code",
   "execution_count": 3,
   "id": "26a1a41b",
   "metadata": {},
   "outputs": [
    {
     "name": "stdout",
     "output_type": "stream",
     "text": [
      "3\n"
     ]
    }
   ],
   "source": [
    "mytuple = (12,45,73,23,12,84,12,49)\n",
    "tuplecount = mytuple.count(12)\n",
    "print(tuplecount)"
   ]
  },
  {
   "cell_type": "markdown",
   "id": "13a0d5aa",
   "metadata": {},
   "source": [
    "4.write a python program to convert a list of tuples into a dictionary"
   ]
  },
  {
   "cell_type": "code",
   "execution_count": 2,
   "id": "dfdb7ee1",
   "metadata": {},
   "outputs": [
    {
     "name": "stdout",
     "output_type": "stream",
     "text": [
      "{'naima': 10, 'duaa': 20}\n"
     ]
    }
   ],
   "source": [
    "tuples = ((\"naima\",10),(\"duaa\",20))\n",
    "dictionary = dict(tuples)\n",
    "print(dictionary)"
   ]
  },
  {
   "cell_type": "markdown",
   "id": "4a240ac3",
   "metadata": {},
   "source": [
    "5.write a python program to slice a tuple into multiple sub-tuples based on a given size"
   ]
  },
  {
   "cell_type": "code",
   "execution_count": null,
   "id": "b100da6b",
   "metadata": {},
   "outputs": [],
   "source": [
    "tuple_size = input(\"enter the tuple size:\")\n",
    "mytuple = tuple(\"enter a tuple:\")\n",
    "subtuples = mytuple.slice(tuple_size)\n",
    "print(subtuples)"
   ]
  },
  {
   "cell_type": "markdown",
   "id": "05075482",
   "metadata": {},
   "source": [
    "6. write a python program to create a nested tuple and access an element from it."
   ]
  },
  {
   "cell_type": "code",
   "execution_count": 4,
   "id": "b6b63fd1",
   "metadata": {},
   "outputs": [
    {
     "name": "stdout",
     "output_type": "stream",
     "text": [
      "[(1,2,3),(23,45,56),(145,258,357)]\n",
      "n =2\n",
      "1\n"
     ]
    }
   ],
   "source": [
    "nested_tuple = input()\n",
    "nth = input(\"n =\")\n",
    "element = nested_tuple[2]\n",
    "print(element)\n"
   ]
  },
  {
   "cell_type": "code",
   "execution_count": null,
   "id": "261086d9",
   "metadata": {},
   "outputs": [],
   "source": [
    "\n"
   ]
  },
  {
   "cell_type": "markdown",
   "id": "04d0e92d",
   "metadata": {},
   "source": [
    "7. write a python program to remove an element from a tuple."
   ]
  },
  {
   "cell_type": "code",
   "execution_count": 12,
   "id": "668afb41",
   "metadata": {},
   "outputs": [
    {
     "name": "stdout",
     "output_type": "stream",
     "text": [
      "12\n",
      "[45, 73, 23, 12, 84, 12, 49]\n"
     ]
    }
   ],
   "source": [
    "mytuple = (12,45,73,23,12,84,12,49)\n",
    "x,*y=mytuple\n",
    "print(x)\n",
    "print(y)"
   ]
  },
  {
   "cell_type": "markdown",
   "id": "d3cbc677",
   "metadata": {},
   "source": [
    "8.write a python program to merge two tuples and remove the dublicate elements."
   ]
  },
  {
   "cell_type": "code",
   "execution_count": 18,
   "id": "b3063d63",
   "metadata": {},
   "outputs": [
    {
     "name": "stdout",
     "output_type": "stream",
     "text": [
      "(12, 45, 73, 56, 90, 34, 49, 73, 23, 12, 84, 12, 49, 23, 97)\n",
      "{97, 34, 73, 12, 45, 49, 84, 23, 56, 90}\n"
     ]
    }
   ],
   "source": [
    "mytuple1= (12,45,73,56,90,34,49)\n",
    "mytuple2= (73,23,12,84,12,49,23,97)\n",
    "mytuple1+=mytuple2\n",
    "print(mytuple1)\n",
    "print(set(mytuple1))"
   ]
  },
  {
   "cell_type": "markdown",
   "id": "a4c7db48",
   "metadata": {},
   "source": [
    "9.write a python program to create a tuple with a variable length and unpack it into multiple variables."
   ]
  },
  {
   "cell_type": "code",
   "execution_count": 2,
   "id": "9cc959b5",
   "metadata": {},
   "outputs": [
    {
     "name": "stdout",
     "output_type": "stream",
     "text": [
      "n=4\n",
      "45\n",
      "47\n",
      "85\n",
      "14\n",
      "25\n",
      "(45, 47, 85, 14, 25)\n",
      "45   [47, 85, 14]   25\n"
     ]
    }
   ],
   "source": [
    "n = int(input(\"n=\"))\n",
    "x=list()\n",
    "i = 0\n",
    "while i<=n:\n",
    "    i+=1\n",
    "    number = int(input())\n",
    "    x.append(number)\n",
    "x=tuple(x)\n",
    "print(x)\n",
    "\n",
    "a,*b,c = x\n",
    "print(a,\" \",b,\" \",c)"
   ]
  },
  {
   "cell_type": "markdown",
   "id": "e0ce856d",
   "metadata": {},
   "source": [
    "10.write a python program to find the index of the first occurrence of an elelment in a tuple"
   ]
  },
  {
   "cell_type": "code",
   "execution_count": 1,
   "id": "7ce6cd67",
   "metadata": {},
   "outputs": [
    {
     "name": "stdout",
     "output_type": "stream",
     "text": [
      "1\n"
     ]
    }
   ],
   "source": [
    "mytuple = (45,12,45,73,23,12,84,12,49)\n",
    "index = mytuple.index(12)\n",
    "print(index)"
   ]
  },
  {
   "cell_type": "code",
   "execution_count": null,
   "id": "4c5cb605",
   "metadata": {},
   "outputs": [],
   "source": []
  }
 ],
 "metadata": {
  "kernelspec": {
   "display_name": "Python 3 (ipykernel)",
   "language": "python",
   "name": "python3"
  },
  "language_info": {
   "codemirror_mode": {
    "name": "ipython",
    "version": 3
   },
   "file_extension": ".py",
   "mimetype": "text/x-python",
   "name": "python",
   "nbconvert_exporter": "python",
   "pygments_lexer": "ipython3",
   "version": "3.11.5"
  }
 },
 "nbformat": 4,
 "nbformat_minor": 5
}

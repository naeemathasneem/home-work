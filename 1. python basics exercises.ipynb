{
 "cells": [
  {
   "cell_type": "markdown",
   "id": "b819727e",
   "metadata": {},
   "source": [
    "# problems"
   ]
  },
  {
   "cell_type": "markdown",
   "id": "5ab88d35",
   "metadata": {},
   "source": [
    "1.write a program that \"hello,how are you ?\" on the console."
   ]
  },
  {
   "cell_type": "code",
   "execution_count": 1,
   "id": "bc3b34b6",
   "metadata": {},
   "outputs": [
    {
     "name": "stdout",
     "output_type": "stream",
     "text": [
      "hello, how are you ?\n"
     ]
    }
   ],
   "source": [
    "print(\"hello, how are you ?\")"
   ]
  },
  {
   "cell_type": "markdown",
   "id": "34dbadc5",
   "metadata": {},
   "source": [
    "2.write a program that take the user's name and then prints a greeting message with their name\n"
   ]
  },
  {
   "cell_type": "code",
   "execution_count": 3,
   "id": "11adff4b",
   "metadata": {},
   "outputs": [
    {
     "name": "stdout",
     "output_type": "stream",
     "text": [
      "enter username :duaa\n",
      "good morning duaa\n"
     ]
    }
   ],
   "source": [
    "username =input(\"enter username :\")\n",
    "print(\"good morning\",username)"
   ]
  },
  {
   "cell_type": "markdown",
   "id": "83cb4cd3",
   "metadata": {},
   "source": [
    "3.write a program that takes two numbers as input and prints their sum"
   ]
  },
  {
   "cell_type": "code",
   "execution_count": 5,
   "id": "e6cdcc7c",
   "metadata": {},
   "outputs": [
    {
     "name": "stdout",
     "output_type": "stream",
     "text": [
      "80\n"
     ]
    }
   ],
   "source": [
    "list1 = [24,56]\n",
    "mylist = sum(list1)\n",
    "print(mylist)"
   ]
  },
  {
   "cell_type": "markdown",
   "id": "77fafa1f",
   "metadata": {},
   "source": [
    "4.write a program that takes astring as input and print its length"
   ]
  },
  {
   "cell_type": "code",
   "execution_count": 6,
   "id": "069adad3",
   "metadata": {},
   "outputs": [
    {
     "name": "stdout",
     "output_type": "stream",
     "text": [
      "15\n"
     ]
    }
   ],
   "source": [
    "mystring = \"hi duaa fathima\"\n",
    "length = len(mystring)\n",
    "print(length)"
   ]
  },
  {
   "cell_type": "markdown",
   "id": "064b9519",
   "metadata": {},
   "source": [
    "5.write a program that takes a sentence and then prints the number of words in that sentence."
   ]
  },
  {
   "cell_type": "code",
   "execution_count": 1,
   "id": "62f33957",
   "metadata": {},
   "outputs": [
    {
     "name": "stdout",
     "output_type": "stream",
     "text": [
      "6\n"
     ]
    }
   ],
   "source": [
    "mystring = \"hi duaa ,where are you going ?\"\n",
    "string = mystring.split(\" \")\n",
    "number = len(\"string\")\n",
    "print(number)"
   ]
  },
  {
   "cell_type": "markdown",
   "id": "94f409f7",
   "metadata": {},
   "source": [
    "6. write a program that takes a string as input and counts the number of uppercase letters in the string"
   ]
  },
  {
   "cell_type": "code",
   "execution_count": 2,
   "id": "9b921f63",
   "metadata": {},
   "outputs": [
    {
     "name": "stdout",
     "output_type": "stream",
     "text": [
      "enter a string:I Am a Data Science Student\n",
      "number of uppercase letters : 5\n"
     ]
    }
   ],
   "source": [
    "user_input = input(\"enter a string:\")\n",
    "result = count_uppercase_letters(user_input)\n",
    "print(f\"number of uppercase letters : {result}\")"
   ]
  },
  {
   "cell_type": "markdown",
   "id": "ac5865b7",
   "metadata": {},
   "source": [
    "7.write a program that takes a sentence and then converts all the characters to uppercase"
   ]
  },
  {
   "cell_type": "code",
   "execution_count": 2,
   "id": "51182df3",
   "metadata": {},
   "outputs": [
    {
     "name": "stdout",
     "output_type": "stream",
     "text": [
      "IAM A DATA SCIENCE STUDENT\n"
     ]
    }
   ],
   "source": [
    "sent = \"iam a data science student\"\n",
    "print(sent.upper())"
   ]
  },
  {
   "cell_type": "markdown",
   "id": "7d91d5f6",
   "metadata": {},
   "source": [
    "8.write aprogram that takes a string as input and replaces all occurencesof the letter 'a' with the letter 'e'"
   ]
  },
  {
   "cell_type": "code",
   "execution_count": 4,
   "id": "20b55943",
   "metadata": {},
   "outputs": [
    {
     "name": "stdout",
     "output_type": "stream",
     "text": [
      "iem e dete science student\n"
     ]
    }
   ],
   "source": [
    "sent = \"iam a data science student\"\n",
    "new_sent = sent.replace(\"a\",\"e\")\n",
    "print(new_sent)"
   ]
  },
  {
   "cell_type": "markdown",
   "id": "fdc982a5",
   "metadata": {},
   "source": [
    "9. create a program that checks if a given string is a palindrome"
   ]
  },
  {
   "cell_type": "code",
   "execution_count": 5,
   "id": "4f116fe9",
   "metadata": {},
   "outputs": [
    {
     "name": "stdout",
     "output_type": "stream",
     "text": [
      "enter a string:level\n",
      "the entered string is a palindrome.\n"
     ]
    }
   ],
   "source": [
    "str1 = input(\"enter a string:\")\n",
    "str2 = str1[::-1]\n",
    "if str1==str2:\n",
    "    print(\"the entered string is a palindrome.\")\n",
    "else:\n",
    "    print(\"the entered string is not palindrome.\")"
   ]
  },
  {
   "cell_type": "markdown",
   "id": "564bb8ef",
   "metadata": {},
   "source": [
    "10. create a program that checks if a substring is present in a given string"
   ]
  },
  {
   "cell_type": "code",
   "execution_count": 6,
   "id": "0f855788",
   "metadata": {},
   "outputs": [
    {
     "name": "stdout",
     "output_type": "stream",
     "text": [
      "enter the main string:i am a data science student\n",
      "enter the substring:data\n",
      "y is a sub string of x \n"
     ]
    }
   ],
   "source": [
    "x= input(\"enter the main string:\")\n",
    "y = input(\"enter the substring:\")\n",
    "if y in x:\n",
    "    print(\"y is a sub string of x \")\n",
    "else:\n",
    "     print(\"y is a sub string of x \")"
   ]
  },
  {
   "cell_type": "markdown",
   "id": "ddbf5581",
   "metadata": {},
   "source": [
    "11. write a program that reverses the order of words in a given sentence."
   ]
  },
  {
   "cell_type": "code",
   "execution_count": 3,
   "id": "1019ad34",
   "metadata": {},
   "outputs": [
    {
     "name": "stdout",
     "output_type": "stream",
     "text": [
      "['', 'student', 'science', 'data', 'a', 'iam']\n"
     ]
    }
   ],
   "source": [
    "sent = \"iam a data science student \"\n",
    "my_sent = sent.split(\" \")\n",
    "reversed_sent = my_sent[::-1]\n",
    "print(reversed_sent)"
   ]
  },
  {
   "cell_type": "markdown",
   "id": "9362ed8a",
   "metadata": {},
   "source": [
    "12. write a program that finds the longest word in a given sentence"
   ]
  },
  {
   "cell_type": "code",
   "execution_count": 2,
   "id": "5feda5b0",
   "metadata": {},
   "outputs": [
    {
     "name": "stdout",
     "output_type": "stream",
     "text": [
      "science\n"
     ]
    }
   ],
   "source": [
    "    \n",
    "given_sentence=\"i am a data science student\"\n",
    "x=given_sentence.split()\n",
    "y=max(x,key=len)\n",
    "print(y)"
   ]
  },
  {
   "cell_type": "code",
   "execution_count": null,
   "id": "06437cd5",
   "metadata": {},
   "outputs": [],
   "source": []
  }
 ],
 "metadata": {
  "kernelspec": {
   "display_name": "Python 3 (ipykernel)",
   "language": "python",
   "name": "python3"
  },
  "language_info": {
   "codemirror_mode": {
    "name": "ipython",
    "version": 3
   },
   "file_extension": ".py",
   "mimetype": "text/x-python",
   "name": "python",
   "nbconvert_exporter": "python",
   "pygments_lexer": "ipython3",
   "version": "3.11.5"
  }
 },
 "nbformat": 4,
 "nbformat_minor": 5
}

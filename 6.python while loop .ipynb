{
 "cells": [
  {
   "cell_type": "markdown",
   "id": "a5de378d",
   "metadata": {},
   "source": [
    "1.Write a program to display the first 7 multiples of 7"
   ]
  },
  {
   "cell_type": "code",
   "execution_count": 5,
   "id": "4939aef7",
   "metadata": {},
   "outputs": [
    {
     "name": "stdout",
     "output_type": "stream",
     "text": [
      "7\n",
      "14\n",
      "21\n",
      "28\n",
      "35\n",
      "42\n",
      "49\n"
     ]
    }
   ],
   "source": [
    "i=1\n",
    "while i<=7:\n",
    "    x = i*7\n",
    "    i=i+1\n",
    "    print(x)"
   ]
  },
  {
   "cell_type": "markdown",
   "id": "e5cf13b2",
   "metadata": {},
   "source": [
    "2.Find the sum of numbers in a list using while loop"
   ]
  },
  {
   "cell_type": "code",
   "execution_count": 7,
   "id": "bd18352e",
   "metadata": {},
   "outputs": [
    {
     "name": "stdout",
     "output_type": "stream",
     "text": [
      "40\n"
     ]
    }
   ],
   "source": [
    "mylist = [5,2,7,3,6,7,9,1]\n",
    "l = len(mylist)\n",
    "total = 0\n",
    "i=0\n",
    "while i in range(0,l):\n",
    "    total = total + mylist[i]\n",
    "    i=i+1\n",
    "print(total)"
   ]
  },
  {
   "cell_type": "markdown",
   "id": "332bf1b6",
   "metadata": {},
   "source": [
    "3. Write a program to separate positive and negative number from a list"
   ]
  },
  {
   "cell_type": "code",
   "execution_count": 6,
   "id": "1d40817c",
   "metadata": {},
   "outputs": [
    {
     "name": "stdout",
     "output_type": "stream",
     "text": [
      "the number 5 is positive\n",
      "the number -2 is negative\n",
      "the number -7 is negative\n",
      "the number 3 is positive\n",
      "the number -6 is negative\n",
      "the number 7 is positive\n",
      "the number 9 is positive\n",
      "the number 1 is positive\n"
     ]
    }
   ],
   "source": [
    "mylist =[5,-2,-7,3,-6,7,9,1]\n",
    "l = len(mylist)\n",
    "i=0\n",
    "while i in range(0,l):\n",
    "    if mylist[i]<0:\n",
    "        print(\"the number\",mylist[i], \"is negative\")\n",
    "    else :\n",
    "        print(\"the number\",mylist[i], \"is positive\")\n",
    "    i= i+1"
   ]
  },
  {
   "cell_type": "markdown",
   "id": "4ad9735f",
   "metadata": {},
   "source": [
    "4. Write a program that appends the square of each number to a new list"
   ]
  },
  {
   "cell_type": "code",
   "execution_count": 1,
   "id": "2ab4af9e",
   "metadata": {},
   "outputs": [
    {
     "name": "stdout",
     "output_type": "stream",
     "text": [
      "[25, 4, 49, 9, 36, 49, 81, 1]\n"
     ]
    }
   ],
   "source": [
    "mylist =[5,2,7,3,6,7,9,1]\n",
    "i = 0\n",
    "l = len(mylist)\n",
    "newlist =[]\n",
    "\n",
    "while i in range(0,l):\n",
    "    sqr =mylist[i]*mylist[i]\n",
    "    i+=1\n",
    "    newlist.append(sqr)\n",
    "print(newlist)\n",
    "    "
   ]
  },
  {
   "cell_type": "markdown",
   "id": "abd67155",
   "metadata": {},
   "source": [
    "5. Write a program in Python to reverse a word"
   ]
  },
  {
   "cell_type": "code",
   "execution_count": 4,
   "id": "86830f95",
   "metadata": {},
   "outputs": [
    {
     "name": "stdout",
     "output_type": "stream",
     "text": [
      "enter a word :data science\n",
      "the reversed word is : ecneics atad\n"
     ]
    }
   ],
   "source": [
    "word = input(\"enter a word :\")\n",
    "reversed_word = \"\"\n",
    "l = len(word)\n",
    "n=l-1\n",
    "while n>=0:\n",
    "    reversed_word = reversed_word + word[n]\n",
    "    n=n-1\n",
    "print(\"the reversed word is :\",reversed_word)\n",
    "    \n",
    "    \n",
    "    "
   ]
  },
  {
   "cell_type": "markdown",
   "id": "cc37d502",
   "metadata": {},
   "source": [
    "6.Write a program to filter even and odd number from a list"
   ]
  },
  {
   "cell_type": "code",
   "execution_count": 8,
   "id": "be86f464",
   "metadata": {},
   "outputs": [
    {
     "name": "stdout",
     "output_type": "stream",
     "text": [
      "[2, 6] are even\n",
      "[5, 7, 3, 7, 9, 1] are odd\n"
     ]
    }
   ],
   "source": [
    "mylist =[5,2,7,3,6,7,9,1]\n",
    "i=0\n",
    "l=len(mylist)\n",
    "x=[]\n",
    "y=[]\n",
    "while i in range(0,l):\n",
    "    if mylist[i]%2 ==0:\n",
    "        x.append(mylist[i])\n",
    "    else:\n",
    "        y.append(mylist[i])\n",
    "    i+=1\n",
    "print(x,\"are even\")\n",
    "print(y,\"are odd\")"
   ]
  },
  {
   "cell_type": "markdown",
   "id": "431c9d99",
   "metadata": {},
   "source": [
    "7. Create a simple number guessing game where the computer generates a random number between 1 and 10 and the user has to guess it. Provide hints whether the guess is too high or too low. Keep asking until the user guesses correctly"
   ]
  },
  {
   "cell_type": "code",
   "execution_count": 9,
   "id": "dd680efc",
   "metadata": {},
   "outputs": [
    {
     "name": "stdout",
     "output_type": "stream",
     "text": [
      "guess a number:5\n",
      "you are too high\n",
      "guess a number:2\n",
      "your guess is right, the number is  2\n"
     ]
    }
   ],
   "source": [
    "num = int(input(\"guess a number:\"))\n",
    "import random\n",
    "randomvalue= random.randint(1,10)\n",
    "while num != randomvalue:\n",
    "    if num-randomvalue < 0: \n",
    "        print(\"you are too low\")\n",
    "    else :\n",
    "        print(\"you are too high\")\n",
    "    num = int(input(\"guess a number:\"))\n",
    "    \n",
    "print(\"your guess is right, the number is \",num)"
   ]
  },
  {
   "cell_type": "markdown",
   "id": "59d27fb3",
   "metadata": {},
   "source": [
    "8.Write a Python program to check if a given word is a palindrome using a while loop"
   ]
  },
  {
   "cell_type": "code",
   "execution_count": 16,
   "id": "a4d4d728",
   "metadata": {},
   "outputs": [
    {
     "name": "stdout",
     "output_type": "stream",
     "text": [
      "Enter a word levels\n",
      "the word is not a palindrome\n"
     ]
    }
   ],
   "source": [
    "word=input(\"Enter a word \")\n",
    "word=word.lower().replace(\" \",\"\").replace(\".\",\"\")\n",
    "y=0\n",
    "z=len(word)-1\n",
    "while y<z:\n",
    "    if word[y]==word[z]:\n",
    "        y=y+1\n",
    "        z=z-1\n",
    "    else:\n",
    "        print(\"the word is not a palindrome\")\n",
    "        break\n",
    "else:\n",
    "    print(\"the word is a palindrome\")"
   ]
  },
  {
   "cell_type": "markdown",
   "id": "4b1bedf7",
   "metadata": {},
   "source": [
    "9.Write a Python program to print the multiplication table of a given number using a while loop"
   ]
  },
  {
   "cell_type": "code",
   "execution_count": 11,
   "id": "98c8d641",
   "metadata": {},
   "outputs": [
    {
     "name": "stdout",
     "output_type": "stream",
     "text": [
      "enter a number :5\n",
      "1 * 5 = 0\n",
      "2 * 5 = 5\n",
      "3 * 5 = 10\n",
      "4 * 5 = 15\n",
      "5 * 5 = 20\n",
      "6 * 5 = 25\n",
      "7 * 5 = 30\n",
      "8 * 5 = 35\n",
      "9 * 5 = 40\n",
      "10 * 5 = 45\n",
      "11 * 5 = 50\n"
     ]
    }
   ],
   "source": [
    "num = int(input(\"enter a number :\"))\n",
    "i=0\n",
    "while i<=10:\n",
    "    x = i*num\n",
    "    i=i+1\n",
    "    print(i,\"*\",num,\"=\",x)"
   ]
  },
  {
   "cell_type": "markdown",
   "id": "39d47f88",
   "metadata": {},
   "source": [
    "10.Write a Python program that checks if a given number is prime or not using a while loop"
   ]
  },
  {
   "cell_type": "code",
   "execution_count": 21,
   "id": "2b76d623",
   "metadata": {},
   "outputs": [
    {
     "name": "stdout",
     "output_type": "stream",
     "text": [
      "enter a number :9\n",
      "given number is not prime\n"
     ]
    }
   ],
   "source": [
    "num = int(input(\"enter a number :\"))\n",
    "i=1\n",
    "while i<num:\n",
    "    if num%i==0:\n",
    "        print(\"given number is not prime\")\n",
    "        break\n",
    "    i=i+1\n",
    "else:\n",
    "    print(\"given number is prime\")"
   ]
  },
  {
   "cell_type": "markdown",
   "id": "da930d05",
   "metadata": {},
   "source": [
    "11.Write a Python program that calculates the result of raising a given number to a specified power using a while loop"
   ]
  },
  {
   "cell_type": "code",
   "execution_count": 4,
   "id": "7bc92025",
   "metadata": {},
   "outputs": [
    {
     "name": "stdout",
     "output_type": "stream",
     "text": [
      "enter a number :4\n",
      "enter a number :3\n",
      "the result is 64\n"
     ]
    }
   ],
   "source": [
    "num = int(input(\"enter a number :\"))\n",
    "power =int(input(\"enter a number :\"))\n",
    "\n",
    "r = 1\n",
    "while power>0:\n",
    "    r=r*num\n",
    "    power-=1\n",
    "print(\"the result is\",r)"
   ]
  },
  {
   "cell_type": "markdown",
   "id": "8e2250f9",
   "metadata": {},
   "source": [
    "\n",
    "12. Write a Python program to check if a given number is an Armstrong number using a while loop"
   ]
  },
  {
   "cell_type": "code",
   "execution_count": 17,
   "id": "c129a2ca",
   "metadata": {},
   "outputs": [
    {
     "name": "stdout",
     "output_type": "stream",
     "text": [
      "enter a number :175\n",
      "175 is not an armstrong\n"
     ]
    }
   ],
   "source": [
    "num = int(input(\"enter a number :\"))\n",
    "order=len(str(num))\n",
    "sum=0\n",
    "copy_x=num\n",
    "while (num>0):\n",
    "    d= num % 10\n",
    "    sum += d ** order\n",
    "    num = num//10\n",
    "if (sum==copy_x):\n",
    "    print(copy_x,\"is an armstrong\")\n",
    "else:\n",
    "    print(copy_x,\"is not an armstrong\")"
   ]
  },
  {
   "cell_type": "markdown",
   "id": "66c5d626",
   "metadata": {},
   "source": [
    "13. Write a Python program to find the greatest common divisor (GCD) of two numbers using a while loop"
   ]
  },
  {
   "cell_type": "code",
   "execution_count": 3,
   "id": "f727eccc",
   "metadata": {},
   "outputs": [
    {
     "name": "stdout",
     "output_type": "stream",
     "text": [
      "1st number:45\n",
      "2nd number:25\n",
      "gcd of given numbers is: 5\n"
     ]
    }
   ],
   "source": [
    "a = int(input(\"1st number:\"))\n",
    "b = int(input(\"2nd number:\"))\n",
    "\n",
    "gcd = 1\n",
    "while gcd<a and gcd<b:\n",
    "    if a%gcd==0 and b%gcd == 0:\n",
    "        result = gcd\n",
    "    gcd=gcd+1\n",
    "print(\"gcd of given numbers is:\",result)"
   ]
  },
  {
   "cell_type": "markdown",
   "id": "c6a3cbf1",
   "metadata": {},
   "source": [
    "\n",
    "14. Write a Python program to find the largest element in a list using a while loop"
   ]
  },
  {
   "cell_type": "code",
   "execution_count": 8,
   "id": "d8ee049f",
   "metadata": {},
   "outputs": [
    {
     "name": "stdout",
     "output_type": "stream",
     "text": [
      "the largest element is: 8\n"
     ]
    }
   ],
   "source": [
    "nums=[1,8,6,5,2,3]\n",
    "l = len(nums)\n",
    "i=0\n",
    "largest = nums[i]\n",
    "while i<l:\n",
    "    if nums[i]>largest:\n",
    "        largest=nums[i]\n",
    "    i=i+1    \n",
    "print(\"the largest element is:\",largest) \n",
    "\n",
    " "
   ]
  },
  {
   "cell_type": "markdown",
   "id": "61b9f7e2",
   "metadata": {},
   "source": [
    "15. Write a Python program to print a pattern of asterisks using a while loop. For example, if the user enters 5, it should print"
   ]
  },
  {
   "cell_type": "markdown",
   "id": "d74df296",
   "metadata": {},
   "source": [
    "# *"
   ]
  },
  {
   "cell_type": "markdown",
   "id": "adb4718b",
   "metadata": {},
   "source": [
    "# **"
   ]
  },
  {
   "cell_type": "markdown",
   "id": "ce3e8a5e",
   "metadata": {},
   "source": [
    "# ***"
   ]
  },
  {
   "cell_type": "markdown",
   "id": "6bd68286",
   "metadata": {},
   "source": [
    "# ****"
   ]
  },
  {
   "cell_type": "markdown",
   "id": "d421bd9b",
   "metadata": {},
   "source": [
    "# *****"
   ]
  },
  {
   "cell_type": "code",
   "execution_count": 14,
   "id": "2f7c6db3",
   "metadata": {},
   "outputs": [
    {
     "name": "stdout",
     "output_type": "stream",
     "text": [
      "enter number of row: 5\n",
      " \n",
      "* \n",
      "** \n",
      "*** \n",
      "**** \n",
      "***** \n"
     ]
    }
   ],
   "source": [
    "row=int(input(\"enter number of row: \"))\n",
    "i=0\n",
    "while i<=row:\n",
    "    print(i*\"*\",end=\" \")\n",
    "    i=i+1\n",
    "    print( )  "
   ]
  },
  {
   "cell_type": "markdown",
   "id": "f963f327",
   "metadata": {},
   "source": [
    "16. Write a Python program to count the number of digits in a given integer using a while loop"
   ]
  },
  {
   "cell_type": "code",
   "execution_count": 2,
   "id": "cc30a5d3",
   "metadata": {},
   "outputs": [
    {
     "name": "stdout",
     "output_type": "stream",
     "text": [
      "enter a integer :123456789\n",
      "the entered integer has  9 digits\n"
     ]
    }
   ],
   "source": [
    "integer = int(input(\"enter a integer :\"))\n",
    "d=0\n",
    "while integer!=0:\n",
    "    integer=integer//10\n",
    "    d=d+1\n",
    "print(\"the entered integer has \",d,\"digits\")"
   ]
  },
  {
   "cell_type": "code",
   "execution_count": null,
   "id": "e6e0ee6b",
   "metadata": {},
   "outputs": [],
   "source": []
  }
 ],
 "metadata": {
  "kernelspec": {
   "display_name": "Python 3 (ipykernel)",
   "language": "python",
   "name": "python3"
  },
  "language_info": {
   "codemirror_mode": {
    "name": "ipython",
    "version": 3
   },
   "file_extension": ".py",
   "mimetype": "text/x-python",
   "name": "python",
   "nbconvert_exporter": "python",
   "pygments_lexer": "ipython3",
   "version": "3.11.5"
  }
 },
 "nbformat": 4,
 "nbformat_minor": 5
}

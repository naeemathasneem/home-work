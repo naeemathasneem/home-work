{
 "cells": [
  {
   "cell_type": "markdown",
   "id": "1642be8d",
   "metadata": {},
   "source": [
    "# python conditions exercise"
   ]
  },
  {
   "cell_type": "markdown",
   "id": "6e536a4f",
   "metadata": {},
   "source": [
    "1. write a progarm that takes an integer as input and prints, whether it's positive, negetive, or zero"
   ]
  },
  {
   "cell_type": "code",
   "execution_count": 3,
   "id": "bd32792c",
   "metadata": {},
   "outputs": [
    {
     "name": "stdout",
     "output_type": "stream",
     "text": [
      "integer:0\n",
      "given integer is zero\n"
     ]
    }
   ],
   "source": [
    "a = int(input(\"integer:\"))\n",
    "if (a>0):\n",
    "    print(\"given integer is positive\")\n",
    "elif(a<0):\n",
    "    print(\"given integer is negetive\")\n",
    "else:\n",
    "    print(\"given integer is zero\")"
   ]
  },
  {
   "cell_type": "markdown",
   "id": "5069aff1",
   "metadata": {},
   "source": [
    "2. create a program that takes a student's score as input and prints their corresponding grade based on the following scale:\n",
    "       "
   ]
  },
  {
   "cell_type": "markdown",
   "id": "36014615",
   "metadata": {},
   "source": [
    " 90 or above : A"
   ]
  },
  {
   "cell_type": "markdown",
   "id": "c1913a19",
   "metadata": {},
   "source": [
    "80-89 : B"
   ]
  },
  {
   "cell_type": "markdown",
   "id": "7c3bd02c",
   "metadata": {},
   "source": [
    "70-79 : C"
   ]
  },
  {
   "cell_type": "markdown",
   "id": "72984429",
   "metadata": {},
   "source": [
    "60-69 : D"
   ]
  },
  {
   "cell_type": "markdown",
   "id": "a197b5af",
   "metadata": {},
   "source": [
    " below 60: F"
   ]
  },
  {
   "cell_type": "code",
   "execution_count": 6,
   "id": "375fae2a",
   "metadata": {},
   "outputs": [
    {
     "name": "stdout",
     "output_type": "stream",
     "text": [
      "score :85\n",
      "your grade is B\n"
     ]
    }
   ],
   "source": [
    "score = int(input(\"score :\"))\n",
    "\n",
    "if (score>=90):\n",
    "    print(\"your grade is A\")\n",
    "elif(score>=80):\n",
    "    print(\"your grade is B\")\n",
    "elif(score>=70):\n",
    "    print(\"your grade is C\")\n",
    "elif(score>=60):\n",
    "    print(\"your grade is D\")\n",
    "else:\n",
    "    print(\"your grade is F,you are failed\")"
   ]
  },
  {
   "cell_type": "markdown",
   "id": "18df9323",
   "metadata": {},
   "source": [
    "8. create a program that takes a person's age as input and prints whether they are a child(0-12),teenager(13-19),adult(20-59),or senior(60 and above)."
   ]
  },
  {
   "cell_type": "code",
   "execution_count": 8,
   "id": "23208653",
   "metadata": {},
   "outputs": [
    {
     "name": "stdout",
     "output_type": "stream",
     "text": [
      "age:75\n",
      "you are a senior citizen\n"
     ]
    }
   ],
   "source": [
    "age = int(input(\"age:\"))\n",
    "\n",
    "if (age<=12):\n",
    "    print(\"you are a child \")\n",
    "elif(age<=19):\n",
    "    print(\"you are a teenager\")\n",
    "elif(age<=59):\n",
    "    print(\"you are an adult\")\n",
    "else:\n",
    "    print(\"you are a senior citizen\")"
   ]
  },
  {
   "cell_type": "markdown",
   "id": "15a72d7b",
   "metadata": {},
   "source": [
    "9.write a program that takes three integers as input and prints the largest number among them."
   ]
  },
  {
   "cell_type": "code",
   "execution_count": 11,
   "id": "bf3f73fe",
   "metadata": {},
   "outputs": [
    {
     "name": "stdout",
     "output_type": "stream",
     "text": [
      "71 is largest number among them\n"
     ]
    }
   ],
   "source": [
    "integers = (71,58,45)\n",
    "a,b,c = integers\n",
    "if (a>b,a>c):\n",
    "    print(a, \"is largest number among them\")\n",
    "elif(b>a,b>c):\n",
    "    print(b, \"is largest number among them\")\n",
    "else:\n",
    "    print(c,\"is largest number among them\")"
   ]
  },
  {
   "cell_type": "markdown",
   "id": "2830842a",
   "metadata": {},
   "source": [
    "10. create a program that takes three sides of a triangle as input and determines if it's a valid triangle (sum of any two sides is greater than the third). print \"valid\" or \"invalid\" accordingly."
   ]
  },
  {
   "cell_type": "code",
   "execution_count": 16,
   "id": "a87ed0e2",
   "metadata": {},
   "outputs": [
    {
     "name": "stdout",
     "output_type": "stream",
     "text": [
      "1st side12\n",
      "2nd side24\n",
      "3rd side12\n",
      "triangle is valid\n"
     ]
    }
   ],
   "source": [
    "a = int(input(\"1st side\"))\n",
    "b = int(input(\"2nd side\"))\n",
    "c = int(input(\"3rd side\"))\n",
    "\n",
    "if (a+b==c):\n",
    "    print(\"triangle is valid\")\n",
    "elif(b+c==a):\n",
    "    print(\"triangle is valid\")\n",
    "elif(a+c==b):\n",
    "    print(\"triangle is valid\")\n",
    "else:\n",
    "    print(\"triangle is invalid\")"
   ]
  },
  {
   "cell_type": "markdown",
   "id": "afd7c5b3",
   "metadata": {},
   "source": [
    "11.write a program that takes the time in 24- hour format (eg.14:30) as input and converts it to 12-hour format (eg. 2:30 PM) and prints the result."
   ]
  },
  {
   "cell_type": "code",
   "execution_count": 5,
   "id": "9127894a",
   "metadata": {},
   "outputs": [
    {
     "name": "stdout",
     "output_type": "stream",
     "text": [
      "enter time in hh:mm formate:5:42\n",
      "the entered time is  ['5', '42']\n",
      "the time in 12 hour format is = 5 : 42 AM\n"
     ]
    }
   ],
   "source": [
    "time = input(\"enter time in hh:mm formate:\")\n",
    "s = time.split(\":\")\n",
    "print(\"the entered time is \", s)\n",
    "hh = int(s[0])\n",
    "mm = int(s[1])\n",
    "\n",
    "if hh<12 and hh>=0:\n",
    "    u = \"AM\"\n",
    "else :\n",
    "    u = \"PM\"\n",
    "if hh>12:\n",
    "    hh=hh-12\n",
    "    print(\"the time in 12 hour format is =\",hh,\":\",mm, u)\n",
    "else:\n",
    "    print(\"the time in 12 hour format is =\",hh,\":\",mm, u)"
   ]
  },
  {
   "cell_type": "markdown",
   "id": "7a81ca79",
   "metadata": {},
   "source": [
    "12.write a program that takes a charecter as input and determines if it's a vowel, consonent ,or neither. print the appropriate message."
   ]
  },
  {
   "cell_type": "code",
   "execution_count": 4,
   "id": "c6cc19dc",
   "metadata": {},
   "outputs": [
    {
     "name": "stdout",
     "output_type": "stream",
     "text": [
      "charecter =0\n",
      "charecter is neither vowel nor consonent\n"
     ]
    }
   ],
   "source": [
    "mychar = input(\"charecter =\")\n",
    "x = (\"a\",\"e\",\"i\",\"o\",\"u\")\n",
    "y = (\"b\",\"c\",\"d\",\"f\",\"g\",\"h\",\"j\",\"k\",\"l\",\"m\",\"n\",\"p\",\"q\",\"r\",\"s\",\"t\",\"v\",\"w\",\"x\",\"y\",\"z\")\n",
    "if mychar in x:\n",
    "    print(\"charecter is vowel\")\n",
    "elif mychar in y:\n",
    "    print(\"charecter is consonent\")\n",
    "else:\n",
    "    print(\"charecter is neither vowel nor consonent\")\n"
   ]
  },
  {
   "cell_type": "markdown",
   "id": "595b113e",
   "metadata": {},
   "source": [
    "13. write a python program to find all pairs of integers in a given array ,whose sum is equal to a given number."
   ]
  },
  {
   "cell_type": "code",
   "execution_count": 17,
   "id": "a18ad370",
   "metadata": {},
   "outputs": [
    {
     "name": "stdout",
     "output_type": "stream",
     "text": [
      "sum = 7\n",
      "2 5\n",
      "4 3\n",
      "1 6\n"
     ]
    }
   ],
   "source": [
    "mylist = [2,5,8,4,1,3,6,9,7]\n",
    "sum = int(input(\"sum = \"))\n",
    "l = len(mylist)\n",
    "for i in range(0,l):\n",
    "    for j in range(i+1,l):\n",
    "        if mylist[i]+mylist[j]== sum:\n",
    "            print(mylist[i],mylist[j])\n",
    "    "
   ]
  },
  {
   "cell_type": "markdown",
   "id": "ccf4567b",
   "metadata": {},
   "source": [
    "14.write a python program to find the largest product of any three elements in a given array of integers."
   ]
  },
  {
   "cell_type": "code",
   "execution_count": 3,
   "id": "610151a6",
   "metadata": {},
   "outputs": [
    {
     "name": "stdout",
     "output_type": "stream",
     "text": [
      "[1, 2, 3, 4, 5, 6, 7, 8, 9]\n",
      "the largest product of three elements is: 504\n"
     ]
    }
   ],
   "source": [
    "mylist = [2,5,8,4,1,3,6,9,7]\n",
    "mylist.sort()\n",
    "print(mylist)\n",
    "l = len(mylist)\n",
    "              \n",
    "pro = mylist[-1]*mylist[-2]*mylist[-3]\n",
    "print(\"the largest product of three elements is:\",pro)       \n",
    "\n",
    "        \n",
    "        \n"
   ]
  },
  {
   "cell_type": "markdown",
   "id": "c48e77e8",
   "metadata": {},
   "source": []
  },
  {
   "cell_type": "code",
   "execution_count": null,
   "id": "8553ae80",
   "metadata": {},
   "outputs": [],
   "source": []
  }
 ],
 "metadata": {
  "kernelspec": {
   "display_name": "Python 3 (ipykernel)",
   "language": "python",
   "name": "python3"
  },
  "language_info": {
   "codemirror_mode": {
    "name": "ipython",
    "version": 3
   },
   "file_extension": ".py",
   "mimetype": "text/x-python",
   "name": "python",
   "nbconvert_exporter": "python",
   "pygments_lexer": "ipython3",
   "version": "3.11.5"
  }
 },
 "nbformat": 4,
 "nbformat_minor": 5
}

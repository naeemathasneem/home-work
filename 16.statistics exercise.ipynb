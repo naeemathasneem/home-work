{
 "cells": [
  {
   "cell_type": "markdown",
   "id": "3e825157",
   "metadata": {},
   "source": [
    "1. What is the mean of the following numbers?\n",
    "\n",
    "12,37, 72, 38, 76, 35, 28\n",
    "\n",
    "a. 42\n",
    "\n",
    "b. 39\n",
    "\n",
    "c. 42.5\n",
    "\n",
    "d. 35.5\n"
   ]
  },
  {
   "cell_type": "code",
   "execution_count": 1,
   "id": "6e84e28f",
   "metadata": {},
   "outputs": [
    {
     "name": "stdout",
     "output_type": "stream",
     "text": [
      "the mean of the data is : 42.57142857142857\n"
     ]
    }
   ],
   "source": [
    "import statistics as sts\n",
    "\n",
    "data = [12,37, 72, 38, 76, 35, 28]\n",
    "\n",
    "data_mean = sts.mean(data)\n",
    "\n",
    "print(\"the mean of the data is :\",data_mean)"
   ]
  },
  {
   "cell_type": "markdown",
   "id": "bee77092",
   "metadata": {},
   "source": [
    "c. 42.5"
   ]
  },
  {
   "cell_type": "markdown",
   "id": "35500d49",
   "metadata": {},
   "source": [
    "2. What number would you divide by to calculate the mean of 3, 4, 2, 7, and 6?\n",
    "\n",
    "a. 6\n",
    "\n",
    "b. 3\n",
    "\n",
    "c. 5\n",
    "\n",
    "d. 4\n"
   ]
  },
  {
   "cell_type": "code",
   "execution_count": 2,
   "id": "f4adda67",
   "metadata": {},
   "outputs": [
    {
     "name": "stdout",
     "output_type": "stream",
     "text": [
      "number divide by to calculate the given data: 5\n"
     ]
    }
   ],
   "source": [
    "data =[3,4,2,7,6]\n",
    "n = len(data)\n",
    "print(\"number divide by to calculate the given data:\",n)"
   ]
  },
  {
   "cell_type": "markdown",
   "id": "ed6d302e",
   "metadata": {},
   "source": [
    "c. 5"
   ]
  },
  {
   "cell_type": "markdown",
   "id": "1c6ab724",
   "metadata": {},
   "source": [
    "3. What measure of central tendency is calculated by adding all the values and dividing the sum by the number of values?\n",
    "\n",
    "a. Median\n",
    "\n",
    "b. Mean\n",
    "\n",
    "c. Mode\n",
    "\n",
    "d. Typical value\n"
   ]
  },
  {
   "cell_type": "markdown",
   "id": "34c96be7",
   "metadata": {},
   "source": [
    "b.Mean"
   ]
  },
  {
   "cell_type": "markdown",
   "id": "c4abd71b",
   "metadata": {},
   "source": [
    "4. The mean of four numbers is 71.5. If three of the numbers are 58, 76, and 88, what is the value of the fourth number?\n",
    "\n",
    "a. 64\n",
    "\n",
    "b. 60\n",
    "\n",
    "c. 76\n",
    "\n",
    "d. 82\n"
   ]
  },
  {
   "cell_type": "code",
   "execution_count": 3,
   "id": "d0a20fc9",
   "metadata": {},
   "outputs": [
    {
     "name": "stdout",
     "output_type": "stream",
     "text": [
      "the value of fourth number: 64.0\n"
     ]
    }
   ],
   "source": [
    "data = [58,76,88]\n",
    "mean = 71.5\n",
    "sum_given_data= sum(data)\n",
    "\n",
    "total_sum = mean*4\n",
    "\n",
    "fourth_number = total_sum - sum_given_data\n",
    " \n",
    "print(\"the value of fourth number:\",fourth_number)"
   ]
  },
  {
   "cell_type": "markdown",
   "id": "152b4c93",
   "metadata": {},
   "source": [
    "a. 64"
   ]
  },
  {
   "cell_type": "markdown",
   "id": "825db88e",
   "metadata": {},
   "source": [
    "5. Determine the mean of the following set of numbers: 40, 61, 55, 79, 9, 55, 81, 65, 109\n"
   ]
  },
  {
   "cell_type": "code",
   "execution_count": 5,
   "id": "f93c735b",
   "metadata": {},
   "outputs": [
    {
     "name": "stdout",
     "output_type": "stream",
     "text": [
      "the mean of the data is : 50.55555555555556\n"
     ]
    }
   ],
   "source": [
    "import statistics as sts\n",
    "\n",
    "data = [40, 61, 55, 79, 9, 55, 81, 65, 10]\n",
    "\n",
    "data_mean = sts.mean(data)\n",
    "\n",
    "print(\"the mean of the data is :\",data_mean)"
   ]
  },
  {
   "cell_type": "markdown",
   "id": "07d99f98",
   "metadata": {},
   "source": [
    "6. The mean weight of five complete computer stations is 173.2 pounds. The weights of four\n",
    "of the computer stations are 164.4 pounds, 142.8 pounds, 195 pounds, and 188.2 pounds\n",
    "respectively. What is the weight of the fifth computer station?\n"
   ]
  },
  {
   "cell_type": "code",
   "execution_count": 6,
   "id": "1264d2e7",
   "metadata": {},
   "outputs": [
    {
     "name": "stdout",
     "output_type": "stream",
     "text": [
      "the weight of fifth computer station: 175.5999999999999\n"
     ]
    }
   ],
   "source": [
    "data = [164.4,142.8,195,188.2]\n",
    "mean = 173.2\n",
    "sum_given_data= sum(data)\n",
    "\n",
    "total_sum = mean*5\n",
    "\n",
    "fifth_computer_station = total_sum - sum_given_data\n",
    " \n",
    "print(\"the weight of fifth computer station:\",fifth_computer_station)"
   ]
  },
  {
   "cell_type": "markdown",
   "id": "ec33fc9f",
   "metadata": {},
   "source": [
    "7. The mean width of 10 Ipads is 5.1 inches. The mean width of 6 Fire tablet is 4.8 inches.\n",
    "\n",
    "a. What is the total width of the iPads?\n",
    "\n",
    "b. What is the total width of the Fire tablet?\n",
    "\n",
    "c. What is the mean width of the 10 iPads and 6 Fire tablet?\n"
   ]
  },
  {
   "cell_type": "code",
   "execution_count": 14,
   "id": "0d3c8a2d",
   "metadata": {},
   "outputs": [
    {
     "name": "stdout",
     "output_type": "stream",
     "text": [
      "a. 51.0\n",
      "b. 28.799999999999997\n",
      "c. 4.949999999999999\n"
     ]
    }
   ],
   "source": [
    "import statistics as sts\n",
    "\n",
    "mean_width_10_Ipads = 5.1\n",
    "total_width_iPads = mean_width_10_Ipads *10\n",
    "print(\"a.\",total_width_iPads)\n",
    "\n",
    "mean_width_6_Fire_tablet = 4.8\n",
    "total_width_Fire_tablet =mean_width_6_Fire_tablet*6\n",
    "print(\"b.\",total_width_Fire_tablet)\n",
    "\n",
    "means_ipads_firetablet =[5.1,4.8] \n",
    "mean_width_10_iPads_6_Fire_tablet = sts.mean(means_ipads_firetablet)\n",
    "print(\"c.\",mean_width_10_iPads_6_Fire_tablet)"
   ]
  },
  {
   "cell_type": "markdown",
   "id": "67ee513d",
   "metadata": {},
   "source": [
    "8. A group NPS surveys were sent out at random.\n",
    "\n",
    "The scores were 90, 50, 60, 80, 70, 80, 20, 90, 80, 10, and 20. Find the\n",
    "mean score.\n"
   ]
  },
  {
   "cell_type": "code",
   "execution_count": 15,
   "id": "9d52e61f",
   "metadata": {},
   "outputs": [
    {
     "name": "stdout",
     "output_type": "stream",
     "text": [
      "the mean score is : 59.09090909090909\n"
     ]
    }
   ],
   "source": [
    "import statistics as sts\n",
    "scores =[90, 50, 60, 80, 70, 80, 20, 90, 80, 10, 20]\n",
    "mean_score = sts.mean(scores)\n",
    "print(\"the mean score is :\",mean_score)"
   ]
  },
  {
   "cell_type": "markdown",
   "id": "27e6d2df",
   "metadata": {},
   "source": [
    "9. What is the median of the following numbers?\n",
    "\n",
    "11, 39, 74, 42, 39, 78, 38, 25\n",
    "\n",
    "a. 42.5\n",
    "\n",
    "b. 39\n",
    "\n",
    "c. 42\n",
    "\n",
    "d. 35.5\n"
   ]
  },
  {
   "cell_type": "code",
   "execution_count": 16,
   "id": "1cabac91",
   "metadata": {},
   "outputs": [
    {
     "name": "stdout",
     "output_type": "stream",
     "text": [
      "the median of the data is : 39.0\n"
     ]
    }
   ],
   "source": [
    "import statistics as sts\n",
    "\n",
    "data = [11, 39, 74, 42, 39, 78, 38, 25]\n",
    "\n",
    "data_median = sts.median(data)\n",
    "\n",
    "print(\"the median of the data is :\",data_median)"
   ]
  },
  {
   "cell_type": "markdown",
   "id": "d5f378ed",
   "metadata": {},
   "source": [
    "10. The front row in a movie theatre has 23 seats. If you were asked to sit in the seat that\n",
    "occupied the median position, in which seat would you have to sit?\n",
    "\n",
    "a. 2\n",
    "\n",
    "b. 11\n",
    "\n",
    "c. 22\n",
    "\n",
    "d. 12\n"
   ]
  },
  {
   "cell_type": "code",
   "execution_count": 23,
   "id": "2b31faa2",
   "metadata": {},
   "outputs": [
    {
     "name": "stdout",
     "output_type": "stream",
     "text": [
      "the median position of seats is : 12\n"
     ]
    }
   ],
   "source": [
    "import statistics as sts\n",
    "\n",
    "n=23\n",
    "seats_numbers =range(1,n+1) \n",
    "\n",
    "seat_median = sts.median(seats_numbers)\n",
    "\n",
    "print(\"the median position of seats is :\",seat_median)"
   ]
  },
  {
   "cell_type": "markdown",
   "id": "b60dfddb",
   "metadata": {},
   "source": [
    "11. What is the median score achieved by a student who recorded the following scores on 10\n",
    "math quizzes?\n",
    "\n",
    "68, 55, 70, 62, 71, 58, 81, 82, 63, 79\n",
    "\n",
    "a. 68\n",
    "\n",
    "b. 71\n",
    "\n",
    "c. 69\n",
    "\n",
    "d. 79\n"
   ]
  },
  {
   "cell_type": "code",
   "execution_count": 24,
   "id": "8dc23d64",
   "metadata": {},
   "outputs": [
    {
     "name": "stdout",
     "output_type": "stream",
     "text": [
      "the median score of students is : 69.0\n"
     ]
    }
   ],
   "source": [
    "import statistics as sts\n",
    "\n",
    "scores = [68, 55, 70, 62, 71, 58, 81, 82, 63, 79]\n",
    "\n",
    "score_median = sts.median(scores)\n",
    "\n",
    "print(\"the median score of students is :\",score_median)"
   ]
  },
  {
   "cell_type": "markdown",
   "id": "f41b9d84",
   "metadata": {},
   "source": [
    "12. The number of cola sold by each of 30 salesperson is as follows:\n",
    "\n",
    "42, 6, 21, 10, 8, 11, 12, 36, 17, 16, 15, 18, 40, 24, 21, 23, 24, 24, 29, 16, 32, 31, 10, 30,\n",
    "45, 32, 18, 40, 12, 20\n",
    "\n",
    "What is the median number of colas sold by the 30 salesperson?\n",
    "\n",
    "a. 18\n",
    "\n",
    "b. 21\n",
    "\n",
    "c. 24\n",
    "\n",
    "d. 32\n"
   ]
  },
  {
   "cell_type": "code",
   "execution_count": 25,
   "id": "a7bd7459",
   "metadata": {},
   "outputs": [
    {
     "name": "stdout",
     "output_type": "stream",
     "text": [
      "the median number of colas sold by the 30 salesperson : 21.0\n"
     ]
    }
   ],
   "source": [
    "import statistics as sts\n",
    "\n",
    "cola_sold= [42, 6, 21, 10, 8, 11, 12, 36, 17, 16, 15, 18, 40, 24, 21, 23, 24, 24, 29, 16, 32, 31, 10, 30, 45, 32, 18, 40, 12, 20]\n",
    "\n",
    "median_cola_sold = sts.median(cola_sold)\n",
    "\n",
    "print(\"the median number of colas sold by the 30 salesperson :\",median_cola_sold)"
   ]
  },
  {
   "cell_type": "markdown",
   "id": "29ad02a1",
   "metadata": {},
   "source": [
    "13. Which of the following measures can be determined for quantitative data?\n",
    "\n",
    "a. Mean\n",
    "\n",
    "b. Median\n",
    "\n",
    "c. Mode\n",
    "\n",
    "d. All of these\n"
   ]
  },
  {
   "cell_type": "markdown",
   "id": "975b1a4a",
   "metadata": {},
   "source": [
    "d.All of these"
   ]
  },
  {
   "cell_type": "markdown",
   "id": "91521637",
   "metadata": {},
   "source": [
    "14. Which of the following measures can be calculated for qualitative data?\n",
    "\n",
    "a. Mean\n",
    "\n",
    "b. Median\n",
    "\n",
    "c. Mode\n",
    "\n",
    "d. All of these\n"
   ]
  },
  {
   "cell_type": "markdown",
   "id": "44fe92f3",
   "metadata": {},
   "source": [
    "c.Mode"
   ]
  },
  {
   "cell_type": "markdown",
   "id": "d43ca92b",
   "metadata": {},
   "source": [
    "15. What is the mode of the following numbers?\n",
    "\n",
    "12, 11, 14, 10, 8, 13, 11, 9\n",
    "\n",
    "a. 11\n",
    "\n",
    "b. 10\n",
    "\n",
    "c. 14\n",
    "\n",
    "d. 8\n"
   ]
  },
  {
   "cell_type": "code",
   "execution_count": 26,
   "id": "11797c2e",
   "metadata": {},
   "outputs": [
    {
     "name": "stdout",
     "output_type": "stream",
     "text": [
      "the mode of numbers is : 11\n"
     ]
    }
   ],
   "source": [
    "import statistics as sts\n",
    "\n",
    "numbers = [12, 11, 14, 10, 8, 13, 11, 9]\n",
    "\n",
    "numbers_mode = sts.mode(numbers)\n",
    "\n",
    "print(\"the mode of numbers is :\",numbers_mode)"
   ]
  },
  {
   "cell_type": "markdown",
   "id": "970fc49b",
   "metadata": {},
   "source": [
    "16. What are the modes of the following sets of numbers? \n",
    "\n",
    "a. 4, 13, 6, 9, 10, 5, 6\n",
    "\n",
    "b. 17, 10, 15, 15, 13, 19, 16, 13, 16, 16\n"
   ]
  },
  {
   "cell_type": "code",
   "execution_count": 30,
   "id": "acf7deb6",
   "metadata": {},
   "outputs": [
    {
     "name": "stdout",
     "output_type": "stream",
     "text": [
      "a.the mode of numbers is : 6\n",
      "b.the mode of numbers is : 16\n"
     ]
    }
   ],
   "source": [
    "import statistics as sts\n",
    "\n",
    "numbers01 = [4, 13, 6, 9, 10, 5, 6]\n",
    "\n",
    "numbers01_mode = sts.mode(numbers01)\n",
    "\n",
    "print(\"a.the mode of numbers is :\",numbers01_mode)\n",
    "\n",
    "numbers02 = [17, 10, 15, 15, 13, 19, 16, 13, 16, 16]\n",
    "\n",
    "numbers02_mode = sts.mode(numbers02)\n",
    "\n",
    "print(\"b.the mode of numbers is :\",numbers02_mode)\n"
   ]
  },
  {
   "cell_type": "code",
   "execution_count": null,
   "id": "c3def8a5",
   "metadata": {},
   "outputs": [],
   "source": []
  }
 ],
 "metadata": {
  "kernelspec": {
   "display_name": "Python 3 (ipykernel)",
   "language": "python",
   "name": "python3"
  },
  "language_info": {
   "codemirror_mode": {
    "name": "ipython",
    "version": 3
   },
   "file_extension": ".py",
   "mimetype": "text/x-python",
   "name": "python",
   "nbconvert_exporter": "python",
   "pygments_lexer": "ipython3",
   "version": "3.11.5"
  }
 },
 "nbformat": 4,
 "nbformat_minor": 5
}

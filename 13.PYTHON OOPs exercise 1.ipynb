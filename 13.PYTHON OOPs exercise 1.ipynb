{
 "cells": [
  {
   "cell_type": "markdown",
   "id": "0fb5ac42",
   "metadata": {},
   "source": [
    "1.Create a class called Rectangle with attributes width and height. The class should prevent the width and height attributes from being set to negative values. Add methods to calculate the area and perimeter of the rectangle.\n"
   ]
  },
  {
   "cell_type": "code",
   "execution_count": 9,
   "id": "768310b9",
   "metadata": {},
   "outputs": [
    {
     "name": "stdout",
     "output_type": "stream",
     "text": [
      "please enter positive measurement!\n"
     ]
    }
   ],
   "source": [
    "class Rectangle:\n",
    "    width = 0.0\n",
    "    height =0.0\n",
    "    \n",
    "    \n",
    "    #method to calculate area\n",
    "    def calculate_area(self):\n",
    "        print(\"area of room = \", self.width * self.height)\n",
    "        \n",
    "    #method to calculate perimeter\n",
    "    def calculate_perimeter(self):\n",
    "        print(\"perimeter of room = \", 2*(self.width + self.height))\n",
    "        \n",
    "#create object of rectangle class\n",
    "result = Rectangle()\n",
    "\n",
    "#assaign values to all the attributes\n",
    "result.width = -20\n",
    "result.height = 30\n",
    "\n",
    "#access method inside class\n",
    "if result.width<0 or result.height<0:\n",
    "    print(\"please enter positive measurement!\")\n",
    "else:\n",
    "    result.calculate_area()\n",
    "    result.calculate_perimeter()\n"
   ]
  },
  {
   "cell_type": "markdown",
   "id": "053250c7",
   "metadata": {},
   "source": [
    "2.Create a class called Employee with attributes name, age, position, and salary. Add methods to give the employee a raise, and to print out their information in a formatted way.\n"
   ]
  },
  {
   "cell_type": "code",
   "execution_count": 21,
   "id": "6e7764dc",
   "metadata": {},
   "outputs": [
    {
     "name": "stdout",
     "output_type": "stream",
     "text": [
      "name : duaa\n",
      "age : 30\n",
      "position : data scientist\n",
      "salary: 55000\n",
      "mr/mrs duaa,CONGRATULATIONS on your salary increase, your hard work and dedication have paid off and you deserve it.Your new salary is 75000 \n",
      "your updated details are given below\n",
      "name : duaa\n",
      "age : 30\n",
      "position : data scientist\n",
      "salary: 75000\n"
     ]
    }
   ],
   "source": [
    "class Employee:\n",
    "    name =\"\"\n",
    "    age =\"\"\n",
    "    position =\"\"\n",
    "    salary =\"\"\n",
    "    \n",
    "    \n",
    "    #method to print out their information \n",
    "    def Employee_details(self):\n",
    "        print(\"name :\",self.name)\n",
    "        print(\"age :\",self.age)\n",
    "        print(\"position :\",self.position)\n",
    "        print(\"salary:\",self.salary)\n",
    "        \n",
    "    def raised_employee(self):\n",
    "        print(f\"mr/mrs {self.name},CONGRATULATIONS on your salary increase, your hard work and dedication have paid off and you deserve it.Your new salary is 75000 \")\n",
    "        \n",
    "    def new_details(self):\n",
    "        print(\"your updated details are given below\")\n",
    "        print(\"name :\",self.name)\n",
    "        print(\"age :\",self.age)\n",
    "        print(\"position :\",self.position)\n",
    "        print(\"salary: 75000\")\n",
    "        \n",
    "#create object of employee class\n",
    "result = Employee()\n",
    "\n",
    "#assaign value to all attributes\n",
    "result.name =\"duaa\"\n",
    "result.age = 30\n",
    "result.position = \"data scientist\" \n",
    "result.salary = 55000\n",
    "        \n",
    "#access method inside the class\n",
    "result.Employee_details()\n",
    "result.raised_employee()\n",
    "result.new_details()"
   ]
  },
  {
   "cell_type": "markdown",
   "id": "21d7c47f",
   "metadata": {},
   "source": [
    "3.Create a class called Fraction with attributes numerator and denominator. Add methods to add, subtract, multiply, and divide two fractions. Also, add a method to simplify the fraction to its lowest terms.\n"
   ]
  },
  {
   "cell_type": "code",
   "execution_count": 23,
   "id": "993e6b1d",
   "metadata": {},
   "outputs": [
    {
     "name": "stdout",
     "output_type": "stream",
     "text": [
      "the sum is  60\n",
      "the difference is  30\n",
      "the product is  675\n",
      "the fraction is  3\n",
      "the simplified fraction is  0\n"
     ]
    }
   ],
   "source": [
    "class Fraction:\n",
    "    numerator = 0\n",
    "    denominator = 0\n",
    "    \n",
    "    # method to print out their sum\n",
    "    def add(self):\n",
    "        print(\"the sum is \", self.numerator + self.denominator)\n",
    "    def subtract(self):\n",
    "        print(\"the difference is \", self.numerator - self.denominator)\n",
    "    def multiply(self):\n",
    "        print(\"the product is \", self.numerator * self.denominator)\n",
    "    def divide(self):\n",
    "        print(\"the fraction is \", self.numerator // self.denominator)\n",
    "    def simple_fraction(self):\n",
    "        print(\"the simplified fraction is \", self.numerator % self.denominator)\n",
    "        \n",
    "#create object of Fraction class\n",
    "result = Fraction()\n",
    "\n",
    "#assaign values to all attributes\n",
    "result.numerator = 45\n",
    "result.denominator = 15\n",
    "\n",
    "#access method inside the class\n",
    "result.add()\n",
    "result.subtract()\n",
    "result.multiply()\n",
    "result.divide()\n",
    "result.simple_fraction()"
   ]
  },
  {
   "cell_type": "markdown",
   "id": "c9fd63ae",
   "metadata": {},
   "source": [
    "4.Create a class called Person with attributes name and age. Add a method to calculate the age difference between two people.\n"
   ]
  },
  {
   "cell_type": "code",
   "execution_count": 3,
   "id": "5bfb1cd1",
   "metadata": {},
   "outputs": [
    {
     "name": "stdout",
     "output_type": "stream",
     "text": [
      "the age difference is  22\n"
     ]
    }
   ],
   "source": [
    "class Person:\n",
    "    name_1= \"\"\n",
    "    age_1= 0\n",
    "    name_2 =\"\"\n",
    "    age_2 =0\n",
    "    \n",
    "    def age_difference(self):\n",
    "        ad = self.age_1 - self.age_2\n",
    "        if ad <0:\n",
    "            print(\"the age difference is \", -(ad))\n",
    "        else:\n",
    "            print(\"the age diffence is \", ad)\n",
    "            \n",
    "# create object for Person class\n",
    "result = Person()\n",
    "\n",
    "#assaign values to all atributes\n",
    "result.name_1 = \"duaa\"\n",
    "result.age_1 = 2\n",
    "result.name_2 =\"naima\" \n",
    "result.age_2 = 24\n",
    "\n",
    "#access method inside the class\n",
    "result.age_difference()\n"
   ]
  },
  {
   "cell_type": "markdown",
   "id": "402e51b8",
   "metadata": {},
   "source": [
    "5.Create a class called Playlist with a list of songs as an attribute. Add methods to add and remove songs from the playlist, and to shuffle the playlist.\n"
   ]
  },
  {
   "cell_type": "code",
   "execution_count": 51,
   "id": "6090d1e6",
   "metadata": {},
   "outputs": [
    {
     "name": "stdout",
     "output_type": "stream",
     "text": [
      "agar tum  is added to the list\n",
      "the new list of the songs is : ['app ki nezron ne samja', 'chand sifarish', 'first class', 'kaun tujhe', 'agar tum ']\n",
      "==================================\n",
      "first class is removed from the list\n",
      "the new list of the songs is : ['app ki nezron ne samja', 'chand sifarish', 'kaun tujhe', 'agar tum ']\n",
      "==================================\n",
      "the shuffled list is : ['chand sifarish', 'kaun tujhe', 'app ki nezron ne samja', 'agar tum ']\n"
     ]
    }
   ],
   "source": [
    "class Playlist:\n",
    "    songs = []\n",
    "    \n",
    "    def add(self,song):\n",
    "        self.songs.append(song)\n",
    "        print(f\"{song} is added to the list\")\n",
    "        print(f\"the new list of the songs is :\",self.songs)\n",
    "        print(\"==================================\")\n",
    "    def remove(self,song):\n",
    "        self.songs.remove(song)\n",
    "        print(f\"{song} is removed from the list\")\n",
    "        print(\"the new list of the songs is :\",self.songs)\n",
    "        print(\"==================================\")   \n",
    "    def shuffle(self,old_index,new_index):\n",
    "        x = self.songs.pop(old_index)\n",
    "        y = self.songs.insert(new_index,x)\n",
    "        print(\"the shuffled list is :\",self.songs)\n",
    "        \n",
    "        \n",
    "result = Playlist()\n",
    "\n",
    "result.songs = [\"app ki nezron ne samja\",\"chand sifarish\",\"first class\",\"kaun tujhe\"]\n",
    "\n",
    "\n",
    "result.add(\"agar tum \")\n",
    "result.remove(\"first class\")\n",
    "result.shuffle(0,2)\n",
    "\n",
    "\n"
   ]
  },
  {
   "cell_type": "markdown",
   "id": "b111c8dc",
   "metadata": {},
   "source": [
    "6.Create a class called BankAccount with attributes balance and account_number. Add methods to transfer money between accounts and to print out the transaction history of the account.\n"
   ]
  },
  {
   "cell_type": "code",
   "execution_count": 57,
   "id": "13388b82",
   "metadata": {},
   "outputs": [
    {
     "name": "stdout",
     "output_type": "stream",
     "text": [
      " 'CONGRATULATIONS' your transfer of 5000 rupees to account number 987654321 is successfully completed.\n",
      "your current bank balance is 20000 rupees\n"
     ]
    }
   ],
   "source": [
    "class BankAccount:\n",
    "    balance1 = 0\n",
    "    account_number1 = 0\n",
    "    balance2 = 0\n",
    "    account_number2 = 0\n",
    "     \n",
    "    def transfer_money(self,money):\n",
    "        balance = self.balance1 - money\n",
    "        \n",
    "        print(f\" 'CONGRATULATIONS' your transfer of {money} rupees to account number {self.account_number2} is successfully completed.\" )\n",
    "        print(f\"your current bank balance is {balance} rupees\")\n",
    "result = BankAccount()\n",
    "\n",
    "result.balance1 = 25000\n",
    "result.balance2 = 10000\n",
    "result.account_number1 = 123456789\n",
    "result.account_number2 = 987654321\n",
    "\n",
    "result.transfer_money(5000)"
   ]
  },
  {
   "cell_type": "markdown",
   "id": "e029a4a3",
   "metadata": {},
   "source": [
    "7.Create a class called Deck with a list of cards as an attribute. Add methods to shuffle the deck, draw a card from the deck, and add a card to the deck.\n"
   ]
  },
  {
   "cell_type": "code",
   "execution_count": 1,
   "id": "1e9cf194",
   "metadata": {},
   "outputs": [
    {
     "name": "stdout",
     "output_type": "stream",
     "text": [
      "5 of Spades\n"
     ]
    }
   ],
   "source": [
    " import random\n",
    "\n",
    "class Card:\n",
    "    def __init__(self, suit, value):\n",
    "        self.suit = suit\n",
    "        self.value = value\n",
    "\n",
    "    def __repr__(self):\n",
    "        return f\"{self.value} of {self.suit}\"\n",
    "\n",
    "class Deck:\n",
    "    def __init__(self):\n",
    "        suits = ['Hearts', 'Diamonds', 'Clubs', 'Spades']\n",
    "        values = ['2', '3', '4', '5', '6', '7', '8', '9', '10', 'Jack', 'Queen', 'King', 'Ace']\n",
    "        self.cards = [Card(suit, value) for suit in suits for value in values]\n",
    "\n",
    "    def shuffle(self):\n",
    "        random.shuffle(self.cards)\n",
    "\n",
    "    def draw_card(self):\n",
    "        return self.cards.pop() if self.cards else None\n",
    "\n",
    "    def add_card(self, card):\n",
    "        self.cards.append(card)\n",
    "\n",
    "# Example usage:\n",
    "result = Deck()\n",
    "result.shuffle()\n",
    "print(result.draw_card())  # Draws a random card from the deck\n"
   ]
  },
  {
   "cell_type": "markdown",
   "id": "f11913f9",
   "metadata": {},
   "source": [
    "8.Create a class called Animal with the properties name, species, and sound. Create a method called make_sound that prints the sound of the animal.\n"
   ]
  },
  {
   "cell_type": "code",
   "execution_count": 16,
   "id": "1abc6461",
   "metadata": {},
   "outputs": [
    {
     "name": "stdout",
     "output_type": "stream",
     "text": [
      "the sound of cat:\n",
      "meow... meow..\n",
      "the sound of dog:\n",
      "bow bow\n"
     ]
    }
   ],
   "source": [
    "class Animal:\n",
    "    name01= \"\"\n",
    "    species01 =\"\"\n",
    "    sound01 =\"\"\n",
    "    name02= \"\"\n",
    "    species02 =\"\"\n",
    "    sound02 =\"\"\n",
    "    def make_sound(self,animal):\n",
    "        if animal == self.name01:\n",
    "            print(self.sound01)\n",
    "        else:\n",
    "            print(self.sound02)\n",
    "\n",
    "            \n",
    "result = Animal()\n",
    "\n",
    "result.name01= \"cat\"\n",
    "result.species01 =\"Felis catus\"\n",
    "result.sound01 =\"meow... meow..\"\n",
    "result.name02= \"dog\"\n",
    "result.species02 =\"Canis lupus familiaris\"\n",
    "result.sound02 =\"bow bow\"\n",
    "\n",
    "print(f\"the sound of cat:\")\n",
    "result.make_sound(\"cat\")\n",
    "print(f\"the sound of dog:\")\n",
    "result.make_sound(\"dog\")"
   ]
  },
  {
   "cell_type": "markdown",
   "id": "ef4b71bd",
   "metadata": {},
   "source": [
    "9.Create a subclass of Animal called Dog. The Dog class should have an additional property called breed. Override the make_sound method to print \"Woof!\".\n"
   ]
  },
  {
   "cell_type": "code",
   "execution_count": 35,
   "id": "62059bcd",
   "metadata": {},
   "outputs": [
    {
     "name": "stdout",
     "output_type": "stream",
     "text": [
      "the sound is\n",
      "woof!\n"
     ]
    }
   ],
   "source": [
    "class Animal:\n",
    "    def sound(self):\n",
    "        print(\"the sound is\")\n",
    "        \n",
    "class Dog(Animal):\n",
    "    def __init__(self,breed):\n",
    "        self.breed = breed\n",
    "        \n",
    "    def make_sound(self):\n",
    "        print(\"woof!\")\n",
    "result1 = Animal()       \n",
    "result2 = Dog(\"labrador\")\n",
    "\n",
    "result1.sound()\n",
    "result2.make_sound()\n",
    "    "
   ]
  },
  {
   "cell_type": "markdown",
   "id": "1e011097",
   "metadata": {},
   "source": [
    "10.Create another subclass of Animal called Cat. The Cat class should have an additional property called color. Override the make_sound method to print \"Meow!\"."
   ]
  },
  {
   "cell_type": "code",
   "execution_count": 36,
   "id": "1949aa27",
   "metadata": {},
   "outputs": [
    {
     "name": "stdout",
     "output_type": "stream",
     "text": [
      "the sound is\n",
      "Meow!\n"
     ]
    }
   ],
   "source": [
    "class Animal:\n",
    "    def sound(self):\n",
    "        print(\"the sound is\")\n",
    "        \n",
    "class Cat(Animal):\n",
    "    def __init__(self,colour):\n",
    "        self.colour = colour\n",
    "        \n",
    "    def make_sound(self):\n",
    "        print(\"Meow!\")\n",
    "        \n",
    "result1= Animal()     \n",
    "result2 = Cat(\"white\")\n",
    "\n",
    "result1.sound()\n",
    "result2.make_sound()\n",
    "    "
   ]
  },
  {
   "cell_type": "markdown",
   "id": "13cc083e",
   "metadata": {},
   "source": [
    "11.Create a class called Zoo with a property animals that is a list of Animal objects. Create a method called add_animal that adds an animal to the list. Create a method called list_animals that prints the name and species of each animal in the list.\n"
   ]
  },
  {
   "cell_type": "code",
   "execution_count": 55,
   "id": "cab318e3",
   "metadata": {},
   "outputs": [
    {
     "name": "stdout",
     "output_type": "stream",
     "text": [
      " new animal is added to the list of animals\n",
      "the current list is : ['cat:Felis catus', 'dog:Canis lupus familiaris', 'lion:Panthera leo', 'tiger:Panthera tigris ', 'giraffe :Giraffa camelopardalis']\n"
     ]
    }
   ],
   "source": [
    "class Zoo:\n",
    "    animals =[]\n",
    "    \n",
    "    def add_animal(self,animal):\n",
    "        self.animals.append(animal)\n",
    "        print(\" new animal is added to the list of animals\")\n",
    "        \n",
    "    def list_animals(self):\n",
    "        animal_list = ()\n",
    "        print(\"the current list is :\",self.animals)\n",
    "        \n",
    "result = Zoo()\n",
    "\n",
    "result.animals = [\"cat:Felis catus\",\"dog:Canis lupus familiaris\",\"lion:Panthera leo\",\"tiger:Panthera tigris \"]\n",
    "\n",
    "result.add_animal(\"giraffe :Giraffa camelopardalis\")\n",
    "result.list_animals()"
   ]
  },
  {
   "cell_type": "markdown",
   "id": "a21adadc",
   "metadata": {},
   "source": [
    "12.Create an instance of Zoo. Add an instance of Dog and an instance of Cat to the Zoo. Call the list_animals method to print the information of all the animals in the zoo.\n"
   ]
  },
  {
   "cell_type": "code",
   "execution_count": 17,
   "id": "c6fb1b7c",
   "metadata": {},
   "outputs": [
    {
     "name": "stdout",
     "output_type": "stream",
     "text": [
      "'Dog' sounds 'bow bow' and thier species name is 'Canis lupus familiaris'\n",
      "'Cat' sounds 'meow meow' and thier species name is 'Felis catus'\n"
     ]
    }
   ],
   "source": [
    "class Animal:\n",
    "    def __init__(self, name,species,sound):\n",
    "        self.species = species\n",
    "        self.sound = sound\n",
    "        self.name = name\n",
    "    def __str__(self):\n",
    "        return f\"'{self.name}' sounds '{self.sound}' and thier species name is '{self.species}'\"\n",
    "\n",
    "class Dog(Animal):\n",
    "    def __init__(self, sound,species):\n",
    "        super().__init__(\"Dog\", sound,species)\n",
    "\n",
    "class Cat(Animal):\n",
    "    def __init__(self, sound,species):\n",
    "        super().__init__(\"Cat\", sound,species)\n",
    "\n",
    "class Zoo:\n",
    "    def __init__(self):\n",
    "        self.animals = []\n",
    "\n",
    "    def add_animal(self, animal):\n",
    "        self.animals.append(animal)\n",
    "\n",
    "    def list_animals(self):\n",
    "        for animal in self.animals:\n",
    "            print(animal)\n",
    "\n",
    "# Create an instance of Zoo\n",
    "my_zoo = Zoo()\n",
    "\n",
    "# Add an instance of Dog and an instance of Cat to the Zoo\n",
    "my_zoo.add_animal(Dog(\"Canis lupus familiaris\",\"bow bow\"))\n",
    "my_zoo.add_animal(Cat(\"Felis catus\",\"meow meow\"))\n",
    "\n",
    "# Call the list_animals method to print the information of all the animals in the zoo\n",
    "my_zoo.list_animals()\n"
   ]
  },
  {
   "cell_type": "markdown",
   "id": "73bb1a03",
   "metadata": {},
   "source": [
    "13.Create a subclass of Dog called GuideDog. The GuideDog class should have an additional property called trained_for. Override the make_sound method to print \"Bark!\".\n"
   ]
  },
  {
   "cell_type": "code",
   "execution_count": 7,
   "id": "7985c33b",
   "metadata": {},
   "outputs": [
    {
     "name": "stdout",
     "output_type": "stream",
     "text": [
      "make some sound\n",
      "dog is trained for security \n",
      "the sound is :\n",
      "Bark!\n"
     ]
    }
   ],
   "source": [
    "class Dog:\n",
    "    name=\"\"\n",
    "    def sound(self):\n",
    "        print(\"make some sound\")\n",
    "class GuideDog(Dog):\n",
    "    def trained_for(self):\n",
    "        print(\"dog is trained for security \")\n",
    "    def make_sound(self):\n",
    "        print(\"the sound is :\")\n",
    "        print(\"Bark!\")\n",
    "        \n",
    "result1 = Dog()\n",
    "result2 = GuideDog()\n",
    "result1.name = \"dog\"\n",
    "\n",
    "result1.sound()\n",
    "result2.trained_for()\n",
    "result2.make_sound()"
   ]
  },
  {
   "cell_type": "markdown",
   "id": "f422f8af",
   "metadata": {},
   "source": []
  },
  {
   "cell_type": "markdown",
   "id": "f2eb7215",
   "metadata": {},
   "source": []
  }
 ],
 "metadata": {
  "kernelspec": {
   "display_name": "Python 3 (ipykernel)",
   "language": "python",
   "name": "python3"
  },
  "language_info": {
   "codemirror_mode": {
    "name": "ipython",
    "version": 3
   },
   "file_extension": ".py",
   "mimetype": "text/x-python",
   "name": "python",
   "nbconvert_exporter": "python",
   "pygments_lexer": "ipython3",
   "version": "3.11.5"
  }
 },
 "nbformat": 4,
 "nbformat_minor": 5
}
